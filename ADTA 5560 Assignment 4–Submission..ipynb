{
 "cells": [
  {
   "cell_type": "markdown",
   "metadata": {},
   "source": [
    "### Library of model"
   ]
  },
  {
   "cell_type": "code",
   "execution_count": 123,
   "metadata": {},
   "outputs": [],
   "source": [
    "import pandas as pd\n",
    "from pandas import read_csv\n",
    "import numpy as np\n",
    "%matplotlib inline\n",
    "import matplotlib.pyplot as plt\n",
    "\n",
    "import warnings\n",
    "warnings.filterwarnings('ignore')"
   ]
  },
  {
   "cell_type": "code",
   "execution_count": 124,
   "metadata": {},
   "outputs": [],
   "source": [
    "from tensorflow.keras.models import Sequential\n",
    "#sequential data reader\n",
    "\n",
    "from tensorflow.keras.layers import LSTM\n",
    "#Long short term memory\n",
    "\n",
    "from tensorflow.keras.layers import Dropout\n",
    "from tensorflow.keras.layers import Dense\n",
    "#Dense is a fully connected layer or FFNN(feedforward neural network).\n"
   ]
  },
  {
   "cell_type": "code",
   "execution_count": 125,
   "metadata": {},
   "outputs": [],
   "source": [
    "from tensorflow.keras.preprocessing.sequence import TimeseriesGenerator\n",
    "from sklearn.preprocessing import MinMaxScaler"
   ]
  },
  {
   "cell_type": "markdown",
   "metadata": {},
   "source": [
    "### Data Set: APPL(Apple stock: 01/01/2014-06/30/2019)\n",
    "from https://finance.yahoo.com/quote/AAPL/history/"
   ]
  },
  {
   "cell_type": "code",
   "execution_count": 126,
   "metadata": {},
   "outputs": [],
   "source": [
    "dir_path_dataset_1 = 'AAPL.csv'"
   ]
  },
  {
   "cell_type": "markdown",
   "metadata": {},
   "source": [
    "### Load Dataset"
   ]
  },
  {
   "cell_type": "code",
   "execution_count": 127,
   "metadata": {},
   "outputs": [
    {
     "data": {
      "text/html": [
       "<div>\n",
       "<style scoped>\n",
       "    .dataframe tbody tr th:only-of-type {\n",
       "        vertical-align: middle;\n",
       "    }\n",
       "\n",
       "    .dataframe tbody tr th {\n",
       "        vertical-align: top;\n",
       "    }\n",
       "\n",
       "    .dataframe thead th {\n",
       "        text-align: right;\n",
       "    }\n",
       "</style>\n",
       "<table border=\"1\" class=\"dataframe\">\n",
       "  <thead>\n",
       "    <tr style=\"text-align: right;\">\n",
       "      <th></th>\n",
       "      <th>Date</th>\n",
       "      <th>Open</th>\n",
       "      <th>High</th>\n",
       "      <th>Low</th>\n",
       "      <th>Close</th>\n",
       "      <th>Adj Close</th>\n",
       "      <th>Volume</th>\n",
       "    </tr>\n",
       "  </thead>\n",
       "  <tbody>\n",
       "    <tr>\n",
       "      <th>0</th>\n",
       "      <td>2014-01-02</td>\n",
       "      <td>19.845715</td>\n",
       "      <td>19.893929</td>\n",
       "      <td>19.715000</td>\n",
       "      <td>19.754642</td>\n",
       "      <td>17.542171</td>\n",
       "      <td>234684800</td>\n",
       "    </tr>\n",
       "    <tr>\n",
       "      <th>1</th>\n",
       "      <td>2014-01-03</td>\n",
       "      <td>19.745001</td>\n",
       "      <td>19.775000</td>\n",
       "      <td>19.301071</td>\n",
       "      <td>19.320715</td>\n",
       "      <td>17.156841</td>\n",
       "      <td>392467600</td>\n",
       "    </tr>\n",
       "    <tr>\n",
       "      <th>2</th>\n",
       "      <td>2014-01-06</td>\n",
       "      <td>19.194643</td>\n",
       "      <td>19.528570</td>\n",
       "      <td>19.057142</td>\n",
       "      <td>19.426071</td>\n",
       "      <td>17.250401</td>\n",
       "      <td>412610800</td>\n",
       "    </tr>\n",
       "    <tr>\n",
       "      <th>3</th>\n",
       "      <td>2014-01-07</td>\n",
       "      <td>19.440001</td>\n",
       "      <td>19.498571</td>\n",
       "      <td>19.211430</td>\n",
       "      <td>19.287144</td>\n",
       "      <td>17.127035</td>\n",
       "      <td>317209200</td>\n",
       "    </tr>\n",
       "    <tr>\n",
       "      <th>4</th>\n",
       "      <td>2014-01-08</td>\n",
       "      <td>19.243214</td>\n",
       "      <td>19.484285</td>\n",
       "      <td>19.238930</td>\n",
       "      <td>19.409286</td>\n",
       "      <td>17.235500</td>\n",
       "      <td>258529600</td>\n",
       "    </tr>\n",
       "  </tbody>\n",
       "</table>\n",
       "</div>"
      ],
      "text/plain": [
       "         Date       Open       High        Low      Close  Adj Close  \\\n",
       "0  2014-01-02  19.845715  19.893929  19.715000  19.754642  17.542171   \n",
       "1  2014-01-03  19.745001  19.775000  19.301071  19.320715  17.156841   \n",
       "2  2014-01-06  19.194643  19.528570  19.057142  19.426071  17.250401   \n",
       "3  2014-01-07  19.440001  19.498571  19.211430  19.287144  17.127035   \n",
       "4  2014-01-08  19.243214  19.484285  19.238930  19.409286  17.235500   \n",
       "\n",
       "      Volume  \n",
       "0  234684800  \n",
       "1  392467600  \n",
       "2  412610800  \n",
       "3  317209200  \n",
       "4  258529600  "
      ]
     },
     "execution_count": 127,
     "metadata": {},
     "output_type": "execute_result"
    }
   ],
   "source": [
    "df_all = pd.read_csv(dir_path_dataset_1)\n",
    "df_all.head(5)\n",
    "#Adj close = the closing price excluded dividend and split effect"
   ]
  },
  {
   "cell_type": "markdown",
   "metadata": {},
   "source": [
    "### Brief Exploratory Data Analysis (EDA)"
   ]
  },
  {
   "cell_type": "code",
   "execution_count": 128,
   "metadata": {},
   "outputs": [
    {
     "data": {
      "text/plain": [
       "(1382, 7)"
      ]
     },
     "execution_count": 128,
     "metadata": {},
     "output_type": "execute_result"
    }
   ],
   "source": [
    "df_all.shape"
   ]
  },
  {
   "cell_type": "code",
   "execution_count": 129,
   "metadata": {},
   "outputs": [
    {
     "data": {
      "text/plain": [
       "Date          object\n",
       "Open         float64\n",
       "High         float64\n",
       "Low          float64\n",
       "Close        float64\n",
       "Adj Close    float64\n",
       "Volume         int64\n",
       "dtype: object"
      ]
     },
     "execution_count": 129,
     "metadata": {},
     "output_type": "execute_result"
    }
   ],
   "source": [
    "df_all.dtypes"
   ]
  },
  {
   "cell_type": "code",
   "execution_count": 130,
   "metadata": {},
   "outputs": [
    {
     "data": {
      "text/html": [
       "<div>\n",
       "<style scoped>\n",
       "    .dataframe tbody tr th:only-of-type {\n",
       "        vertical-align: middle;\n",
       "    }\n",
       "\n",
       "    .dataframe tbody tr th {\n",
       "        vertical-align: top;\n",
       "    }\n",
       "\n",
       "    .dataframe thead th {\n",
       "        text-align: right;\n",
       "    }\n",
       "</style>\n",
       "<table border=\"1\" class=\"dataframe\">\n",
       "  <thead>\n",
       "    <tr style=\"text-align: right;\">\n",
       "      <th></th>\n",
       "      <th>Open</th>\n",
       "      <th>High</th>\n",
       "      <th>Low</th>\n",
       "      <th>Close</th>\n",
       "      <th>Adj Close</th>\n",
       "      <th>Volume</th>\n",
       "    </tr>\n",
       "  </thead>\n",
       "  <tbody>\n",
       "    <tr>\n",
       "      <th>count</th>\n",
       "      <td>1382.000000</td>\n",
       "      <td>1382.000000</td>\n",
       "      <td>1382.000000</td>\n",
       "      <td>1382.000000</td>\n",
       "      <td>1382.000000</td>\n",
       "      <td>1.382000e+03</td>\n",
       "    </tr>\n",
       "    <tr>\n",
       "      <th>mean</th>\n",
       "      <td>33.948871</td>\n",
       "      <td>34.247564</td>\n",
       "      <td>33.653907</td>\n",
       "      <td>33.959740</td>\n",
       "      <td>32.028576</td>\n",
       "      <td>1.670774e+08</td>\n",
       "    </tr>\n",
       "    <tr>\n",
       "      <th>std</th>\n",
       "      <td>9.725011</td>\n",
       "      <td>9.820676</td>\n",
       "      <td>9.635296</td>\n",
       "      <td>9.729731</td>\n",
       "      <td>9.981307</td>\n",
       "      <td>9.220445e+07</td>\n",
       "    </tr>\n",
       "    <tr>\n",
       "      <th>min</th>\n",
       "      <td>17.684999</td>\n",
       "      <td>17.911785</td>\n",
       "      <td>17.626785</td>\n",
       "      <td>17.849285</td>\n",
       "      <td>15.850214</td>\n",
       "      <td>4.590360e+07</td>\n",
       "    </tr>\n",
       "    <tr>\n",
       "      <th>25%</th>\n",
       "      <td>26.586875</td>\n",
       "      <td>26.826250</td>\n",
       "      <td>26.304375</td>\n",
       "      <td>26.501875</td>\n",
       "      <td>24.513500</td>\n",
       "      <td>1.045275e+08</td>\n",
       "    </tr>\n",
       "    <tr>\n",
       "      <th>50%</th>\n",
       "      <td>31.481250</td>\n",
       "      <td>31.712499</td>\n",
       "      <td>31.213750</td>\n",
       "      <td>31.458751</td>\n",
       "      <td>28.722552</td>\n",
       "      <td>1.423682e+08</td>\n",
       "    </tr>\n",
       "    <tr>\n",
       "      <th>75%</th>\n",
       "      <td>42.462499</td>\n",
       "      <td>42.804375</td>\n",
       "      <td>42.068751</td>\n",
       "      <td>42.324376</td>\n",
       "      <td>40.647752</td>\n",
       "      <td>2.034164e+08</td>\n",
       "    </tr>\n",
       "    <tr>\n",
       "      <th>max</th>\n",
       "      <td>57.695000</td>\n",
       "      <td>58.367500</td>\n",
       "      <td>57.445000</td>\n",
       "      <td>58.017502</td>\n",
       "      <td>56.208157</td>\n",
       "      <td>1.065523e+09</td>\n",
       "    </tr>\n",
       "  </tbody>\n",
       "</table>\n",
       "</div>"
      ],
      "text/plain": [
       "              Open         High          Low        Close    Adj Close  \\\n",
       "count  1382.000000  1382.000000  1382.000000  1382.000000  1382.000000   \n",
       "mean     33.948871    34.247564    33.653907    33.959740    32.028576   \n",
       "std       9.725011     9.820676     9.635296     9.729731     9.981307   \n",
       "min      17.684999    17.911785    17.626785    17.849285    15.850214   \n",
       "25%      26.586875    26.826250    26.304375    26.501875    24.513500   \n",
       "50%      31.481250    31.712499    31.213750    31.458751    28.722552   \n",
       "75%      42.462499    42.804375    42.068751    42.324376    40.647752   \n",
       "max      57.695000    58.367500    57.445000    58.017502    56.208157   \n",
       "\n",
       "             Volume  \n",
       "count  1.382000e+03  \n",
       "mean   1.670774e+08  \n",
       "std    9.220445e+07  \n",
       "min    4.590360e+07  \n",
       "25%    1.045275e+08  \n",
       "50%    1.423682e+08  \n",
       "75%    2.034164e+08  \n",
       "max    1.065523e+09  "
      ]
     },
     "execution_count": 130,
     "metadata": {},
     "output_type": "execute_result"
    }
   ],
   "source": [
    "df_all.describe()"
   ]
  },
  {
   "cell_type": "markdown",
   "metadata": {},
   "source": [
    "### Keep Only \"Close\" (for Closing Price) and Filter Our All Other Attributes"
   ]
  },
  {
   "cell_type": "code",
   "execution_count": 131,
   "metadata": {},
   "outputs": [],
   "source": [
    "df = df_all.iloc[:,4:5]\n",
    "# this will take close price to store at df"
   ]
  },
  {
   "cell_type": "code",
   "execution_count": 132,
   "metadata": {},
   "outputs": [
    {
     "data": {
      "text/html": [
       "<div>\n",
       "<style scoped>\n",
       "    .dataframe tbody tr th:only-of-type {\n",
       "        vertical-align: middle;\n",
       "    }\n",
       "\n",
       "    .dataframe tbody tr th {\n",
       "        vertical-align: top;\n",
       "    }\n",
       "\n",
       "    .dataframe thead th {\n",
       "        text-align: right;\n",
       "    }\n",
       "</style>\n",
       "<table border=\"1\" class=\"dataframe\">\n",
       "  <thead>\n",
       "    <tr style=\"text-align: right;\">\n",
       "      <th></th>\n",
       "      <th>Close</th>\n",
       "    </tr>\n",
       "  </thead>\n",
       "  <tbody>\n",
       "    <tr>\n",
       "      <th>0</th>\n",
       "      <td>19.754642</td>\n",
       "    </tr>\n",
       "    <tr>\n",
       "      <th>1</th>\n",
       "      <td>19.320715</td>\n",
       "    </tr>\n",
       "    <tr>\n",
       "      <th>2</th>\n",
       "      <td>19.426071</td>\n",
       "    </tr>\n",
       "    <tr>\n",
       "      <th>3</th>\n",
       "      <td>19.287144</td>\n",
       "    </tr>\n",
       "    <tr>\n",
       "      <th>4</th>\n",
       "      <td>19.409286</td>\n",
       "    </tr>\n",
       "  </tbody>\n",
       "</table>\n",
       "</div>"
      ],
      "text/plain": [
       "       Close\n",
       "0  19.754642\n",
       "1  19.320715\n",
       "2  19.426071\n",
       "3  19.287144\n",
       "4  19.409286"
      ]
     },
     "execution_count": 132,
     "metadata": {},
     "output_type": "execute_result"
    }
   ],
   "source": [
    "df.head()"
   ]
  },
  {
   "cell_type": "code",
   "execution_count": 133,
   "metadata": {},
   "outputs": [
    {
     "data": {
      "text/plain": [
       "<matplotlib.axes._subplots.AxesSubplot at 0x2f04535dd8>"
      ]
     },
     "execution_count": 133,
     "metadata": {},
     "output_type": "execute_result"
    },
    {
     "data": {
      "image/png": "[encoded data removed]",
      "text/plain": [
       "<matplotlib.figure.Figure at 0x2f04514a90>"
      ]
     },
     "metadata": {
      "needs_background": "light"
     },
     "output_type": "display_data"
    }
   ],
   "source": [
    "df.plot(figsize=(12,8))"
   ]
  },
  {
   "cell_type": "markdown",
   "metadata": {},
   "source": [
    "### Lenght of Input Time Series - Number of input Time Steps"
   ]
  },
  {
   "cell_type": "code",
   "execution_count": 134,
   "metadata": {},
   "outputs": [],
   "source": [
    "#Set the Lenght of the input sequence\n",
    "length60 = 60"
   ]
  },
  {
   "cell_type": "code",
   "execution_count": 135,
   "metadata": {},
   "outputs": [
    {
     "data": {
      "text/plain": [
       "60"
      ]
     },
     "execution_count": 135,
     "metadata": {},
     "output_type": "execute_result"
    }
   ],
   "source": [
    "length60"
   ]
  },
  {
   "cell_type": "markdown",
   "metadata": {},
   "source": [
    "### Time series Dataset: Train/ test split"
   ]
  },
  {
   "cell_type": "code",
   "execution_count": 136,
   "metadata": {},
   "outputs": [
    {
     "data": {
      "text/plain": [
       "1382"
      ]
     },
     "execution_count": 136,
     "metadata": {},
     "output_type": "execute_result"
    }
   ],
   "source": [
    "len(df)"
   ]
  },
  {
   "cell_type": "code",
   "execution_count": 137,
   "metadata": {},
   "outputs": [],
   "source": [
    "# set percentage of data used for testing\n",
    "test_percent = 0.1\n",
    "#10% of dataset is for testing"
   ]
  },
  {
   "cell_type": "code",
   "execution_count": 138,
   "metadata": {},
   "outputs": [
    {
     "data": {
      "text/plain": [
       "138.20000000000002"
      ]
     },
     "execution_count": 138,
     "metadata": {},
     "output_type": "execute_result"
    }
   ],
   "source": [
    "len(df)*test_percent"
   ]
  },
  {
   "cell_type": "markdown",
   "metadata": {},
   "source": [
    "### Split Data --> Train/Test"
   ]
  },
  {
   "cell_type": "code",
   "execution_count": 139,
   "metadata": {},
   "outputs": [
    {
     "data": {
      "text/plain": [
       "138.0"
      ]
     },
     "execution_count": 139,
     "metadata": {},
     "output_type": "execute_result"
    }
   ],
   "source": [
    "test_length = np.round(len(df)*test_percent)\n",
    "test_length"
   ]
  },
  {
   "cell_type": "code",
   "execution_count": 140,
   "metadata": {},
   "outputs": [
    {
     "data": {
      "text/plain": [
       "1244"
      ]
     },
     "execution_count": 140,
     "metadata": {},
     "output_type": "execute_result"
    }
   ],
   "source": [
    "#testing dataset starts at the index\n",
    "split_index = int(len(df)-test_length)\n",
    "split_index"
   ]
  },
  {
   "cell_type": "code",
   "execution_count": 141,
   "metadata": {},
   "outputs": [],
   "source": [
    "data_train = df.iloc[:split_index]\n",
    "data_test = df.iloc[split_index - length60 :]\n",
    "#the last 60 data of the training dataset until the end of the data to test the model"
   ]
  },
  {
   "cell_type": "code",
   "execution_count": 142,
   "metadata": {},
   "outputs": [
    {
     "data": {
      "text/html": [
       "<div>\n",
       "<style scoped>\n",
       "    .dataframe tbody tr th:only-of-type {\n",
       "        vertical-align: middle;\n",
       "    }\n",
       "\n",
       "    .dataframe tbody tr th {\n",
       "        vertical-align: top;\n",
       "    }\n",
       "\n",
       "    .dataframe thead th {\n",
       "        text-align: right;\n",
       "    }\n",
       "</style>\n",
       "<table border=\"1\" class=\"dataframe\">\n",
       "  <thead>\n",
       "    <tr style=\"text-align: right;\">\n",
       "      <th></th>\n",
       "      <th>Close</th>\n",
       "    </tr>\n",
       "  </thead>\n",
       "  <tbody>\n",
       "    <tr>\n",
       "      <th>0</th>\n",
       "      <td>19.754642</td>\n",
       "    </tr>\n",
       "    <tr>\n",
       "      <th>1</th>\n",
       "      <td>19.320715</td>\n",
       "    </tr>\n",
       "    <tr>\n",
       "      <th>2</th>\n",
       "      <td>19.426071</td>\n",
       "    </tr>\n",
       "    <tr>\n",
       "      <th>3</th>\n",
       "      <td>19.287144</td>\n",
       "    </tr>\n",
       "    <tr>\n",
       "      <th>4</th>\n",
       "      <td>19.409286</td>\n",
       "    </tr>\n",
       "  </tbody>\n",
       "</table>\n",
       "</div>"
      ],
      "text/plain": [
       "       Close\n",
       "0  19.754642\n",
       "1  19.320715\n",
       "2  19.426071\n",
       "3  19.287144\n",
       "4  19.409286"
      ]
     },
     "execution_count": 142,
     "metadata": {},
     "output_type": "execute_result"
    }
   ],
   "source": [
    "data_train.head(5)"
   ]
  },
  {
   "cell_type": "code",
   "execution_count": 143,
   "metadata": {},
   "outputs": [
    {
     "data": {
      "text/html": [
       "<div>\n",
       "<style scoped>\n",
       "    .dataframe tbody tr th:only-of-type {\n",
       "        vertical-align: middle;\n",
       "    }\n",
       "\n",
       "    .dataframe tbody tr th {\n",
       "        vertical-align: top;\n",
       "    }\n",
       "\n",
       "    .dataframe thead th {\n",
       "        text-align: right;\n",
       "    }\n",
       "</style>\n",
       "<table border=\"1\" class=\"dataframe\">\n",
       "  <thead>\n",
       "    <tr style=\"text-align: right;\">\n",
       "      <th></th>\n",
       "      <th>Close</th>\n",
       "    </tr>\n",
       "  </thead>\n",
       "  <tbody>\n",
       "    <tr>\n",
       "      <th>1239</th>\n",
       "      <td>46.205002</td>\n",
       "    </tr>\n",
       "    <tr>\n",
       "      <th>1240</th>\n",
       "      <td>44.172501</td>\n",
       "    </tr>\n",
       "    <tr>\n",
       "      <th>1241</th>\n",
       "      <td>43.680000</td>\n",
       "    </tr>\n",
       "    <tr>\n",
       "      <th>1242</th>\n",
       "      <td>42.122501</td>\n",
       "    </tr>\n",
       "    <tr>\n",
       "      <th>1243</th>\n",
       "      <td>42.400002</td>\n",
       "    </tr>\n",
       "  </tbody>\n",
       "</table>\n",
       "</div>"
      ],
      "text/plain": [
       "          Close\n",
       "1239  46.205002\n",
       "1240  44.172501\n",
       "1241  43.680000\n",
       "1242  42.122501\n",
       "1243  42.400002"
      ]
     },
     "execution_count": 143,
     "metadata": {},
     "output_type": "execute_result"
    }
   ],
   "source": [
    "data_train.tail(5)"
   ]
  },
  {
   "cell_type": "code",
   "execution_count": 144,
   "metadata": {},
   "outputs": [
    {
     "data": {
      "text/html": [
       "<div>\n",
       "<style scoped>\n",
       "    .dataframe tbody tr th:only-of-type {\n",
       "        vertical-align: middle;\n",
       "    }\n",
       "\n",
       "    .dataframe tbody tr th {\n",
       "        vertical-align: top;\n",
       "    }\n",
       "\n",
       "    .dataframe thead th {\n",
       "        text-align: right;\n",
       "    }\n",
       "</style>\n",
       "<table border=\"1\" class=\"dataframe\">\n",
       "  <thead>\n",
       "    <tr style=\"text-align: right;\">\n",
       "      <th></th>\n",
       "      <th>Close</th>\n",
       "    </tr>\n",
       "  </thead>\n",
       "  <tbody>\n",
       "    <tr>\n",
       "      <th>1184</th>\n",
       "      <td>55.959999</td>\n",
       "    </tr>\n",
       "    <tr>\n",
       "      <th>1185</th>\n",
       "      <td>54.470001</td>\n",
       "    </tr>\n",
       "    <tr>\n",
       "      <th>1186</th>\n",
       "      <td>54.560001</td>\n",
       "    </tr>\n",
       "    <tr>\n",
       "      <th>1187</th>\n",
       "      <td>54.592499</td>\n",
       "    </tr>\n",
       "    <tr>\n",
       "      <th>1188</th>\n",
       "      <td>55.007500</td>\n",
       "    </tr>\n",
       "  </tbody>\n",
       "</table>\n",
       "</div>"
      ],
      "text/plain": [
       "          Close\n",
       "1184  55.959999\n",
       "1185  54.470001\n",
       "1186  54.560001\n",
       "1187  54.592499\n",
       "1188  55.007500"
      ]
     },
     "execution_count": 144,
     "metadata": {},
     "output_type": "execute_result"
    }
   ],
   "source": [
    "data_test.head(5)\n",
    "#1244 - 60 = 1144"
   ]
  },
  {
   "cell_type": "code",
   "execution_count": 145,
   "metadata": {},
   "outputs": [
    {
     "data": {
      "text/html": [
       "<div>\n",
       "<style scoped>\n",
       "    .dataframe tbody tr th:only-of-type {\n",
       "        vertical-align: middle;\n",
       "    }\n",
       "\n",
       "    .dataframe tbody tr th {\n",
       "        vertical-align: top;\n",
       "    }\n",
       "\n",
       "    .dataframe thead th {\n",
       "        text-align: right;\n",
       "    }\n",
       "</style>\n",
       "<table border=\"1\" class=\"dataframe\">\n",
       "  <thead>\n",
       "    <tr style=\"text-align: right;\">\n",
       "      <th></th>\n",
       "      <th>Close</th>\n",
       "    </tr>\n",
       "  </thead>\n",
       "  <tbody>\n",
       "    <tr>\n",
       "      <th>1377</th>\n",
       "      <td>49.645000</td>\n",
       "    </tr>\n",
       "    <tr>\n",
       "      <th>1378</th>\n",
       "      <td>48.892502</td>\n",
       "    </tr>\n",
       "    <tr>\n",
       "      <th>1379</th>\n",
       "      <td>49.950001</td>\n",
       "    </tr>\n",
       "    <tr>\n",
       "      <th>1380</th>\n",
       "      <td>49.935001</td>\n",
       "    </tr>\n",
       "    <tr>\n",
       "      <th>1381</th>\n",
       "      <td>49.480000</td>\n",
       "    </tr>\n",
       "  </tbody>\n",
       "</table>\n",
       "</div>"
      ],
      "text/plain": [
       "          Close\n",
       "1377  49.645000\n",
       "1378  48.892502\n",
       "1379  49.950001\n",
       "1380  49.935001\n",
       "1381  49.480000"
      ]
     },
     "execution_count": 145,
     "metadata": {},
     "output_type": "execute_result"
    }
   ],
   "source": [
    "data_test.tail(5)"
   ]
  },
  {
   "cell_type": "markdown",
   "metadata": {},
   "source": [
    "### Normaliza Data(Scale it into the range [0,1])"
   ]
  },
  {
   "cell_type": "code",
   "execution_count": 146,
   "metadata": {},
   "outputs": [],
   "source": [
    "scaler = MinMaxScaler()"
   ]
  },
  {
   "cell_type": "code",
   "execution_count": 147,
   "metadata": {},
   "outputs": [
    {
     "data": {
      "text/plain": [
       "MinMaxScaler(copy=True, feature_range=(0, 1))"
      ]
     },
     "execution_count": 147,
     "metadata": {},
     "output_type": "execute_result"
    }
   ],
   "source": [
    "scaler.fit(data_train)"
   ]
  },
  {
   "cell_type": "code",
   "execution_count": 148,
   "metadata": {},
   "outputs": [],
   "source": [
    "normalized_train = scaler.transform(data_train)\n",
    "normalized_test = scaler.transform(data_test)\n",
    "#transform the value in normal[0,1]"
   ]
  },
  {
   "cell_type": "markdown",
   "metadata": {},
   "source": [
    "### Create TimeseriesGenerate for Training"
   ]
  },
  {
   "cell_type": "code",
   "execution_count": 149,
   "metadata": {},
   "outputs": [],
   "source": [
    "#Time series has 60 historical data point\n",
    "batch_size32 = 32\n",
    "\n",
    "\n",
    "train_tsGenerator60 = TimeseriesGenerator(normalized_train, normalized_train, length60, batch_size = batch_size32)\n",
    "#TimeseriesGenerator(input,outputs, length, batch_size)\n"
   ]
  },
  {
   "cell_type": "code",
   "execution_count": 150,
   "metadata": {},
   "outputs": [
    {
     "data": {
      "text/plain": [
       "1244"
      ]
     },
     "execution_count": 150,
     "metadata": {},
     "output_type": "execute_result"
    }
   ],
   "source": [
    "#This project generate 1183 times = 1244 - 60 -1\n",
    "len(normalized_train)"
   ]
  },
  {
   "cell_type": "code",
   "execution_count": 151,
   "metadata": {},
   "outputs": [
    {
     "data": {
      "text/plain": [
       "37"
      ]
     },
     "execution_count": 151,
     "metadata": {},
     "output_type": "execute_result"
    }
   ],
   "source": [
    "len(train_tsGenerator60)\n",
    "#batch generated by time series generator from 1244\n",
    "#last that left from generate sequnce processes\n",
    "#This project generate 1183 times = 1244 - 60 -1\n",
    "# 1183/32 each batch has 32 samples"
   ]
  },
  {
   "cell_type": "code",
   "execution_count": 152,
   "metadata": {},
   "outputs": [
    {
     "name": "stdout",
     "output_type": "stream",
     "text": [
      "[[[0.04743444]\n",
      "  [0.0366317 ]\n",
      "  [0.03925457]\n",
      "  ...\n",
      "  [0.03556474]\n",
      "  [0.03350198]\n",
      "  [0.0329685 ]]\n",
      "\n",
      " [[0.0366317 ]\n",
      "  [0.03925457]\n",
      "  [0.03579594]\n",
      "  ...\n",
      "  [0.03350198]\n",
      "  [0.0329685 ]\n",
      "  [0.03286185]]\n",
      "\n",
      " [[0.03925457]\n",
      "  [0.03579594]\n",
      "  [0.0388367 ]\n",
      "  ...\n",
      "  [0.0329685 ]\n",
      "  [0.03286185]\n",
      "  [0.03722739]]\n",
      "\n",
      " ...\n",
      "\n",
      " [[0.03969917]\n",
      "  [0.03930789]\n",
      "  [0.04108617]\n",
      "  ...\n",
      "  [0.08228787]\n",
      "  [0.07842912]\n",
      "  [0.07625081]]\n",
      "\n",
      " [[0.03930789]\n",
      "  [0.04108617]\n",
      "  [0.03342197]\n",
      "  ...\n",
      "  [0.07842912]\n",
      "  [0.07625081]\n",
      "  [0.08273247]]\n",
      "\n",
      " [[0.04108617]\n",
      "  [0.03342197]\n",
      "  [0.02789165]\n",
      "  ...\n",
      "  [0.07625081]\n",
      "  [0.08273247]\n",
      "  [0.0835593 ]]]\n"
     ]
    }
   ],
   "source": [
    "X,y = train_tsGenerator60[0]\n",
    "print(X)"
   ]
  },
  {
   "cell_type": "code",
   "execution_count": 153,
   "metadata": {},
   "outputs": [
    {
     "name": "stdout",
     "output_type": "stream",
     "text": [
      "[[0.03286185]\n",
      " [0.03722739]\n",
      " [0.03802758]\n",
      " [0.03468451]\n",
      " [0.02848732]\n",
      " [0.0210632 ]\n",
      " [0.02103656]\n",
      " [0.02715371]\n",
      " [0.02107213]\n",
      " [0.01763125]\n",
      " [0.01947174]\n",
      " [0.01616417]\n",
      " [0.01709777]\n",
      " [0.0223702 ]\n",
      " [0.02790945]\n",
      " [0.02838067]\n",
      " [0.02220131]\n",
      " [0.06045115]\n",
      " [0.06415881]\n",
      " [0.08385276]\n",
      " [0.08228787]\n",
      " [0.08029625]\n",
      " [0.08153217]\n",
      " [0.08251013]\n",
      " [0.08996095]\n",
      " [0.08413729]\n",
      " [0.08228787]\n",
      " [0.07842912]\n",
      " [0.07625081]\n",
      " [0.08273247]\n",
      " [0.0835593 ]\n",
      " [0.08365711]]\n"
     ]
    }
   ],
   "source": [
    "print(y)"
   ]
  },
  {
   "cell_type": "markdown",
   "metadata": {},
   "source": [
    "## Build Train and Test"
   ]
  },
  {
   "cell_type": "code",
   "execution_count": 154,
   "metadata": {},
   "outputs": [],
   "source": [
    "n_features = 1\n",
    "#feature has 1 preditor"
   ]
  },
  {
   "cell_type": "code",
   "execution_count": 155,
   "metadata": {},
   "outputs": [],
   "source": [
    "#define the model\n",
    "model = Sequential()\n",
    "\n",
    "model.add(LSTM(units=50, activation='relu',return_sequences=True, input_shape=(length60,n_features)))\n",
    "#return_sequences=True will return the value to next LSTM layer\n",
    "#input_shape=(length60,n_features) = input demension is 2 demensions.\n",
    "model.add(Dropout(0.2))\n",
    "#dropout 20% of the all data\n",
    "\n",
    "model.add(LSTM(units=50, activation='relu',return_sequences=True))\n",
    "#learning funciton to fullfill the dropped data.\n",
    "#return_sequences=True will return the value to next LSTM layer\n",
    "model.add(Dropout(0.2))\n",
    "\n",
    "model.add(LSTM(units=50, activation='relu'))\n",
    "#learning funciton to fullfill the dropped data.\n",
    "\n",
    "model.add(Dense(1))"
   ]
  },
  {
   "cell_type": "markdown",
   "metadata": {},
   "source": [
    "### complie model"
   ]
  },
  {
   "cell_type": "code",
   "execution_count": 156,
   "metadata": {},
   "outputs": [
    {
     "name": "stdout",
     "output_type": "stream",
     "text": [
      "Model: \"sequential_1\"\n",
      "_________________________________________________________________\n",
      "Layer (type)                 Output Shape              Param #   \n",
      "=================================================================\n",
      "lstm_3 (LSTM)                (None, 60, 50)            10400     \n",
      "_________________________________________________________________\n",
      "dropout_2 (Dropout)          (None, 60, 50)            0         \n",
      "_________________________________________________________________\n",
      "lstm_4 (LSTM)                (None, 60, 50)            20200     \n",
      "_________________________________________________________________\n",
      "dropout_3 (Dropout)          (None, 60, 50)            0         \n",
      "_________________________________________________________________\n",
      "lstm_5 (LSTM)                (None, 50)                20200     \n",
      "_________________________________________________________________\n",
      "dense_1 (Dense)              (None, 1)                 51        \n",
      "=================================================================\n",
      "Total params: 50,851\n",
      "Trainable params: 50,851\n",
      "Non-trainable params: 0\n",
      "_________________________________________________________________\n"
     ]
    }
   ],
   "source": [
    "model.compile(optimizer = 'adam', loss ='mse')\n",
    "#complie Adaptive Moment Estimation (adam) and loss function to monitor the model\n",
    "\n",
    "model.summary()\n",
    "#summmarize the model"
   ]
  },
  {
   "cell_type": "markdown",
   "metadata": {},
   "source": [
    "### Train(Fit) model Using fit_generator()"
   ]
  },
  {
   "cell_type": "code",
   "execution_count": 157,
   "metadata": {},
   "outputs": [
    {
     "name": "stdout",
     "output_type": "stream",
     "text": [
      "Epoch 1/100\n",
      "37/37 [==============================] - 12s 329ms/step - loss: 0.0739\n",
      "Epoch 2/100\n",
      "37/37 [==============================] - 6s 170ms/step - loss: 0.0179\n",
      "Epoch 3/100\n",
      "37/37 [==============================] - 6s 175ms/step - loss: 0.0160\n",
      "Epoch 4/100\n",
      "37/37 [==============================] - 7s 176ms/step - loss: 0.0185\n",
      "Epoch 5/100\n",
      "37/37 [==============================] - 6s 161ms/step - loss: 0.0035\n",
      "Epoch 6/100\n",
      "37/37 [==============================] - 6s 161ms/step - loss: 0.0029\n",
      "Epoch 7/100\n",
      "37/37 [==============================] - 6s 161ms/step - loss: 0.0030\n",
      "Epoch 8/100\n",
      "37/37 [==============================] - 6s 163ms/step - loss: 0.0028\n",
      "Epoch 9/100\n",
      "37/37 [==============================] - 6s 160ms/step - loss: 0.0020\n",
      "Epoch 10/100\n",
      "37/37 [==============================] - 6s 163ms/step - loss: 0.0021\n",
      "Epoch 11/100\n",
      "37/37 [==============================] - 6s 160ms/step - loss: 0.0021\n",
      "Epoch 12/100\n",
      "37/37 [==============================] - 6s 160ms/step - loss: 0.0030\n",
      "Epoch 13/100\n",
      "37/37 [==============================] - 6s 161ms/step - loss: 0.0030\n",
      "Epoch 14/100\n",
      "37/37 [==============================] - 6s 162ms/step - loss: 0.0022\n",
      "Epoch 15/100\n",
      "37/37 [==============================] - 6s 162ms/step - loss: 0.0021\n",
      "Epoch 16/100\n",
      "37/37 [==============================] - 6s 161ms/step - loss: 0.0019\n",
      "Epoch 17/100\n",
      "37/37 [==============================] - 6s 161ms/step - loss: 0.0021\n",
      "Epoch 18/100\n",
      "37/37 [==============================] - 6s 162ms/step - loss: 0.0025\n",
      "Epoch 19/100\n",
      "37/37 [==============================] - 6s 160ms/step - loss: 0.0019\n",
      "Epoch 20/100\n",
      "37/37 [==============================] - 6s 164ms/step - loss: 0.0019\n",
      "Epoch 21/100\n",
      "37/37 [==============================] - 6s 161ms/step - loss: 0.0019\n",
      "Epoch 22/100\n",
      "37/37 [==============================] - 6s 165ms/step - loss: 0.0023\n",
      "Epoch 23/100\n",
      "37/37 [==============================] - 6s 163ms/step - loss: 0.0022\n",
      "Epoch 24/100\n",
      "37/37 [==============================] - 6s 162ms/step - loss: 0.0025\n",
      "Epoch 25/100\n",
      "37/37 [==============================] - 6s 162ms/step - loss: 0.0017\n",
      "Epoch 26/100\n",
      "37/37 [==============================] - 6s 162ms/step - loss: 0.0021\n",
      "Epoch 27/100\n",
      "37/37 [==============================] - 6s 163ms/step - loss: 0.0017\n",
      "Epoch 28/100\n",
      "37/37 [==============================] - 6s 165ms/step - loss: 0.0019\n",
      "Epoch 29/100\n",
      "37/37 [==============================] - 6s 166ms/step - loss: 0.0027\n",
      "Epoch 30/100\n",
      "37/37 [==============================] - 6s 173ms/step - loss: 0.0016\n",
      "Epoch 31/100\n",
      "37/37 [==============================] - 6s 166ms/step - loss: 0.0024\n",
      "Epoch 32/100\n",
      "37/37 [==============================] - 6s 165ms/step - loss: 0.0015\n",
      "Epoch 33/100\n",
      "37/37 [==============================] - 6s 166ms/step - loss: 0.0023\n",
      "Epoch 34/100\n",
      "37/37 [==============================] - 6s 166ms/step - loss: 0.0031\n",
      "Epoch 35/100\n",
      "37/37 [==============================] - 6s 164ms/step - loss: 0.0015\n",
      "Epoch 36/100\n",
      "37/37 [==============================] - 6s 162ms/step - loss: 0.0019\n",
      "Epoch 37/100\n",
      "37/37 [==============================] - 6s 162ms/step - loss: 0.0017\n",
      "Epoch 38/100\n",
      "37/37 [==============================] - 6s 162ms/step - loss: 0.0028\n",
      "Epoch 39/100\n",
      "37/37 [==============================] - 6s 161ms/step - loss: 0.0023\n",
      "Epoch 40/100\n",
      "37/37 [==============================] - 6s 164ms/step - loss: 0.0018\n",
      "Epoch 41/100\n",
      "37/37 [==============================] - 6s 162ms/step - loss: 0.0021\n",
      "Epoch 42/100\n",
      "37/37 [==============================] - 6s 162ms/step - loss: 0.0020\n",
      "Epoch 43/100\n",
      "37/37 [==============================] - 6s 161ms/step - loss: 0.0020\n",
      "Epoch 44/100\n",
      "37/37 [==============================] - 6s 161ms/step - loss: 0.0015\n",
      "Epoch 45/100\n",
      "37/37 [==============================] - 6s 161ms/step - loss: 0.0024\n",
      "Epoch 46/100\n",
      "37/37 [==============================] - 6s 162ms/step - loss: 0.0016\n",
      "Epoch 47/100\n",
      "37/37 [==============================] - 6s 162ms/step - loss: 0.0017\n",
      "Epoch 48/100\n",
      "37/37 [==============================] - 6s 163ms/step - loss: 0.0012\n",
      "Epoch 49/100\n",
      "37/37 [==============================] - 6s 161ms/step - loss: 0.0015\n",
      "Epoch 50/100\n",
      "37/37 [==============================] - 6s 163ms/step - loss: 0.0014\n",
      "Epoch 51/100\n",
      "37/37 [==============================] - 6s 161ms/step - loss: 0.0015\n",
      "Epoch 52/100\n",
      "37/37 [==============================] - 6s 162ms/step - loss: 0.0013\n",
      "Epoch 53/100\n",
      "37/37 [==============================] - 6s 164ms/step - loss: 0.0011\n",
      "Epoch 54/100\n",
      "37/37 [==============================] - 6s 164ms/step - loss: 0.0012\n",
      "Epoch 55/100\n",
      "37/37 [==============================] - 6s 165ms/step - loss: 0.0018\n",
      "Epoch 56/100\n",
      "37/37 [==============================] - 6s 162ms/step - loss: 0.0016\n",
      "Epoch 57/100\n",
      "37/37 [==============================] - 6s 162ms/step - loss: 0.0014\n",
      "Epoch 58/100\n",
      "37/37 [==============================] - 6s 161ms/step - loss: 0.0017\n",
      "Epoch 59/100\n",
      "37/37 [==============================] - 6s 161ms/step - loss: 0.0024\n",
      "Epoch 60/100\n",
      "37/37 [==============================] - 6s 164ms/step - loss: 0.0054\n",
      "Epoch 61/100\n",
      "37/37 [==============================] - 6s 161ms/step - loss: 0.0019\n",
      "Epoch 62/100\n",
      "37/37 [==============================] - 6s 162ms/step - loss: 0.0016\n",
      "Epoch 63/100\n",
      "37/37 [==============================] - 6s 160ms/step - loss: 0.0016\n",
      "Epoch 64/100\n",
      "37/37 [==============================] - 6s 172ms/step - loss: 0.0013\n",
      "Epoch 65/100\n",
      "37/37 [==============================] - 6s 161ms/step - loss: 0.0010\n",
      "Epoch 66/100\n",
      "37/37 [==============================] - 6s 162ms/step - loss: 0.0011\n",
      "Epoch 67/100\n",
      "37/37 [==============================] - 6s 162ms/step - loss: 0.0016\n",
      "Epoch 68/100\n",
      "37/37 [==============================] - 6s 163ms/step - loss: 0.0014\n",
      "Epoch 69/100\n",
      "37/37 [==============================] - 6s 163ms/step - loss: 0.0012\n",
      "Epoch 70/100\n",
      "37/37 [==============================] - 6s 167ms/step - loss: 0.0011\n",
      "Epoch 71/100\n",
      "37/37 [==============================] - 6s 166ms/step - loss: 0.0014\n",
      "Epoch 72/100\n",
      "37/37 [==============================] - 6s 164ms/step - loss: 0.0011\n",
      "Epoch 73/100\n",
      "37/37 [==============================] - 6s 163ms/step - loss: 0.0015\n",
      "Epoch 74/100\n",
      "37/37 [==============================] - 6s 163ms/step - loss: 0.0012\n",
      "Epoch 75/100\n",
      "37/37 [==============================] - 6s 162ms/step - loss: 0.0013\n",
      "Epoch 76/100\n",
      "37/37 [==============================] - 6s 162ms/step - loss: 0.0012\n",
      "Epoch 77/100\n",
      "37/37 [==============================] - 6s 162ms/step - loss: 0.0012\n",
      "Epoch 78/100\n",
      "37/37 [==============================] - 6s 162ms/step - loss: 0.0012\n",
      "Epoch 79/100\n",
      "37/37 [==============================] - 6s 162ms/step - loss: 0.0012\n",
      "Epoch 80/100\n",
      "37/37 [==============================] - 6s 164ms/step - loss: 0.0014\n",
      "Epoch 81/100\n",
      "37/37 [==============================] - 6s 161ms/step - loss: 0.0011\n",
      "Epoch 82/100\n",
      "37/37 [==============================] - 6s 161ms/step - loss: 0.0014\n",
      "Epoch 83/100\n",
      "37/37 [==============================] - 6s 162ms/step - loss: 0.0011\n",
      "Epoch 84/100\n",
      "37/37 [==============================] - 6s 161ms/step - loss: 0.0011\n",
      "Epoch 85/100\n",
      "37/37 [==============================] - 6s 161ms/step - loss: 0.0011\n",
      "Epoch 86/100\n",
      "37/37 [==============================] - 6s 162ms/step - loss: 0.0014\n",
      "Epoch 87/100\n",
      "37/37 [==============================] - 6s 161ms/step - loss: 0.0013\n",
      "Epoch 88/100\n",
      "37/37 [==============================] - 6s 162ms/step - loss: 0.0016\n",
      "Epoch 89/100\n",
      "37/37 [==============================] - 6s 162ms/step - loss: 0.0014\n",
      "Epoch 90/100\n",
      "37/37 [==============================] - 6s 166ms/step - loss: 0.0014\n",
      "Epoch 91/100\n",
      "37/37 [==============================] - 6s 163ms/step - loss: 0.0014\n",
      "Epoch 92/100\n",
      "37/37 [==============================] - 6s 163ms/step - loss: 0.0013\n",
      "Epoch 93/100\n",
      "37/37 [==============================] - 6s 163ms/step - loss: 0.0011\n",
      "Epoch 94/100\n",
      "37/37 [==============================] - 6s 161ms/step - loss: 0.0014\n",
      "Epoch 95/100\n",
      "37/37 [==============================] - 6s 163ms/step - loss: 0.0013\n",
      "Epoch 96/100\n",
      "37/37 [==============================] - 6s 163ms/step - loss: 9.9774e-04\n",
      "Epoch 97/100\n",
      "37/37 [==============================] - 6s 166ms/step - loss: 0.0010\n",
      "Epoch 98/100\n",
      "37/37 [==============================] - 6s 175ms/step - loss: 0.0018\n",
      "Epoch 99/100\n"
     ]
    },
    {
     "name": "stdout",
     "output_type": "stream",
     "text": [
      "37/37 [==============================] - 7s 180ms/step - loss: 0.0012\n",
      "Epoch 100/100\n",
      "37/37 [==============================] - 7s 188ms/step - loss: 0.0015\n"
     ]
    },
    {
     "data": {
      "text/plain": [
       "<tensorflow.python.keras.callbacks.History at 0x2f04a1dd68>"
      ]
     },
     "execution_count": 157,
     "metadata": {},
     "output_type": "execute_result"
    }
   ],
   "source": [
    "model.fit_generator(train_tsGenerator60, epochs=100)"
   ]
  },
  {
   "cell_type": "markdown",
   "metadata": {},
   "source": [
    "### Visualize the model"
   ]
  },
  {
   "cell_type": "code",
   "execution_count": 158,
   "metadata": {},
   "outputs": [
    {
     "data": {
      "text/plain": [
       "dict_keys(['loss'])"
      ]
     },
     "execution_count": 158,
     "metadata": {},
     "output_type": "execute_result"
    }
   ],
   "source": [
    "loss_history_keys = model.history.history.keys()\n",
    "\n",
    "loss_history_keys"
   ]
  },
  {
   "cell_type": "code",
   "execution_count": 159,
   "metadata": {},
   "outputs": [
    {
     "data": {
      "text/plain": [
       "<matplotlib.axes._subplots.AxesSubplot at 0x2f04bb8d68>"
      ]
     },
     "execution_count": 159,
     "metadata": {},
     "output_type": "execute_result"
    },
    {
     "data": {
      "image/png": "[encoded data removed]",
      "text/plain": [
       "<matplotlib.figure.Figure at 0x2f05a8b4e0>"
      ]
     },
     "metadata": {
      "needs_background": "light"
     },
     "output_type": "display_data"
    }
   ],
   "source": [
    "df_model_loss = pd.DataFrame(model.history.history)\n",
    "\n",
    "df_model_loss.plot()"
   ]
  },
  {
   "cell_type": "markdown",
   "metadata": {},
   "source": [
    "## prediction for Testing: Using TimeseriesGenerator"
   ]
  },
  {
   "cell_type": "code",
   "execution_count": 160,
   "metadata": {},
   "outputs": [],
   "source": [
    "batch_size1 =1 \n",
    "# In a timeserise batch has 1 dataset\n",
    "\n",
    "test_tsGenerator60 = TimeseriesGenerator(normalized_test, normalized_test, length=length60, batch_size = batch_size1)\n",
    "#TimeseriesGenerator(input,outputs, length, batch_size)"
   ]
  },
  {
   "cell_type": "markdown",
   "metadata": {},
   "source": [
    "### Predict Future Data Points for Testing"
   ]
  },
  {
   "cell_type": "markdown",
   "metadata": {},
   "source": [
    "### Create TimeriesGenerator for Testing"
   ]
  },
  {
   "cell_type": "code",
   "execution_count": 161,
   "metadata": {},
   "outputs": [],
   "source": [
    "normalized_prediction = model.predict_generator(test_tsGenerator60)\n",
    "# predict the time series"
   ]
  },
  {
   "cell_type": "code",
   "execution_count": 162,
   "metadata": {},
   "outputs": [
    {
     "data": {
      "text/plain": [
       "array([[0.6447373 ],\n",
       "       [0.6375897 ],\n",
       "       [0.629339  ],\n",
       "       [0.6216922 ],\n",
       "       [0.6137388 ],\n",
       "       [0.60535204],\n",
       "       [0.5976922 ],\n",
       "       [0.589712  ],\n",
       "       [0.5804311 ],\n",
       "       [0.5684387 ],\n",
       "       [0.55334044],\n",
       "       [0.5396569 ],\n",
       "       [0.52871495],\n",
       "       [0.5211103 ],\n",
       "       [0.5172363 ],\n",
       "       [0.51663226],\n",
       "       [0.51353   ],\n",
       "       [0.5088094 ],\n",
       "       [0.5029967 ],\n",
       "       [0.49764013],\n",
       "       [0.49422187],\n",
       "       [0.4931597 ],\n",
       "       [0.4937145 ],\n",
       "       [0.49453217],\n",
       "       [0.49602556],\n",
       "       [0.49861544],\n",
       "       [0.50232685],\n",
       "       [0.50701624],\n",
       "       [0.51104563],\n",
       "       [0.51403433],\n",
       "       [0.51550084],\n",
       "       [0.51715314],\n",
       "       [0.51889104],\n",
       "       [0.5201186 ],\n",
       "       [0.52402353],\n",
       "       [0.5310775 ],\n",
       "       [0.54031086],\n",
       "       [0.5517749 ],\n",
       "       [0.5652728 ],\n",
       "       [0.5798103 ],\n",
       "       [0.5933318 ],\n",
       "       [0.60403484],\n",
       "       [0.61104566],\n",
       "       [0.6150627 ],\n",
       "       [0.6165305 ],\n",
       "       [0.6163655 ],\n",
       "       [0.61513925],\n",
       "       [0.613553  ],\n",
       "       [0.61239874],\n",
       "       [0.61157936],\n",
       "       [0.61171776],\n",
       "       [0.6131711 ],\n",
       "       [0.61569804],\n",
       "       [0.6190247 ],\n",
       "       [0.6221043 ],\n",
       "       [0.62512624],\n",
       "       [0.62822723],\n",
       "       [0.6311356 ],\n",
       "       [0.63331866],\n",
       "       [0.63399225],\n",
       "       [0.6333964 ],\n",
       "       [0.6339185 ],\n",
       "       [0.6365772 ],\n",
       "       [0.6413388 ],\n",
       "       [0.64813334],\n",
       "       [0.65684867],\n",
       "       [0.6670721 ],\n",
       "       [0.6772126 ],\n",
       "       [0.6867536 ],\n",
       "       [0.69744945],\n",
       "       [0.70734024],\n",
       "       [0.7147548 ],\n",
       "       [0.7186636 ],\n",
       "       [0.71999013],\n",
       "       [0.71956676],\n",
       "       [0.7185173 ],\n",
       "       [0.7178436 ],\n",
       "       [0.71879977],\n",
       "       [0.72174907],\n",
       "       [0.72627825],\n",
       "       [0.73208606],\n",
       "       [0.7394835 ],\n",
       "       [0.74742466],\n",
       "       [0.75540227],\n",
       "       [0.7621022 ],\n",
       "       [0.76703006],\n",
       "       [0.77026004],\n",
       "       [0.77200675],\n",
       "       [0.7739923 ],\n",
       "       [0.7766936 ],\n",
       "       [0.7801825 ],\n",
       "       [0.78514814],\n",
       "       [0.7909214 ],\n",
       "       [0.79609025],\n",
       "       [0.79974914],\n",
       "       [0.80188006],\n",
       "       [0.8013187 ],\n",
       "       [0.80200905],\n",
       "       [0.8039615 ],\n",
       "       [0.80785674],\n",
       "       [0.81189144],\n",
       "       [0.8133447 ],\n",
       "       [0.8121796 ],\n",
       "       [0.8082276 ],\n",
       "       [0.80117095],\n",
       "       [0.7882087 ],\n",
       "       [0.7722119 ],\n",
       "       [0.7562186 ],\n",
       "       [0.74175954],\n",
       "       [0.7295307 ],\n",
       "       [0.71805716],\n",
       "       [0.70872027],\n",
       "       [0.7005732 ],\n",
       "       [0.6926208 ],\n",
       "       [0.68477523],\n",
       "       [0.6771513 ],\n",
       "       [0.66987777],\n",
       "       [0.6636178 ],\n",
       "       [0.65762633],\n",
       "       [0.65144175],\n",
       "       [0.64739066],\n",
       "       [0.6467966 ],\n",
       "       [0.6501812 ],\n",
       "       [0.6578751 ],\n",
       "       [0.6689378 ],\n",
       "       [0.68258893],\n",
       "       [0.69735634],\n",
       "       [0.71176237],\n",
       "       [0.7238524 ],\n",
       "       [0.73311615],\n",
       "       [0.7411219 ],\n",
       "       [0.7478274 ],\n",
       "       [0.75376415],\n",
       "       [0.7586371 ],\n",
       "       [0.7622901 ],\n",
       "       [0.7636914 ],\n",
       "       [0.7645844 ],\n",
       "       [0.7653986 ]], dtype=float32)"
      ]
     },
     "execution_count": 162,
     "metadata": {},
     "output_type": "execute_result"
    }
   ],
   "source": [
    "normalized_prediction\n",
    "#138 data point (predicted value)"
   ]
  },
  {
   "cell_type": "code",
   "execution_count": 163,
   "metadata": {},
   "outputs": [
    {
     "data": {
      "text/plain": [
       "138"
      ]
     },
     "execution_count": 163,
     "metadata": {},
     "output_type": "execute_result"
    }
   ],
   "source": [
    "len(normalized_prediction)"
   ]
  },
  {
   "cell_type": "code",
   "execution_count": 164,
   "metadata": {},
   "outputs": [],
   "source": [
    "prediction = scaler.inverse_transform(normalized_prediction)\n",
    "#convert the predicted value to be true value"
   ]
  },
  {
   "cell_type": "code",
   "execution_count": 165,
   "metadata": {},
   "outputs": [],
   "source": [
    "prediction_index =np.arange(1244,1382,step=1)\n",
    "#1244 data poiints + 138 data points in the testing data = 1382 data points\n",
    "\n",
    "df_prediction = pd.DataFrame(data = prediction, index=prediction_index, columns=['Prediction'])\n",
    "#index will predict from 1244 to 1382"
   ]
  },
  {
   "cell_type": "code",
   "execution_count": 166,
   "metadata": {},
   "outputs": [
    {
     "data": {
      "text/html": [
       "<div>\n",
       "<style scoped>\n",
       "    .dataframe tbody tr th:only-of-type {\n",
       "        vertical-align: middle;\n",
       "    }\n",
       "\n",
       "    .dataframe tbody tr th {\n",
       "        vertical-align: top;\n",
       "    }\n",
       "\n",
       "    .dataframe thead th {\n",
       "        text-align: right;\n",
       "    }\n",
       "</style>\n",
       "<table border=\"1\" class=\"dataframe\">\n",
       "  <thead>\n",
       "    <tr style=\"text-align: right;\">\n",
       "      <th></th>\n",
       "      <th>Prediction</th>\n",
       "    </tr>\n",
       "  </thead>\n",
       "  <tbody>\n",
       "    <tr>\n",
       "      <th>1244</th>\n",
       "      <td>43.747234</td>\n",
       "    </tr>\n",
       "    <tr>\n",
       "      <th>1245</th>\n",
       "      <td>43.460125</td>\n",
       "    </tr>\n",
       "    <tr>\n",
       "      <th>1246</th>\n",
       "      <td>43.128708</td>\n",
       "    </tr>\n",
       "    <tr>\n",
       "      <th>1247</th>\n",
       "      <td>42.821548</td>\n",
       "    </tr>\n",
       "    <tr>\n",
       "      <th>1248</th>\n",
       "      <td>42.502075</td>\n",
       "    </tr>\n",
       "    <tr>\n",
       "      <th>...</th>\n",
       "      <td>...</td>\n",
       "    </tr>\n",
       "    <tr>\n",
       "      <th>1377</th>\n",
       "      <td>48.322384</td>\n",
       "    </tr>\n",
       "    <tr>\n",
       "      <th>1378</th>\n",
       "      <td>48.469120</td>\n",
       "    </tr>\n",
       "    <tr>\n",
       "      <th>1379</th>\n",
       "      <td>48.525406</td>\n",
       "    </tr>\n",
       "    <tr>\n",
       "      <th>1380</th>\n",
       "      <td>48.561275</td>\n",
       "    </tr>\n",
       "    <tr>\n",
       "      <th>1381</th>\n",
       "      <td>48.593983</td>\n",
       "    </tr>\n",
       "  </tbody>\n",
       "</table>\n",
       "<p>138 rows × 1 columns</p>\n",
       "</div>"
      ],
      "text/plain": [
       "      Prediction\n",
       "1244   43.747234\n",
       "1245   43.460125\n",
       "1246   43.128708\n",
       "1247   42.821548\n",
       "1248   42.502075\n",
       "...          ...\n",
       "1377   48.322384\n",
       "1378   48.469120\n",
       "1379   48.525406\n",
       "1380   48.561275\n",
       "1381   48.593983\n",
       "\n",
       "[138 rows x 1 columns]"
      ]
     },
     "execution_count": 166,
     "metadata": {},
     "output_type": "execute_result"
    }
   ],
   "source": [
    "df_prediction"
   ]
  },
  {
   "cell_type": "markdown",
   "metadata": {},
   "source": [
    "### Visualization"
   ]
  },
  {
   "cell_type": "code",
   "execution_count": 167,
   "metadata": {},
   "outputs": [
    {
     "data": {
      "text/plain": [
       "<matplotlib.axes._subplots.AxesSubplot at 0x2f05abdbe0>"
      ]
     },
     "execution_count": 167,
     "metadata": {},
     "output_type": "execute_result"
    },
    {
     "data": {
      "image/png": "[encoded data removed]",
      "text/plain": [
       "<matplotlib.figure.Figure at 0x2f05ad2eb8>"
      ]
     },
     "metadata": {
      "needs_background": "light"
     },
     "output_type": "display_data"
    }
   ],
   "source": [
    "ax = data_train.plot()\n",
    "\n",
    "df_prediction.plot(ax=ax, figsize=(8,12))\n",
    "# orange is predicted value\n",
    "#blue is real value that train the dataset"
   ]
  },
  {
   "cell_type": "code",
   "execution_count": 168,
   "metadata": {},
   "outputs": [
    {
     "data": {
      "text/plain": [
       "<matplotlib.axes._subplots.AxesSubplot at 0x2f05ac92b0>"
      ]
     },
     "execution_count": 168,
     "metadata": {},
     "output_type": "execute_result"
    },
    {
     "data": {
      "image/png": "[encoded data removed]",
      "text/plain": [
       "<matplotlib.figure.Figure at 0x2f05b2fc18>"
      ]
     },
     "metadata": {
      "needs_background": "light"
     },
     "output_type": "display_data"
    }
   ],
   "source": [
    "ax = df.plot()\n",
    "\n",
    "df_prediction.plot(ax=ax, figsize=(8,12))\n",
    "# orange is predicted value\n",
    "#blue is real value"
   ]
  },
  {
   "cell_type": "markdown",
   "metadata": {},
   "source": [
    "## Time Series Forecasting with LSTM"
   ]
  },
  {
   "cell_type": "markdown",
   "metadata": {},
   "source": [
    "forecast the future\n",
    "should employ all the avaliable data\n",
    "Not split the data into training/testing"
   ]
  },
  {
   "cell_type": "markdown",
   "metadata": {},
   "source": [
    "### Preprocesses Full Input Dataset"
   ]
  },
  {
   "cell_type": "code",
   "execution_count": 169,
   "metadata": {},
   "outputs": [],
   "source": [
    "full_scaler = MinMaxScaler()\n",
    "normalized_full_data = full_scaler.fit_transform(df)"
   ]
  },
  {
   "cell_type": "markdown",
   "metadata": {},
   "source": [
    "### Create TimeSeriesGenerator for Forecasting"
   ]
  },
  {
   "cell_type": "code",
   "execution_count": 170,
   "metadata": {},
   "outputs": [
    {
     "data": {
      "text/plain": [
       "60"
      ]
     },
     "execution_count": 170,
     "metadata": {},
     "output_type": "execute_result"
    }
   ],
   "source": [
    "length60"
   ]
  },
  {
   "cell_type": "code",
   "execution_count": 171,
   "metadata": {},
   "outputs": [],
   "source": [
    "# the batch =32\n",
    "forecast_tsGenerator = TimeseriesGenerator(normalized_full_data, normalized_full_data, length = length60, batch_size = batch_size32)"
   ]
  },
  {
   "cell_type": "markdown",
   "metadata": {},
   "source": [
    "### Build, Complie, and Fit LSTM Model for Forecasting"
   ]
  },
  {
   "cell_type": "code",
   "execution_count": 172,
   "metadata": {},
   "outputs": [
    {
     "name": "stdout",
     "output_type": "stream",
     "text": [
      "Epoch 1/100\n",
      "42/42 [==============================] - 7s 163ms/step - loss: 0.0015\n",
      "Epoch 2/100\n",
      "42/42 [==============================] - 7s 160ms/step - loss: 0.0017\n",
      "Epoch 3/100\n",
      "42/42 [==============================] - 7s 161ms/step - loss: 0.0015\n",
      "Epoch 4/100\n",
      "42/42 [==============================] - 7s 160ms/step - loss: 9.9594e-04\n",
      "Epoch 5/100\n",
      "42/42 [==============================] - 7s 161ms/step - loss: 0.0013\n",
      "Epoch 6/100\n",
      "42/42 [==============================] - 7s 161ms/step - loss: 0.0011\n",
      "Epoch 7/100\n",
      "42/42 [==============================] - 7s 164ms/step - loss: 0.0021\n",
      "Epoch 8/100\n",
      "42/42 [==============================] - 7s 161ms/step - loss: 0.0016\n",
      "Epoch 9/100\n",
      "42/42 [==============================] - 7s 161ms/step - loss: 0.0015\n",
      "Epoch 10/100\n",
      "42/42 [==============================] - 7s 160ms/step - loss: 0.0012\n",
      "Epoch 11/100\n",
      "42/42 [==============================] - 7s 162ms/step - loss: 0.0013\n",
      "Epoch 12/100\n",
      "42/42 [==============================] - 7s 161ms/step - loss: 0.0011\n",
      "Epoch 13/100\n",
      "42/42 [==============================] - 7s 161ms/step - loss: 0.0011\n",
      "Epoch 14/100\n",
      "42/42 [==============================] - 7s 161ms/step - loss: 0.0011\n",
      "Epoch 15/100\n",
      "42/42 [==============================] - 7s 161ms/step - loss: 9.7448e-04\n",
      "Epoch 16/100\n",
      "42/42 [==============================] - 7s 162ms/step - loss: 0.0017\n",
      "Epoch 17/100\n",
      "42/42 [==============================] - 7s 161ms/step - loss: 0.0013\n",
      "Epoch 18/100\n",
      "42/42 [==============================] - 7s 161ms/step - loss: 0.0014\n",
      "Epoch 19/100\n",
      "42/42 [==============================] - 7s 160ms/step - loss: 0.0016\n",
      "Epoch 20/100\n",
      "42/42 [==============================] - 7s 160ms/step - loss: 0.0013\n",
      "Epoch 21/100\n",
      "42/42 [==============================] - 7s 160ms/step - loss: 0.0012\n",
      "Epoch 22/100\n",
      "42/42 [==============================] - 7s 160ms/step - loss: 0.0011\n",
      "Epoch 23/100\n",
      "42/42 [==============================] - 7s 162ms/step - loss: 0.0022\n",
      "Epoch 24/100\n",
      "42/42 [==============================] - 7s 161ms/step - loss: 9.9712e-04\n",
      "Epoch 25/100\n",
      "42/42 [==============================] - 7s 163ms/step - loss: 0.0013\n",
      "Epoch 26/100\n",
      "42/42 [==============================] - 7s 163ms/step - loss: 0.0011\n",
      "Epoch 27/100\n",
      "42/42 [==============================] - 7s 164ms/step - loss: 0.0013\n",
      "Epoch 28/100\n",
      "42/42 [==============================] - 7s 164ms/step - loss: 0.0013\n",
      "Epoch 29/100\n",
      "42/42 [==============================] - 7s 164ms/step - loss: 0.0014\n",
      "Epoch 30/100\n",
      "42/42 [==============================] - 7s 164ms/step - loss: 0.0010\n",
      "Epoch 31/100\n",
      "42/42 [==============================] - 7s 163ms/step - loss: 0.0014\n",
      "Epoch 32/100\n",
      "42/42 [==============================] - 7s 164ms/step - loss: 0.0012\n",
      "Epoch 33/100\n",
      "42/42 [==============================] - 7s 164ms/step - loss: 0.0010\n",
      "Epoch 34/100\n",
      "42/42 [==============================] - 7s 166ms/step - loss: 9.8436e-04\n",
      "Epoch 35/100\n",
      "42/42 [==============================] - 7s 169ms/step - loss: 9.2984e-04\n",
      "Epoch 36/100\n",
      "42/42 [==============================] - 7s 164ms/step - loss: 0.0011\n",
      "Epoch 37/100\n",
      "42/42 [==============================] - 7s 161ms/step - loss: 0.0023\n",
      "Epoch 38/100\n",
      "42/42 [==============================] - 7s 162ms/step - loss: 0.0014\n",
      "Epoch 39/100\n",
      "42/42 [==============================] - 7s 165ms/step - loss: 0.0012\n",
      "Epoch 40/100\n",
      "42/42 [==============================] - 7s 168ms/step - loss: 9.1387e-04\n",
      "Epoch 41/100\n",
      "42/42 [==============================] - 7s 165ms/step - loss: 8.4602e-04\n",
      "Epoch 42/100\n",
      "42/42 [==============================] - 7s 165ms/step - loss: 0.0012\n",
      "Epoch 43/100\n",
      "42/42 [==============================] - 7s 166ms/step - loss: 0.0012\n",
      "Epoch 44/100\n",
      "42/42 [==============================] - 7s 162ms/step - loss: 0.0010\n",
      "Epoch 45/100\n",
      "42/42 [==============================] - 7s 162ms/step - loss: 8.8774e-04\n",
      "Epoch 46/100\n",
      "42/42 [==============================] - 7s 165ms/step - loss: 0.0011\n",
      "Epoch 47/100\n",
      "42/42 [==============================] - 7s 167ms/step - loss: 0.0015\n",
      "Epoch 48/100\n",
      "42/42 [==============================] - 7s 164ms/step - loss: 9.3623e-04\n",
      "Epoch 49/100\n",
      "42/42 [==============================] - 7s 166ms/step - loss: 9.7589e-04\n",
      "Epoch 50/100\n",
      "42/42 [==============================] - 7s 162ms/step - loss: 0.0011\n",
      "Epoch 51/100\n",
      "42/42 [==============================] - 7s 166ms/step - loss: 0.0013\n",
      "Epoch 52/100\n",
      "42/42 [==============================] - 7s 163ms/step - loss: 0.0011\n",
      "Epoch 53/100\n",
      "42/42 [==============================] - 7s 163ms/step - loss: 9.3695e-04\n",
      "Epoch 54/100\n",
      "42/42 [==============================] - 7s 164ms/step - loss: 0.0015\n",
      "Epoch 55/100\n",
      "42/42 [==============================] - 7s 164ms/step - loss: 8.5363e-04\n",
      "Epoch 56/100\n",
      "42/42 [==============================] - 7s 164ms/step - loss: 0.0011\n",
      "Epoch 57/100\n",
      "42/42 [==============================] - 7s 163ms/step - loss: 0.0013\n",
      "Epoch 58/100\n",
      "42/42 [==============================] - 7s 165ms/step - loss: 9.0368e-04\n",
      "Epoch 59/100\n",
      "42/42 [==============================] - 7s 164ms/step - loss: 9.4405e-04\n",
      "Epoch 60/100\n",
      "42/42 [==============================] - 7s 167ms/step - loss: 8.9287e-04\n",
      "Epoch 61/100\n",
      "42/42 [==============================] - 7s 175ms/step - loss: 8.5624e-04\n",
      "Epoch 62/100\n",
      "42/42 [==============================] - 7s 166ms/step - loss: 8.6159e-04\n",
      "Epoch 63/100\n",
      "42/42 [==============================] - 7s 164ms/step - loss: 8.8558e-04\n",
      "Epoch 64/100\n",
      "42/42 [==============================] - 7s 166ms/step - loss: 0.0012\n",
      "Epoch 65/100\n",
      "42/42 [==============================] - 7s 167ms/step - loss: 8.1125e-04\n",
      "Epoch 66/100\n",
      "42/42 [==============================] - 7s 164ms/step - loss: 7.9084e-04\n",
      "Epoch 67/100\n",
      "42/42 [==============================] - 7s 164ms/step - loss: 9.7617e-04\n",
      "Epoch 68/100\n",
      "42/42 [==============================] - 7s 166ms/step - loss: 9.5465e-04\n",
      "Epoch 69/100\n",
      "42/42 [==============================] - 7s 164ms/step - loss: 0.0012\n",
      "Epoch 70/100\n",
      "42/42 [==============================] - 7s 165ms/step - loss: 0.0011\n",
      "Epoch 71/100\n",
      "42/42 [==============================] - 7s 163ms/step - loss: 0.0010\n",
      "Epoch 72/100\n",
      "42/42 [==============================] - 7s 163ms/step - loss: 8.5187e-04\n",
      "Epoch 73/100\n",
      "42/42 [==============================] - 7s 165ms/step - loss: 9.7202e-04\n",
      "Epoch 74/100\n",
      "42/42 [==============================] - 7s 164ms/step - loss: 9.0620e-04\n",
      "Epoch 75/100\n",
      "42/42 [==============================] - 7s 165ms/step - loss: 0.0017\n",
      "Epoch 76/100\n",
      "42/42 [==============================] - 7s 164ms/step - loss: 0.0012\n",
      "Epoch 77/100\n",
      "42/42 [==============================] - 7s 166ms/step - loss: 8.8919e-04\n",
      "Epoch 78/100\n",
      "42/42 [==============================] - 7s 165ms/step - loss: 9.2694e-04\n",
      "Epoch 79/100\n",
      "42/42 [==============================] - 7s 165ms/step - loss: 0.0012\n",
      "Epoch 80/100\n",
      "42/42 [==============================] - 7s 164ms/step - loss: 8.3203e-04\n",
      "Epoch 81/100\n",
      "42/42 [==============================] - 7s 168ms/step - loss: 0.0010\n",
      "Epoch 82/100\n",
      "42/42 [==============================] - 7s 163ms/step - loss: 8.3991e-04\n",
      "Epoch 83/100\n",
      "42/42 [==============================] - 7s 178ms/step - loss: 8.9873e-04\n",
      "Epoch 84/100\n",
      "42/42 [==============================] - 8s 190ms/step - loss: 8.7535e-04\n",
      "Epoch 85/100\n",
      "42/42 [==============================] - 8s 186ms/step - loss: 0.0011\n",
      "Epoch 86/100\n",
      "42/42 [==============================] - 8s 182ms/step - loss: 8.8662e-04\n",
      "Epoch 87/100\n",
      "42/42 [==============================] - 8s 181ms/step - loss: 9.4388e-04\n",
      "Epoch 88/100\n",
      "42/42 [==============================] - 8s 180ms/step - loss: 9.9159e-04\n",
      "Epoch 89/100\n",
      "42/42 [==============================] - 7s 178ms/step - loss: 8.8531e-04\n",
      "Epoch 90/100\n",
      "42/42 [==============================] - 8s 182ms/step - loss: 8.8256e-04\n",
      "Epoch 91/100\n",
      "42/42 [==============================] - 7s 176ms/step - loss: 9.7669e-04\n",
      "Epoch 92/100\n",
      "42/42 [==============================] - 7s 177ms/step - loss: 0.0016\n",
      "Epoch 93/100\n",
      "42/42 [==============================] - 8s 179ms/step - loss: 0.0012\n",
      "Epoch 94/100\n",
      "42/42 [==============================] - 7s 177ms/step - loss: 0.0012\n",
      "Epoch 95/100\n",
      "42/42 [==============================] - 7s 176ms/step - loss: 8.7567e-04\n",
      "Epoch 96/100\n",
      "42/42 [==============================] - 7s 177ms/step - loss: 9.2977e-04\n",
      "Epoch 97/100\n"
     ]
    },
    {
     "name": "stdout",
     "output_type": "stream",
     "text": [
      "42/42 [==============================] - 7s 173ms/step - loss: 9.9947e-04\n",
      "Epoch 98/100\n",
      "42/42 [==============================] - 7s 170ms/step - loss: 0.0015\n",
      "Epoch 99/100\n",
      "42/42 [==============================] - 7s 169ms/step - loss: 8.3142e-04\n",
      "Epoch 100/100\n",
      "42/42 [==============================] - 7s 173ms/step - loss: 8.6601e-04\n"
     ]
    },
    {
     "data": {
      "text/plain": [
       "<tensorflow.python.keras.callbacks.History at 0x2f05a823c8>"
      ]
     },
     "execution_count": 172,
     "metadata": {},
     "output_type": "execute_result"
    }
   ],
   "source": [
    "model.fit_generator(forecast_tsGenerator, epochs = 100)\n",
    "#The hold dataset from the website is 42 dataset"
   ]
  },
  {
   "cell_type": "code",
   "execution_count": 193,
   "metadata": {},
   "outputs": [
    {
     "data": {
      "text/plain": [
       "<matplotlib.axes._subplots.AxesSubplot at 0x2f05204828>"
      ]
     },
     "execution_count": 193,
     "metadata": {},
     "output_type": "execute_result"
    },
    {
     "data": {
      "image/png": "[encoded data removed]",
      "text/plain": [
       "<matplotlib.figure.Figure at 0x2f0519e978>"
      ]
     },
     "metadata": {
      "needs_background": "light"
     },
     "output_type": "display_data"
    }
   ],
   "source": [
    "loss_history_keys = model.history.history.keys()\n",
    "\n",
    "loss_history_keys\n",
    "df_model_loss = pd.DataFrame(model.history.history)\n",
    "\n",
    "df_model_loss.plot()"
   ]
  },
  {
   "cell_type": "markdown",
   "metadata": {},
   "source": [
    "### Time Series Forecasting with LSTM Neural Network: 07/01/2019-12/15/2019"
   ]
  },
  {
   "cell_type": "code",
   "execution_count": 173,
   "metadata": {},
   "outputs": [],
   "source": [
    "forecast = []\n",
    "periods = 117\n",
    "#117 days business days (07/01/2019-12/15/2019)\n",
    "\n",
    "first_eval_batch = normalized_full_data[-length60:]\n",
    "current_batch = first_eval_batch.reshape((1,length60,n_features))\n",
    "#The last 60 dataset is the first batch\n",
    "\n",
    "for i in range(periods):\n",
    "    #get prediction 1 time stamp ahead ([0] is for grabbing just the number instead of [array])\n",
    "    current_pred = model.predict(current_batch)[0]\n",
    "    \n",
    "    #store prediction\n",
    "    forecast.append(current_pred)\n",
    "    \n",
    "    current_batch = np.append(current_batch[:,1:,:],[[current_pred]], axis=1)"
   ]
  },
  {
   "cell_type": "markdown",
   "metadata": {},
   "source": [
    "### Invese to Transform Normalized Data Back into True Values"
   ]
  },
  {
   "cell_type": "code",
   "execution_count": 175,
   "metadata": {},
   "outputs": [
    {
     "data": {
      "text/plain": [
       "array([[49.79246335],\n",
       "       [49.85305129],\n",
       "       [49.94342083],\n",
       "       [50.05000159],\n",
       "       [50.16172751],\n",
       "       [50.27197859],\n",
       "       [50.3778339 ],\n",
       "       [50.47875713],\n",
       "       [50.57535881],\n",
       "       [50.6686014 ],\n",
       "       [50.75934444],\n",
       "       [50.84821282],\n",
       "       [50.93554889],\n",
       "       [51.02151069],\n",
       "       [51.10613652],\n",
       "       [51.18940244],\n",
       "       [51.27127492],\n",
       "       [51.3517013 ],\n",
       "       [51.43066721],\n",
       "       [51.5081535 ],\n",
       "       [51.58415537],\n",
       "       [51.65867762],\n",
       "       [51.73172504],\n",
       "       [51.80330002],\n",
       "       [51.8734241 ],\n",
       "       [51.94208772],\n",
       "       [52.00931481],\n",
       "       [52.07511255],\n",
       "       [52.13948334],\n",
       "       [52.20245112],\n",
       "       [52.26402308],\n",
       "       [52.32421597],\n",
       "       [52.38303937],\n",
       "       [52.44051484],\n",
       "       [52.49665911],\n",
       "       [52.55148418],\n",
       "       [52.60500919],\n",
       "       [52.65725809],\n",
       "       [52.70824044],\n",
       "       [52.7579802 ],\n",
       "       [52.80649652],\n",
       "       [52.85380855],\n",
       "       [52.89993784],\n",
       "       [52.94490115],\n",
       "       [52.98871763],\n",
       "       [53.03141362],\n",
       "       [53.07300827],\n",
       "       [53.11352073],\n",
       "       [53.15297256],\n",
       "       [53.19138052],\n",
       "       [53.22876854],\n",
       "       [53.26515817],\n",
       "       [53.30057096],\n",
       "       [53.33502847],\n",
       "       [53.36853786],\n",
       "       [53.40114464],\n",
       "       [53.4328488 ],\n",
       "       [53.46367907],\n",
       "       [53.49365221],\n",
       "       [53.5227826 ],\n",
       "       [53.55110134],\n",
       "       [53.57862041],\n",
       "       [53.60536377],\n",
       "       [53.63134336],\n",
       "       [53.65658554],\n",
       "       [53.68109988],\n",
       "       [53.70491272],\n",
       "       [53.72803123],\n",
       "       [53.75048894],\n",
       "       [53.77229064],\n",
       "       [53.79345308],\n",
       "       [53.81399543],\n",
       "       [53.83394161],\n",
       "       [53.85329403],\n",
       "       [53.87207183],\n",
       "       [53.89030137],\n",
       "       [53.90798023],\n",
       "       [53.92513716],\n",
       "       [53.94177933],\n",
       "       [53.95792589],\n",
       "       [53.97358644],\n",
       "       [53.98876814],\n",
       "       [54.00349972],\n",
       "       [54.0177836 ],\n",
       "       [54.03163411],\n",
       "       [54.04506325],\n",
       "       [54.05808058],\n",
       "       [54.07070766],\n",
       "       [54.08294448],\n",
       "       [54.09481019],\n",
       "       [54.1063096 ],\n",
       "       [54.11745705],\n",
       "       [54.12826213],\n",
       "       [54.13873681],\n",
       "       [54.1488763 ],\n",
       "       [54.15871172],\n",
       "       [54.16823829],\n",
       "       [54.17747277],\n",
       "       [54.18641994],\n",
       "       [54.19508699],\n",
       "       [54.20348349],\n",
       "       [54.21162381],\n",
       "       [54.21950316],\n",
       "       [54.2271431 ],\n",
       "       [54.23453882],\n",
       "       [54.24170709],\n",
       "       [54.24864312],\n",
       "       [54.25537086],\n",
       "       [54.26188072],\n",
       "       [54.26819187],\n",
       "       [54.2742995 ],\n",
       "       [54.28021321],\n",
       "       [54.28594734],\n",
       "       [54.29149473],\n",
       "       [54.29686495],\n",
       "       [54.30207236],\n",
       "       [54.30710979]])"
      ]
     },
     "execution_count": 175,
     "metadata": {},
     "output_type": "execute_result"
    }
   ],
   "source": [
    "forecast = full_scaler.inverse_transform(forecast)\n",
    "forecast"
   ]
  },
  {
   "cell_type": "code",
   "execution_count": 176,
   "metadata": {},
   "outputs": [
    {
     "data": {
      "text/html": [
       "<div>\n",
       "<style scoped>\n",
       "    .dataframe tbody tr th:only-of-type {\n",
       "        vertical-align: middle;\n",
       "    }\n",
       "\n",
       "    .dataframe tbody tr th {\n",
       "        vertical-align: top;\n",
       "    }\n",
       "\n",
       "    .dataframe thead th {\n",
       "        text-align: right;\n",
       "    }\n",
       "</style>\n",
       "<table border=\"1\" class=\"dataframe\">\n",
       "  <thead>\n",
       "    <tr style=\"text-align: right;\">\n",
       "      <th></th>\n",
       "      <th>Close</th>\n",
       "    </tr>\n",
       "  </thead>\n",
       "  <tbody>\n",
       "    <tr>\n",
       "      <th>0</th>\n",
       "      <td>19.754642</td>\n",
       "    </tr>\n",
       "    <tr>\n",
       "      <th>1</th>\n",
       "      <td>19.320715</td>\n",
       "    </tr>\n",
       "    <tr>\n",
       "      <th>2</th>\n",
       "      <td>19.426071</td>\n",
       "    </tr>\n",
       "    <tr>\n",
       "      <th>3</th>\n",
       "      <td>19.287144</td>\n",
       "    </tr>\n",
       "    <tr>\n",
       "      <th>4</th>\n",
       "      <td>19.409286</td>\n",
       "    </tr>\n",
       "    <tr>\n",
       "      <th>...</th>\n",
       "      <td>...</td>\n",
       "    </tr>\n",
       "    <tr>\n",
       "      <th>1377</th>\n",
       "      <td>49.645000</td>\n",
       "    </tr>\n",
       "    <tr>\n",
       "      <th>1378</th>\n",
       "      <td>48.892502</td>\n",
       "    </tr>\n",
       "    <tr>\n",
       "      <th>1379</th>\n",
       "      <td>49.950001</td>\n",
       "    </tr>\n",
       "    <tr>\n",
       "      <th>1380</th>\n",
       "      <td>49.935001</td>\n",
       "    </tr>\n",
       "    <tr>\n",
       "      <th>1381</th>\n",
       "      <td>49.480000</td>\n",
       "    </tr>\n",
       "  </tbody>\n",
       "</table>\n",
       "<p>1382 rows × 1 columns</p>\n",
       "</div>"
      ],
      "text/plain": [
       "          Close\n",
       "0     19.754642\n",
       "1     19.320715\n",
       "2     19.426071\n",
       "3     19.287144\n",
       "4     19.409286\n",
       "...         ...\n",
       "1377  49.645000\n",
       "1378  48.892502\n",
       "1379  49.950001\n",
       "1380  49.935001\n",
       "1381  49.480000\n",
       "\n",
       "[1382 rows x 1 columns]"
      ]
     },
     "execution_count": 176,
     "metadata": {},
     "output_type": "execute_result"
    }
   ],
   "source": [
    "df"
   ]
  },
  {
   "cell_type": "code",
   "execution_count": 177,
   "metadata": {},
   "outputs": [],
   "source": [
    "### Create new timestamp index with pandas:07/01/2019-12/15/2019"
   ]
  },
  {
   "cell_type": "code",
   "execution_count": 178,
   "metadata": {},
   "outputs": [],
   "source": [
    "forecast_index = np.arange(1382,1499, step=1)"
   ]
  },
  {
   "cell_type": "code",
   "execution_count": 179,
   "metadata": {},
   "outputs": [],
   "source": [
    "forecast_df = pd.DataFrame(data=forecast, index = forecast_index, columns=['Forecast'])"
   ]
  },
  {
   "cell_type": "code",
   "execution_count": 180,
   "metadata": {},
   "outputs": [
    {
     "data": {
      "text/html": [
       "<div>\n",
       "<style scoped>\n",
       "    .dataframe tbody tr th:only-of-type {\n",
       "        vertical-align: middle;\n",
       "    }\n",
       "\n",
       "    .dataframe tbody tr th {\n",
       "        vertical-align: top;\n",
       "    }\n",
       "\n",
       "    .dataframe thead th {\n",
       "        text-align: right;\n",
       "    }\n",
       "</style>\n",
       "<table border=\"1\" class=\"dataframe\">\n",
       "  <thead>\n",
       "    <tr style=\"text-align: right;\">\n",
       "      <th></th>\n",
       "      <th>Forecast</th>\n",
       "    </tr>\n",
       "  </thead>\n",
       "  <tbody>\n",
       "    <tr>\n",
       "      <th>1382</th>\n",
       "      <td>49.792463</td>\n",
       "    </tr>\n",
       "    <tr>\n",
       "      <th>1383</th>\n",
       "      <td>49.853051</td>\n",
       "    </tr>\n",
       "    <tr>\n",
       "      <th>1384</th>\n",
       "      <td>49.943421</td>\n",
       "    </tr>\n",
       "    <tr>\n",
       "      <th>1385</th>\n",
       "      <td>50.050002</td>\n",
       "    </tr>\n",
       "    <tr>\n",
       "      <th>1386</th>\n",
       "      <td>50.161728</td>\n",
       "    </tr>\n",
       "    <tr>\n",
       "      <th>...</th>\n",
       "      <td>...</td>\n",
       "    </tr>\n",
       "    <tr>\n",
       "      <th>1494</th>\n",
       "      <td>54.285947</td>\n",
       "    </tr>\n",
       "    <tr>\n",
       "      <th>1495</th>\n",
       "      <td>54.291495</td>\n",
       "    </tr>\n",
       "    <tr>\n",
       "      <th>1496</th>\n",
       "      <td>54.296865</td>\n",
       "    </tr>\n",
       "    <tr>\n",
       "      <th>1497</th>\n",
       "      <td>54.302072</td>\n",
       "    </tr>\n",
       "    <tr>\n",
       "      <th>1498</th>\n",
       "      <td>54.307110</td>\n",
       "    </tr>\n",
       "  </tbody>\n",
       "</table>\n",
       "<p>117 rows × 1 columns</p>\n",
       "</div>"
      ],
      "text/plain": [
       "       Forecast\n",
       "1382  49.792463\n",
       "1383  49.853051\n",
       "1384  49.943421\n",
       "1385  50.050002\n",
       "1386  50.161728\n",
       "...         ...\n",
       "1494  54.285947\n",
       "1495  54.291495\n",
       "1496  54.296865\n",
       "1497  54.302072\n",
       "1498  54.307110\n",
       "\n",
       "[117 rows x 1 columns]"
      ]
     },
     "execution_count": 180,
     "metadata": {},
     "output_type": "execute_result"
    }
   ],
   "source": [
    "forecast_df"
   ]
  },
  {
   "cell_type": "markdown",
   "metadata": {},
   "source": [
    "### plot the forecast"
   ]
  },
  {
   "cell_type": "code",
   "execution_count": 181,
   "metadata": {},
   "outputs": [
    {
     "data": {
      "text/plain": [
       "<matplotlib.axes._subplots.AxesSubplot at 0x2f04f9d710>"
      ]
     },
     "execution_count": 181,
     "metadata": {},
     "output_type": "execute_result"
    },
    {
     "data": {
      "image/png": "[encoded data removed]",
      "text/plain": [
       "<matplotlib.figure.Figure at 0x2f04c64c50>"
      ]
     },
     "metadata": {
      "needs_background": "light"
     },
     "output_type": "display_data"
    },
    {
     "data": {
      "image/png": "[encoded data removed]",
      "text/plain": [
       "<matplotlib.figure.Figure at 0x2f04f87ef0>"
      ]
     },
     "metadata": {
      "needs_background": "light"
     },
     "output_type": "display_data"
    }
   ],
   "source": [
    "df.plot()\n",
    "forecast_df.plot()"
   ]
  },
  {
   "cell_type": "code",
   "execution_count": 182,
   "metadata": {},
   "outputs": [
    {
     "data": {
      "text/plain": [
       "<matplotlib.axes._subplots.AxesSubplot at 0x2f04ff2240>"
      ]
     },
     "execution_count": 182,
     "metadata": {},
     "output_type": "execute_result"
    },
    {
     "data": {
      "image/png": "[encoded data removed]",
      "text/plain": [
       "<matplotlib.figure.Figure at 0x2f04fb6c50>"
      ]
     },
     "metadata": {
      "needs_background": "light"
     },
     "output_type": "display_data"
    }
   ],
   "source": [
    "ax = df.plot()\n",
    "forecast_df.plot(ax = ax, figsize=(12,8))"
   ]
  },
  {
   "cell_type": "code",
   "execution_count": 183,
   "metadata": {},
   "outputs": [],
   "source": [
    "dir_path_dataset_2 = 'AAPL(20190701_20191215).csv'"
   ]
  },
  {
   "cell_type": "code",
   "execution_count": 184,
   "metadata": {},
   "outputs": [],
   "source": [
    "df_all_JUL_DEC_2019 = pd.read_csv(dir_path_dataset_2)"
   ]
  },
  {
   "cell_type": "code",
   "execution_count": 185,
   "metadata": {},
   "outputs": [
    {
     "data": {
      "text/html": [
       "<div>\n",
       "<style scoped>\n",
       "    .dataframe tbody tr th:only-of-type {\n",
       "        vertical-align: middle;\n",
       "    }\n",
       "\n",
       "    .dataframe tbody tr th {\n",
       "        vertical-align: top;\n",
       "    }\n",
       "\n",
       "    .dataframe thead th {\n",
       "        text-align: right;\n",
       "    }\n",
       "</style>\n",
       "<table border=\"1\" class=\"dataframe\">\n",
       "  <thead>\n",
       "    <tr style=\"text-align: right;\">\n",
       "      <th></th>\n",
       "      <th>Date</th>\n",
       "      <th>Open</th>\n",
       "      <th>High</th>\n",
       "      <th>Low</th>\n",
       "      <th>Close</th>\n",
       "      <th>Adj Close</th>\n",
       "      <th>Volume</th>\n",
       "    </tr>\n",
       "  </thead>\n",
       "  <tbody>\n",
       "    <tr>\n",
       "      <th>0</th>\n",
       "      <td>2019-07-01</td>\n",
       "      <td>50.792500</td>\n",
       "      <td>51.122501</td>\n",
       "      <td>50.162498</td>\n",
       "      <td>50.387501</td>\n",
       "      <td>49.385983</td>\n",
       "      <td>109012000</td>\n",
       "    </tr>\n",
       "    <tr>\n",
       "      <th>1</th>\n",
       "      <td>2019-07-02</td>\n",
       "      <td>50.352501</td>\n",
       "      <td>50.782501</td>\n",
       "      <td>50.340000</td>\n",
       "      <td>50.682499</td>\n",
       "      <td>49.675121</td>\n",
       "      <td>67740800</td>\n",
       "    </tr>\n",
       "    <tr>\n",
       "      <th>2</th>\n",
       "      <td>2019-07-03</td>\n",
       "      <td>50.820000</td>\n",
       "      <td>51.110001</td>\n",
       "      <td>50.672501</td>\n",
       "      <td>51.102501</td>\n",
       "      <td>50.086777</td>\n",
       "      <td>45448000</td>\n",
       "    </tr>\n",
       "    <tr>\n",
       "      <th>3</th>\n",
       "      <td>2019-07-05</td>\n",
       "      <td>50.837502</td>\n",
       "      <td>51.270000</td>\n",
       "      <td>50.724998</td>\n",
       "      <td>51.057499</td>\n",
       "      <td>50.042667</td>\n",
       "      <td>69062000</td>\n",
       "    </tr>\n",
       "    <tr>\n",
       "      <th>4</th>\n",
       "      <td>2019-07-08</td>\n",
       "      <td>50.202499</td>\n",
       "      <td>50.349998</td>\n",
       "      <td>49.602501</td>\n",
       "      <td>50.005001</td>\n",
       "      <td>49.011086</td>\n",
       "      <td>101354400</td>\n",
       "    </tr>\n",
       "  </tbody>\n",
       "</table>\n",
       "</div>"
      ],
      "text/plain": [
       "         Date       Open       High        Low      Close  Adj Close  \\\n",
       "0  2019-07-01  50.792500  51.122501  50.162498  50.387501  49.385983   \n",
       "1  2019-07-02  50.352501  50.782501  50.340000  50.682499  49.675121   \n",
       "2  2019-07-03  50.820000  51.110001  50.672501  51.102501  50.086777   \n",
       "3  2019-07-05  50.837502  51.270000  50.724998  51.057499  50.042667   \n",
       "4  2019-07-08  50.202499  50.349998  49.602501  50.005001  49.011086   \n",
       "\n",
       "      Volume  \n",
       "0  109012000  \n",
       "1   67740800  \n",
       "2   45448000  \n",
       "3   69062000  \n",
       "4  101354400  "
      ]
     },
     "execution_count": 185,
     "metadata": {},
     "output_type": "execute_result"
    }
   ],
   "source": [
    "df_all_JUL_DEC_2019.head()"
   ]
  },
  {
   "cell_type": "code",
   "execution_count": 186,
   "metadata": {},
   "outputs": [],
   "source": [
    "df_JUL_DEC_2019 = df_all_JUL_DEC_2019.iloc[:,4:5]"
   ]
  },
  {
   "cell_type": "code",
   "execution_count": 187,
   "metadata": {},
   "outputs": [
    {
     "data": {
      "text/html": [
       "<div>\n",
       "<style scoped>\n",
       "    .dataframe tbody tr th:only-of-type {\n",
       "        vertical-align: middle;\n",
       "    }\n",
       "\n",
       "    .dataframe tbody tr th {\n",
       "        vertical-align: top;\n",
       "    }\n",
       "\n",
       "    .dataframe thead th {\n",
       "        text-align: right;\n",
       "    }\n",
       "</style>\n",
       "<table border=\"1\" class=\"dataframe\">\n",
       "  <thead>\n",
       "    <tr style=\"text-align: right;\">\n",
       "      <th></th>\n",
       "      <th>Close</th>\n",
       "    </tr>\n",
       "  </thead>\n",
       "  <tbody>\n",
       "    <tr>\n",
       "      <th>0</th>\n",
       "      <td>50.387501</td>\n",
       "    </tr>\n",
       "    <tr>\n",
       "      <th>1</th>\n",
       "      <td>50.682499</td>\n",
       "    </tr>\n",
       "    <tr>\n",
       "      <th>2</th>\n",
       "      <td>51.102501</td>\n",
       "    </tr>\n",
       "    <tr>\n",
       "      <th>3</th>\n",
       "      <td>51.057499</td>\n",
       "    </tr>\n",
       "    <tr>\n",
       "      <th>4</th>\n",
       "      <td>50.005001</td>\n",
       "    </tr>\n",
       "    <tr>\n",
       "      <th>...</th>\n",
       "      <td>...</td>\n",
       "    </tr>\n",
       "    <tr>\n",
       "      <th>112</th>\n",
       "      <td>66.730003</td>\n",
       "    </tr>\n",
       "    <tr>\n",
       "      <th>113</th>\n",
       "      <td>67.120003</td>\n",
       "    </tr>\n",
       "    <tr>\n",
       "      <th>114</th>\n",
       "      <td>67.692497</td>\n",
       "    </tr>\n",
       "    <tr>\n",
       "      <th>115</th>\n",
       "      <td>67.864998</td>\n",
       "    </tr>\n",
       "    <tr>\n",
       "      <th>116</th>\n",
       "      <td>68.787498</td>\n",
       "    </tr>\n",
       "  </tbody>\n",
       "</table>\n",
       "<p>117 rows × 1 columns</p>\n",
       "</div>"
      ],
      "text/plain": [
       "         Close\n",
       "0    50.387501\n",
       "1    50.682499\n",
       "2    51.102501\n",
       "3    51.057499\n",
       "4    50.005001\n",
       "..         ...\n",
       "112  66.730003\n",
       "113  67.120003\n",
       "114  67.692497\n",
       "115  67.864998\n",
       "116  68.787498\n",
       "\n",
       "[117 rows x 1 columns]"
      ]
     },
     "execution_count": 187,
     "metadata": {},
     "output_type": "execute_result"
    }
   ],
   "source": [
    "df_JUL_DEC_2019"
   ]
  },
  {
   "cell_type": "code",
   "execution_count": 188,
   "metadata": {},
   "outputs": [
    {
     "data": {
      "text/plain": [
       "<matplotlib.axes._subplots.AxesSubplot at 0x2f05038e48>"
      ]
     },
     "execution_count": 188,
     "metadata": {},
     "output_type": "execute_result"
    },
    {
     "data": {
      "image/png": "[encoded data removed]",
      "text/plain": [
       "<matplotlib.figure.Figure at 0x2f04c8add8>"
      ]
     },
     "metadata": {
      "needs_background": "light"
     },
     "output_type": "display_data"
    }
   ],
   "source": [
    "df_JUL_DEC_2019.plot()"
   ]
  },
  {
   "cell_type": "code",
   "execution_count": 189,
   "metadata": {
    "scrolled": true
   },
   "outputs": [
    {
     "data": {
      "text/plain": [
       "array([49.79246335, 49.85305129, 49.94342083, 50.05000159, 50.16172751,\n",
       "       50.27197859, 50.3778339 , 50.47875713, 50.57535881, 50.6686014 ,\n",
       "       50.75934444, 50.84821282, 50.93554889, 51.02151069, 51.10613652,\n",
       "       51.18940244, 51.27127492, 51.3517013 , 51.43066721, 51.5081535 ,\n",
       "       51.58415537, 51.65867762, 51.73172504, 51.80330002, 51.8734241 ,\n",
       "       51.94208772, 52.00931481, 52.07511255, 52.13948334, 52.20245112,\n",
       "       52.26402308, 52.32421597, 52.38303937, 52.44051484, 52.49665911,\n",
       "       52.55148418, 52.60500919, 52.65725809, 52.70824044, 52.7579802 ,\n",
       "       52.80649652, 52.85380855, 52.89993784, 52.94490115, 52.98871763,\n",
       "       53.03141362, 53.07300827, 53.11352073, 53.15297256, 53.19138052,\n",
       "       53.22876854, 53.26515817, 53.30057096, 53.33502847, 53.36853786,\n",
       "       53.40114464, 53.4328488 , 53.46367907, 53.49365221, 53.5227826 ,\n",
       "       53.55110134, 53.57862041, 53.60536377, 53.63134336, 53.65658554,\n",
       "       53.68109988, 53.70491272, 53.72803123, 53.75048894, 53.77229064,\n",
       "       53.79345308, 53.81399543, 53.83394161, 53.85329403, 53.87207183,\n",
       "       53.89030137, 53.90798023, 53.92513716, 53.94177933, 53.95792589,\n",
       "       53.97358644, 53.98876814, 54.00349972, 54.0177836 , 54.03163411,\n",
       "       54.04506325, 54.05808058, 54.07070766, 54.08294448, 54.09481019,\n",
       "       54.1063096 , 54.11745705, 54.12826213, 54.13873681, 54.1488763 ,\n",
       "       54.15871172, 54.16823829, 54.17747277, 54.18641994, 54.19508699,\n",
       "       54.20348349, 54.21162381, 54.21950316, 54.2271431 , 54.23453882,\n",
       "       54.24170709, 54.24864312, 54.25537086, 54.26188072, 54.26819187,\n",
       "       54.2742995 , 54.28021321, 54.28594734, 54.29149473, 54.29686495,\n",
       "       54.30207236, 54.30710979])"
      ]
     },
     "execution_count": 189,
     "metadata": {},
     "output_type": "execute_result"
    }
   ],
   "source": [
    "forecast_df['Forecast'].values"
   ]
  },
  {
   "cell_type": "code",
   "execution_count": 192,
   "metadata": {},
   "outputs": [
    {
     "name": "stdout",
     "output_type": "stream",
     "text": [
      "         Close   Forecast\n",
      "0    50.387501  49.792463\n",
      "1    50.682499  49.853051\n",
      "2    51.102501  49.943421\n",
      "3    51.057499  50.050002\n",
      "4    50.005001  50.161728\n",
      "..         ...        ...\n",
      "112  66.730003  54.285947\n",
      "113  67.120003  54.291495\n",
      "114  67.692497  54.296865\n",
      "115  67.864998  54.302072\n",
      "116  68.787498  54.307110\n",
      "\n",
      "[117 rows x 2 columns]\n"
     ]
    },
    {
     "data": {
      "text/plain": [
       "<matplotlib.axes._subplots.AxesSubplot at 0x2f051502e8>"
      ]
     },
     "execution_count": 192,
     "metadata": {},
     "output_type": "execute_result"
    },
    {
     "data": {
      "image/png": "[encoded data removed]",
      "text/plain": [
       "<matplotlib.figure.Figure at 0x2f051589b0>"
      ]
     },
     "metadata": {
      "needs_background": "light"
     },
     "output_type": "display_data"
    }
   ],
   "source": [
    "df_JUL_DEC_2019['Forecast'] = forecast_df['Forecast'].values\n",
    "print(df_JUL_DEC_2019)\n",
    "df_JUL_DEC_2019.plot()"
   ]
  },
  {
   "cell_type": "code",
   "execution_count": null,
   "metadata": {},
   "outputs": [],
   "source": []
  },
  {
   "cell_type": "code",
   "execution_count": null,
   "metadata": {},
   "outputs": [],
   "source": []
  }
 ],
 "metadata": {
  "kernelspec": {
   "display_name": "Python 3",
   "language": "python",
   "name": "python3"
  },
  "language_info": {
   "codemirror_mode": {
    "name": "ipython",
    "version": 3
   },
   "file_extension": ".py",
   "mimetype": "text/x-python",
   "name": "python",
   "nbconvert_exporter": "python",
   "pygments_lexer": "ipython3",
   "version": "3.6.4"
  }
 },
 "nbformat": 4,
 "nbformat_minor": 2
}
