{
 "cells": [
  {
   "cell_type": "markdown",
   "metadata": {},
   "source": [
    "# ADTA_5560_Assignment_3_Submission"
   ]
  },
  {
   "cell_type": "code",
   "execution_count": 208,
   "metadata": {},
   "outputs": [],
   "source": [
    "import pandas as pd\n",
    "import numpy as np\n",
    "%matplotlib inline\n",
    "import matplotlib.pyplot as plt\n",
    "from tensorflow.keras.models import Sequential\n",
    "from tensorflow.keras.layers import Dense,SimpleRNN\n",
    "#Dense layer (Fully connected layer)\n",
    "from tensorflow.keras.preprocessing.sequence import TimeseriesGenerator\n",
    "#use the time to provide to generate input sequence to run train and test the model\n",
    "from sklearn.preprocessing import MinMaxScaler\n",
    "#use this to normalize the data in range 0 to 1"
   ]
  },
  {
   "cell_type": "markdown",
   "metadata": {},
   "source": [
    "### Data generator"
   ]
  },
  {
   "cell_type": "code",
   "execution_count": 209,
   "metadata": {},
   "outputs": [
    {
     "data": {
      "text/plain": [
       "array([0.00000000e+00, 6.25610948e-02, 1.25122190e-01, ...,\n",
       "       6.38748778e+01, 6.39374389e+01, 6.40000000e+01])"
      ]
     },
     "execution_count": 209,
     "metadata": {},
     "output_type": "execute_result"
    }
   ],
   "source": [
    "x = np.linspace(0,64,1024)\n",
    "# np.linspace will generate (0+64) / 1024 dataset\n",
    "y = np.sin(x)\n",
    "x"
   ]
  },
  {
   "cell_type": "code",
   "execution_count": 210,
   "metadata": {},
   "outputs": [
    {
     "data": {
      "text/plain": [
       "array([0.        , 0.06252029, 0.12479597, ..., 0.86393146, 0.89372716,\n",
       "       0.92002604])"
      ]
     },
     "execution_count": 210,
     "metadata": {},
     "output_type": "execute_result"
    }
   ],
   "source": [
    "y"
   ]
  },
  {
   "cell_type": "code",
   "execution_count": 211,
   "metadata": {},
   "outputs": [
    {
     "data": {
      "text/plain": [
       "[<matplotlib.lines.Line2D at 0x55c65b7630>]"
      ]
     },
     "execution_count": 211,
     "metadata": {},
     "output_type": "execute_result"
    },
    {
     "data": {
      "image/png": "[encoded data removed]",
      "text/plain": [
       "<matplotlib.figure.Figure at 0x55d7c16e80>"
      ]
     },
     "metadata": {
      "needs_background": "light"
     },
     "output_type": "display_data"
    }
   ],
   "source": [
    "plt.plot(x,y)"
   ]
  },
  {
   "cell_type": "code",
   "execution_count": 212,
   "metadata": {},
   "outputs": [
    {
     "data": {
      "text/html": [
       "<div>\n",
       "<style scoped>\n",
       "    .dataframe tbody tr th:only-of-type {\n",
       "        vertical-align: middle;\n",
       "    }\n",
       "\n",
       "    .dataframe tbody tr th {\n",
       "        vertical-align: top;\n",
       "    }\n",
       "\n",
       "    .dataframe thead th {\n",
       "        text-align: right;\n",
       "    }\n",
       "</style>\n",
       "<table border=\"1\" class=\"dataframe\">\n",
       "  <thead>\n",
       "    <tr style=\"text-align: right;\">\n",
       "      <th></th>\n",
       "      <th>Sine</th>\n",
       "    </tr>\n",
       "  </thead>\n",
       "  <tbody>\n",
       "    <tr>\n",
       "      <th>0.000000</th>\n",
       "      <td>0.000000</td>\n",
       "    </tr>\n",
       "    <tr>\n",
       "      <th>0.062561</th>\n",
       "      <td>0.062520</td>\n",
       "    </tr>\n",
       "    <tr>\n",
       "      <th>0.125122</th>\n",
       "      <td>0.124796</td>\n",
       "    </tr>\n",
       "    <tr>\n",
       "      <th>0.187683</th>\n",
       "      <td>0.186583</td>\n",
       "    </tr>\n",
       "    <tr>\n",
       "      <th>0.250244</th>\n",
       "      <td>0.247641</td>\n",
       "    </tr>\n",
       "  </tbody>\n",
       "</table>\n",
       "</div>"
      ],
      "text/plain": [
       "              Sine\n",
       "0.000000  0.000000\n",
       "0.062561  0.062520\n",
       "0.125122  0.124796\n",
       "0.187683  0.186583\n",
       "0.250244  0.247641"
      ]
     },
     "execution_count": 212,
     "metadata": {},
     "output_type": "execute_result"
    }
   ],
   "source": [
    "df = pd.DataFrame(data= y, index=x, columns=['Sine'])\n",
    "#use data y named Sine and index x\n",
    "#x is not the real data. X is only index\n",
    "df.head(5)"
   ]
  },
  {
   "cell_type": "code",
   "execution_count": 213,
   "metadata": {},
   "outputs": [
    {
     "data": {
      "text/plain": [
       "1024"
      ]
     },
     "execution_count": 213,
     "metadata": {},
     "output_type": "execute_result"
    }
   ],
   "source": [
    "len(df)"
   ]
  },
  {
   "cell_type": "markdown",
   "metadata": {},
   "source": [
    "### Split Data --> Train/Test"
   ]
  },
  {
   "cell_type": "code",
   "execution_count": 214,
   "metadata": {},
   "outputs": [],
   "source": [
    "test_percent = 0.2"
   ]
  },
  {
   "cell_type": "code",
   "execution_count": 215,
   "metadata": {},
   "outputs": [
    {
     "data": {
      "text/plain": [
       "204.8"
      ]
     },
     "execution_count": 215,
     "metadata": {},
     "output_type": "execute_result"
    }
   ],
   "source": [
    "len(df)*test_percent"
   ]
  },
  {
   "cell_type": "code",
   "execution_count": 216,
   "metadata": {},
   "outputs": [],
   "source": [
    "test_length = np.round(len(df)*test_percent)"
   ]
  },
  {
   "cell_type": "code",
   "execution_count": 217,
   "metadata": {},
   "outputs": [
    {
     "data": {
      "text/plain": [
       "205.0"
      ]
     },
     "execution_count": 217,
     "metadata": {},
     "output_type": "execute_result"
    }
   ],
   "source": [
    "test_length"
   ]
  },
  {
   "cell_type": "code",
   "execution_count": 218,
   "metadata": {},
   "outputs": [],
   "source": [
    "test_start_index = int(len(df)-test_length)"
   ]
  },
  {
   "cell_type": "code",
   "execution_count": 219,
   "metadata": {},
   "outputs": [],
   "source": [
    "data_train = df.iloc[:test_start_index] \n",
    "data_test = df.iloc[test_start_index:] \n",
    "#df.iloc[:test_start_index] call the data from df from 0 to test_start_index(819-1 because the number is started from 0)"
   ]
  },
  {
   "cell_type": "code",
   "execution_count": 220,
   "metadata": {},
   "outputs": [
    {
     "data": {
      "text/html": [
       "<div>\n",
       "<style scoped>\n",
       "    .dataframe tbody tr th:only-of-type {\n",
       "        vertical-align: middle;\n",
       "    }\n",
       "\n",
       "    .dataframe tbody tr th {\n",
       "        vertical-align: top;\n",
       "    }\n",
       "\n",
       "    .dataframe thead th {\n",
       "        text-align: right;\n",
       "    }\n",
       "</style>\n",
       "<table border=\"1\" class=\"dataframe\">\n",
       "  <thead>\n",
       "    <tr style=\"text-align: right;\">\n",
       "      <th></th>\n",
       "      <th>Sine</th>\n",
       "    </tr>\n",
       "  </thead>\n",
       "  <tbody>\n",
       "    <tr>\n",
       "      <th>0.000000</th>\n",
       "      <td>0.000000</td>\n",
       "    </tr>\n",
       "    <tr>\n",
       "      <th>0.062561</th>\n",
       "      <td>0.062520</td>\n",
       "    </tr>\n",
       "    <tr>\n",
       "      <th>0.125122</th>\n",
       "      <td>0.124796</td>\n",
       "    </tr>\n",
       "    <tr>\n",
       "      <th>0.187683</th>\n",
       "      <td>0.186583</td>\n",
       "    </tr>\n",
       "    <tr>\n",
       "      <th>0.250244</th>\n",
       "      <td>0.247641</td>\n",
       "    </tr>\n",
       "  </tbody>\n",
       "</table>\n",
       "</div>"
      ],
      "text/plain": [
       "              Sine\n",
       "0.000000  0.000000\n",
       "0.062561  0.062520\n",
       "0.125122  0.124796\n",
       "0.187683  0.186583\n",
       "0.250244  0.247641"
      ]
     },
     "execution_count": 220,
     "metadata": {},
     "output_type": "execute_result"
    }
   ],
   "source": [
    "data_train.head(5)"
   ]
  },
  {
   "cell_type": "code",
   "execution_count": 221,
   "metadata": {},
   "outputs": [
    {
     "data": {
      "text/html": [
       "<div>\n",
       "<style scoped>\n",
       "    .dataframe tbody tr th:only-of-type {\n",
       "        vertical-align: middle;\n",
       "    }\n",
       "\n",
       "    .dataframe tbody tr th {\n",
       "        vertical-align: top;\n",
       "    }\n",
       "\n",
       "    .dataframe thead th {\n",
       "        text-align: right;\n",
       "    }\n",
       "</style>\n",
       "<table border=\"1\" class=\"dataframe\">\n",
       "  <thead>\n",
       "    <tr style=\"text-align: right;\">\n",
       "      <th></th>\n",
       "      <th>Sine</th>\n",
       "    </tr>\n",
       "  </thead>\n",
       "  <tbody>\n",
       "    <tr>\n",
       "      <th>51.237537</th>\n",
       "      <td>0.826045</td>\n",
       "    </tr>\n",
       "    <tr>\n",
       "      <th>51.300098</th>\n",
       "      <td>0.859666</td>\n",
       "    </tr>\n",
       "    <tr>\n",
       "      <th>51.362659</th>\n",
       "      <td>0.889923</td>\n",
       "    </tr>\n",
       "    <tr>\n",
       "      <th>51.425220</th>\n",
       "      <td>0.916698</td>\n",
       "    </tr>\n",
       "    <tr>\n",
       "      <th>51.487781</th>\n",
       "      <td>0.939887</td>\n",
       "    </tr>\n",
       "  </tbody>\n",
       "</table>\n",
       "</div>"
      ],
      "text/plain": [
       "               Sine\n",
       "51.237537  0.826045\n",
       "51.300098  0.859666\n",
       "51.362659  0.889923\n",
       "51.425220  0.916698\n",
       "51.487781  0.939887"
      ]
     },
     "execution_count": 221,
     "metadata": {},
     "output_type": "execute_result"
    }
   ],
   "source": [
    "data_test.head(5)"
   ]
  },
  {
   "cell_type": "markdown",
   "metadata": {},
   "source": [
    "### Normalize Data(Scale the data to be zero to one)"
   ]
  },
  {
   "cell_type": "code",
   "execution_count": 222,
   "metadata": {},
   "outputs": [],
   "source": [
    "scaler = MinMaxScaler()\n",
    "# create minmax class"
   ]
  },
  {
   "cell_type": "code",
   "execution_count": 223,
   "metadata": {},
   "outputs": [
    {
     "data": {
      "text/plain": [
       "MinMaxScaler()"
      ]
     },
     "execution_count": 223,
     "metadata": {},
     "output_type": "execute_result"
    }
   ],
   "source": [
    "scaler.fit(data_train)\n",
    "#train the data fit scaler"
   ]
  },
  {
   "cell_type": "code",
   "execution_count": 224,
   "metadata": {},
   "outputs": [],
   "source": [
    "normalized_train = scaler.transform(data_train)\n",
    "#normalized train\n",
    "normalized_test = scaler.transform(data_test)"
   ]
  },
  {
   "cell_type": "markdown",
   "metadata": {},
   "source": [
    "### Create TimeseriesGenerator Instance"
   ]
  },
  {
   "cell_type": "code",
   "execution_count": 225,
   "metadata": {},
   "outputs": [],
   "source": [
    "#time generate time series to train time series \n",
    "length = 50\n",
    "#use 50 history data points to predict future one\n",
    "\n",
    "batch_size = 1\n",
    "#batch = set of sample (1 sample = lenght = 50 historical data point)\n",
    "\n",
    "train_tsGenerator50 = TimeseriesGenerator(normalized_train, normalized_train, length = length, batch_size = batch_size)\n",
    "#create a Timeseries for training(input : normalized_train, normalized_train, lenght = length, batch_size = batch_size)\n",
    "#provide constructure of class TimeseriesGenerator with 4 parameters as normalized_train, normalized_train, length, batch_size"
   ]
  },
  {
   "cell_type": "code",
   "execution_count": 226,
   "metadata": {},
   "outputs": [],
   "source": [
    "#what does the first batch look like\n",
    "X,y = train_tsGenerator50[0]"
   ]
  },
  {
   "cell_type": "code",
   "execution_count": 227,
   "metadata": {},
   "outputs": [
    {
     "data": {
      "text/plain": [
       "array([0.49999882, 0.53125908, 0.56239703, 0.59329085, 0.62381964,\n",
       "       0.65386398, 0.6833063 , 0.7120314 , 0.73992691, 0.76688367,\n",
       "       0.79279621, 0.81756315, 0.84108759, 0.86327747, 0.88404598,\n",
       "       0.90331187, 0.92099975, 0.93704041, 0.9513711 , 0.96393574,\n",
       "       0.97468518, 0.98357735, 0.99057747, 0.99565814, 0.99879949,\n",
       "       0.99998922, 0.99922268, 0.99650287, 0.99184044, 0.98525361,\n",
       "       0.97676818, 0.96641732, 0.95424156, 0.94028851, 0.92461278,\n",
       "       0.90727571, 0.88834511, 0.86789506, 0.84600558, 0.82276231,\n",
       "       0.79825619, 0.7725831 , 0.7458435 , 0.718142  , 0.68958699,\n",
       "       0.66029019, 0.63036624, 0.59993221, 0.56910717, 0.53801175])"
      ]
     },
     "execution_count": 227,
     "metadata": {},
     "output_type": "execute_result"
    }
   ],
   "source": [
    "#flatten modify the x to be one demension array because it is the easy format to analyze\n",
    "X.flatten()\n",
    "#print"
   ]
  },
  {
   "cell_type": "code",
   "execution_count": 228,
   "metadata": {},
   "outputs": [
    {
     "data": {
      "text/plain": [
       "array([[0.50676759]])"
      ]
     },
     "execution_count": 228,
     "metadata": {},
     "output_type": "execute_result"
    }
   ],
   "source": [
    "# y = the predicted from x\n",
    "y"
   ]
  },
  {
   "cell_type": "markdown",
   "metadata": {},
   "source": [
    "### Build - Train - Test Recurrnt Neural Network"
   ]
  },
  {
   "cell_type": "markdown",
   "metadata": {},
   "source": [
    "Build Simple RNN model"
   ]
  },
  {
   "cell_type": "code",
   "execution_count": 229,
   "metadata": {},
   "outputs": [],
   "source": [
    "n_features = 1\n",
    "\n",
    "model = Sequential()\n",
    "\n",
    "model.add(SimpleRNN(100, input_shape=(length, n_features)))\n",
    "#simple RNN added 100 which can use any number of RNN cell, but not too much for easlies to run\n",
    "\n",
    "model.add(Dense(1))\n",
    "#Fully conected layer"
   ]
  },
  {
   "cell_type": "markdown",
   "metadata": {},
   "source": [
    "Complie Model"
   ]
  },
  {
   "cell_type": "code",
   "execution_count": 230,
   "metadata": {},
   "outputs": [
    {
     "name": "stdout",
     "output_type": "stream",
     "text": [
      "Model: \"sequential_10\"\n",
      "_________________________________________________________________\n",
      "Layer (type)                 Output Shape              Param #   \n",
      "=================================================================\n",
      "simple_rnn_9 (SimpleRNN)     (None, 100)               10200     \n",
      "_________________________________________________________________\n",
      "dense_10 (Dense)             (None, 1)                 101       \n",
      "=================================================================\n",
      "Total params: 10,301\n",
      "Trainable params: 10,301\n",
      "Non-trainable params: 0\n",
      "_________________________________________________________________\n"
     ]
    }
   ],
   "source": [
    "model.compile(optimizer='adam', loss='mse')\n",
    "model.summary()"
   ]
  },
  {
   "cell_type": "markdown",
   "metadata": {},
   "source": [
    "### Train (Fit) Model"
   ]
  },
  {
   "cell_type": "code",
   "execution_count": 231,
   "metadata": {},
   "outputs": [
    {
     "name": "stdout",
     "output_type": "stream",
     "text": [
      "Epoch 1/5\n"
     ]
    },
    {
     "name": "stderr",
     "output_type": "stream",
     "text": [
      "C:\\Users\\admin\\AppData\\Roaming\\Python\\Python36\\site-packages\\keras\\engine\\training.py:1972: UserWarning: `Model.fit_generator` is deprecated and will be removed in a future version. Please use `Model.fit`, which supports generators.\n",
      "  warnings.warn('`Model.fit_generator` is deprecated and '\n"
     ]
    },
    {
     "name": "stdout",
     "output_type": "stream",
     "text": [
      "769/769 [==============================] - 11s 12ms/step - loss: 0.0028\n",
      "Epoch 2/5\n",
      "769/769 [==============================] - 9s 12ms/step - loss: 1.2384e-04\n",
      "Epoch 3/5\n",
      "769/769 [==============================] - 9s 12ms/step - loss: 3.0598e-04\n",
      "Epoch 4/5\n",
      "769/769 [==============================] - 9s 12ms/step - loss: 4.9437e-05\n",
      "Epoch 5/5\n",
      "769/769 [==============================] - 9s 12ms/step - loss: 2.9262e-04\n"
     ]
    }
   ],
   "source": [
    "history = model.fit_generator(train_tsGenerator50, epochs = 5)\n",
    "#generate the data itself to train the model\n",
    "#epochs = the times that model be trained "
   ]
  },
  {
   "cell_type": "markdown",
   "metadata": {},
   "source": [
    "## Visualize model's performance after training"
   ]
  },
  {
   "cell_type": "code",
   "execution_count": 232,
   "metadata": {},
   "outputs": [
    {
     "data": {
      "text/plain": [
       "<matplotlib.axes._subplots.AxesSubplot at 0x55c59ead30>"
      ]
     },
     "execution_count": 232,
     "metadata": {},
     "output_type": "execute_result"
    },
    {
     "data": {
      "image/png": "[encoded data removed]",
      "text/plain": [
       "<matplotlib.figure.Figure at 0x55d8d40860>"
      ]
     },
     "metadata": {
      "needs_background": "light"
     },
     "output_type": "display_data"
    }
   ],
   "source": [
    "df_model_loss = pd.DataFrame(model.history.history)\n",
    "df_model_loss.plot()"
   ]
  },
  {
   "cell_type": "code",
   "execution_count": 233,
   "metadata": {},
   "outputs": [
    {
     "data": {
      "text/plain": [
       "50"
      ]
     },
     "execution_count": 233,
     "metadata": {},
     "output_type": "execute_result"
    }
   ],
   "source": [
    "length"
   ]
  },
  {
   "cell_type": "code",
   "execution_count": 234,
   "metadata": {},
   "outputs": [
    {
     "data": {
      "text/plain": [
       "array([[8.31976169e-02],\n",
       "       [6.67457884e-02],\n",
       "       [5.19891118e-02],\n",
       "       [3.89853243e-02],\n",
       "       [2.77853048e-02],\n",
       "       [1.84328746e-02],\n",
       "       [1.09646261e-02],\n",
       "       [5.40977978e-03],\n",
       "       [1.79006951e-03],\n",
       "       [1.19657859e-04],\n",
       "       [4.05080501e-04],\n",
       "       [2.64522069e-03],\n",
       "       [6.83131362e-03],\n",
       "       [1.29469807e-02],\n",
       "       [2.09682938e-02],\n",
       "       [3.08638684e-02],\n",
       "       [4.25949871e-02],\n",
       "       [5.61157506e-02],\n",
       "       [7.13732572e-02],\n",
       "       [8.83078103e-02],\n",
       "       [1.06853151e-01],\n",
       "       [1.26936720e-01],\n",
       "       [1.48479936e-01],\n",
       "       [1.71398511e-01],\n",
       "       [1.95602771e-01],\n",
       "       [2.20998016e-01],\n",
       "       [2.47484883e-01],\n",
       "       [2.74959740e-01],\n",
       "       [3.03315088e-01],\n",
       "       [3.32439984e-01],\n",
       "       [3.62220472e-01],\n",
       "       [3.92540034e-01],\n",
       "       [4.23280041e-01],\n",
       "       [4.54320219e-01],\n",
       "       [4.85539119e-01],\n",
       "       [5.16814595e-01],\n",
       "       [5.48024277e-01],\n",
       "       [5.79046054e-01],\n",
       "       [6.09758550e-01],\n",
       "       [6.40041598e-01],\n",
       "       [6.69776713e-01],\n",
       "       [6.98847552e-01],\n",
       "       [7.27140373e-01],\n",
       "       [7.54544477e-01],\n",
       "       [7.80952641e-01],\n",
       "       [8.06261542e-01],\n",
       "       [8.30372155e-01],\n",
       "       [8.53190144e-01],\n",
       "       [8.74626233e-01],\n",
       "       [8.94596548e-01]])"
      ]
     },
     "execution_count": 234,
     "metadata": {},
     "output_type": "execute_result"
    }
   ],
   "source": [
    "first_eval_batch = normalized_train[-length:]\n",
    "first_eval_batch\n",
    "#the last training of the first batch of dataset"
   ]
  },
  {
   "cell_type": "markdown",
   "metadata": {},
   "source": [
    "# The shape should be 3D :\n",
    "The first_eval_batch: current is 2D array that need to be reshaping\n",
    "first-axis : number of sample in the batch\n",
    " \n",
    "second-axis : number of time series step, number of the features"
   ]
  },
  {
   "cell_type": "code",
   "execution_count": 235,
   "metadata": {},
   "outputs": [
    {
     "data": {
      "text/plain": [
       "array([[[8.31976169e-02],\n",
       "        [6.67457884e-02],\n",
       "        [5.19891118e-02],\n",
       "        [3.89853243e-02],\n",
       "        [2.77853048e-02],\n",
       "        [1.84328746e-02],\n",
       "        [1.09646261e-02],\n",
       "        [5.40977978e-03],\n",
       "        [1.79006951e-03],\n",
       "        [1.19657859e-04],\n",
       "        [4.05080501e-04],\n",
       "        [2.64522069e-03],\n",
       "        [6.83131362e-03],\n",
       "        [1.29469807e-02],\n",
       "        [2.09682938e-02],\n",
       "        [3.08638684e-02],\n",
       "        [4.25949871e-02],\n",
       "        [5.61157506e-02],\n",
       "        [7.13732572e-02],\n",
       "        [8.83078103e-02],\n",
       "        [1.06853151e-01],\n",
       "        [1.26936720e-01],\n",
       "        [1.48479936e-01],\n",
       "        [1.71398511e-01],\n",
       "        [1.95602771e-01],\n",
       "        [2.20998016e-01],\n",
       "        [2.47484883e-01],\n",
       "        [2.74959740e-01],\n",
       "        [3.03315088e-01],\n",
       "        [3.32439984e-01],\n",
       "        [3.62220472e-01],\n",
       "        [3.92540034e-01],\n",
       "        [4.23280041e-01],\n",
       "        [4.54320219e-01],\n",
       "        [4.85539119e-01],\n",
       "        [5.16814595e-01],\n",
       "        [5.48024277e-01],\n",
       "        [5.79046054e-01],\n",
       "        [6.09758550e-01],\n",
       "        [6.40041598e-01],\n",
       "        [6.69776713e-01],\n",
       "        [6.98847552e-01],\n",
       "        [7.27140373e-01],\n",
       "        [7.54544477e-01],\n",
       "        [7.80952641e-01],\n",
       "        [8.06261542e-01],\n",
       "        [8.30372155e-01],\n",
       "        [8.53190144e-01],\n",
       "        [8.74626233e-01],\n",
       "        [8.94596548e-01]]])"
      ]
     },
     "execution_count": 235,
     "metadata": {},
     "output_type": "execute_result"
    }
   ],
   "source": [
    "#The first number (the number of sample in the batch) =1\n",
    "#length = number of time series step\n",
    "#n_features = number of the features\n",
    "#three square bucket has 50 numbers in a batch\n",
    "\n",
    "first_eval_batch = first_eval_batch.reshape((1,length, n_features))\n",
    "first_eval_batch"
   ]
  },
  {
   "cell_type": "code",
   "execution_count": 236,
   "metadata": {},
   "outputs": [
    {
     "data": {
      "text/plain": [
       "(1, 50, 1)"
      ]
     },
     "execution_count": 236,
     "metadata": {},
     "output_type": "execute_result"
    }
   ],
   "source": [
    "first_eval_batch.shape\n",
    "#shape of first_eval_batch"
   ]
  },
  {
   "cell_type": "markdown",
   "metadata": {},
   "source": [
    "### Evaluated model"
   ]
  },
  {
   "cell_type": "code",
   "execution_count": 237,
   "metadata": {},
   "outputs": [],
   "source": [
    "#Declear a list to store all the predictions\n",
    "#Similar to: test_prediction = list()\n",
    "test_prediction = []\n",
    "\n",
    "frist_eval_batch = normalized_train[-length:]\n",
    "# the last 50 data point of dataset\n",
    "\n",
    "#reshape the last 50 data points to be 3D\n",
    "current_batch = first_eval_batch.reshape((1,length,n_features))\n",
    "\n",
    "# run 205 times same as the 205 data points intest_length\n",
    "for i in range(len(data_test)):\n",
    "    current_pred = model.predict(current_batch)[0]\n",
    "    #get the predict value from the current_batch (first batch that has 50 data points)\n",
    "    \n",
    "    test_prediction.append(current_pred)\n",
    "    #store prediction into the list of predictions\n",
    "    \n",
    "    current_batch = np.append(current_batch[:,1:,:],[[current_pred]],axis=1)\n",
    "    #drop the first data point and add the last data point to the end of the batch\n",
    "    #current_batch[:,1:,:] = take the index 1 to the end which mean drop the 0 position \n",
    "    #and add the end of the list by [[current_pred]] on the axis=1\n",
    "#do it 205 times"
   ]
  },
  {
   "cell_type": "code",
   "execution_count": 238,
   "metadata": {},
   "outputs": [
    {
     "data": {
      "text/plain": [
       "array([[ 0.8216658 ],\n",
       "       [ 0.85405854],\n",
       "       [ 0.8806408 ],\n",
       "       [ 0.90337893],\n",
       "       [ 0.92210163],\n",
       "       [ 0.93706532],\n",
       "       [ 0.94735042],\n",
       "       [ 0.954237  ],\n",
       "       [ 0.95569457],\n",
       "       [ 0.9540961 ],\n",
       "       [ 0.94801799],\n",
       "       [ 0.9383554 ],\n",
       "       [ 0.92475153],\n",
       "       [ 0.90815658],\n",
       "       [ 0.88746574],\n",
       "       [ 0.86404049],\n",
       "       [ 0.83676276],\n",
       "       [ 0.80712601],\n",
       "       [ 0.77393743],\n",
       "       [ 0.73868726],\n",
       "       [ 0.70025862],\n",
       "       [ 0.65987769],\n",
       "       [ 0.61671682],\n",
       "       [ 0.5719328 ],\n",
       "       [ 0.52427012],\n",
       "       [ 0.47562469],\n",
       "       [ 0.42431982],\n",
       "       [ 0.37213722],\n",
       "       [ 0.31779122],\n",
       "       [ 0.26268669],\n",
       "       [ 0.20573776],\n",
       "       [ 0.14837506],\n",
       "       [ 0.08925725],\n",
       "       [ 0.030272  ],\n",
       "       [-0.03012308],\n",
       "       [-0.09017996],\n",
       "       [-0.15106141],\n",
       "       [-0.21126032],\n",
       "       [-0.27193179],\n",
       "       [-0.33147088],\n",
       "       [-0.39105027],\n",
       "       [-0.44884862],\n",
       "       [-0.50644321],\n",
       "       [-0.56160294],\n",
       "       [-0.6159974 ],\n",
       "       [-0.66753412],\n",
       "       [-0.71775913],\n",
       "       [-0.76464873],\n",
       "       [-0.80969307],\n",
       "       [-0.85081409],\n",
       "       [-0.88983018],\n",
       "       [-0.92429859],\n",
       "       [-0.95625508],\n",
       "       [-0.98338684],\n",
       "       [-1.0076116 ],\n",
       "       [-1.02670991],\n",
       "       [-1.04271696],\n",
       "       [-1.05328061],\n",
       "       [-1.06072776],\n",
       "       [-1.06254234],\n",
       "       [-1.06119586],\n",
       "       [-1.05423824],\n",
       "       [-1.04414291],\n",
       "       [-1.02850056],\n",
       "       [-1.0098808 ],\n",
       "       [-0.98577809],\n",
       "       [-0.95899188],\n",
       "       [-0.92684631],\n",
       "       [-0.89232067],\n",
       "       [-0.85268017],\n",
       "       [-0.81098573],\n",
       "       [-0.76448897],\n",
       "       [-0.71630699],\n",
       "       [-0.66363674],\n",
       "       [-0.6097853 ],\n",
       "       [-0.55175053],\n",
       "       [-0.4930611 ],\n",
       "       [-0.43062374],\n",
       "       [-0.36804857],\n",
       "       [-0.30222335],\n",
       "       [-0.2368376 ],\n",
       "       [-0.16871886],\n",
       "       [-0.10171663],\n",
       "       [-0.03249229],\n",
       "       [ 0.03489146],\n",
       "       [ 0.10389765],\n",
       "       [ 0.1703722 ],\n",
       "       [ 0.23782318],\n",
       "       [ 0.30204075],\n",
       "       [ 0.36659735],\n",
       "       [ 0.42722411],\n",
       "       [ 0.4876047 ],\n",
       "       [ 0.54338621],\n",
       "       [ 0.59837869],\n",
       "       [ 0.6482242 ],\n",
       "       [ 0.69678523],\n",
       "       [ 0.73977146],\n",
       "       [ 0.78108865],\n",
       "       [ 0.81651621],\n",
       "       [ 0.85002737],\n",
       "       [ 0.87744969],\n",
       "       [ 0.90282485],\n",
       "       [ 0.92206277],\n",
       "       [ 0.93920727],\n",
       "       [ 0.95029405],\n",
       "       [ 0.95933521],\n",
       "       [ 0.96247278],\n",
       "       [ 0.96370743],\n",
       "       [ 0.95924079],\n",
       "       [ 0.95306387],\n",
       "       [ 0.94143743],\n",
       "       [ 0.9283123 ],\n",
       "       [ 0.91001708],\n",
       "       [ 0.89044525],\n",
       "       [ 0.86597918],\n",
       "       [ 0.8404729 ],\n",
       "       [ 0.81032415],\n",
       "       [ 0.77937383],\n",
       "       [ 0.74401876],\n",
       "       [ 0.70808706],\n",
       "       [ 0.66797651],\n",
       "       [ 0.62750367],\n",
       "       [ 0.58306345],\n",
       "       [ 0.53848184],\n",
       "       [ 0.49012012],\n",
       "       [ 0.44185628],\n",
       "       [ 0.38999578],\n",
       "       [ 0.33848397],\n",
       "       [ 0.28357172],\n",
       "       [ 0.22928199],\n",
       "       [ 0.17180699],\n",
       "       [ 0.11526767],\n",
       "       [ 0.05577649],\n",
       "       [-0.00241054],\n",
       "       [-0.06328632],\n",
       "       [-0.1224393 ],\n",
       "       [-0.18397408],\n",
       "       [-0.24331338],\n",
       "       [-0.30468507],\n",
       "       [-0.36333231],\n",
       "       [-0.42362707],\n",
       "       [-0.48061081],\n",
       "       [-0.53882904],\n",
       "       [-0.59311034],\n",
       "       [-0.64818948],\n",
       "       [-0.69868479],\n",
       "       [-0.74953643],\n",
       "       [-0.79515593],\n",
       "       [-0.84071041],\n",
       "       [-0.88040287],\n",
       "       [-0.91965323],\n",
       "       [-0.95245829],\n",
       "       [-0.98450771],\n",
       "       [-1.00960129],\n",
       "       [-1.03370609],\n",
       "       [-1.05043398],\n",
       "       [-1.0660387 ],\n",
       "       [-1.0739413 ],\n",
       "       [-1.08069269],\n",
       "       [-1.07951665],\n",
       "       [-1.07726575],\n",
       "       [-1.0669606 ],\n",
       "       [-1.05575285],\n",
       "       [-1.03645391],\n",
       "       [-1.01651421],\n",
       "       [-0.98852082],\n",
       "       [-0.96023041],\n",
       "       [-0.92398687],\n",
       "       [-0.88786131],\n",
       "       [-0.84393881],\n",
       "       [-0.80061174],\n",
       "       [-0.74969536],\n",
       "       [-0.69991113],\n",
       "       [-0.64279087],\n",
       "       [-0.58739988],\n",
       "       [-0.52497164],\n",
       "       [-0.46492787],\n",
       "       [-0.39819607],\n",
       "       [-0.33455821],\n",
       "       [-0.26463471],\n",
       "       [-0.19856649],\n",
       "       [-0.12666591],\n",
       "       [-0.05942658],\n",
       "       [ 0.01314288],\n",
       "       [ 0.0802186 ],\n",
       "       [ 0.15207984],\n",
       "       [ 0.21760882],\n",
       "       [ 0.28735315],\n",
       "       [ 0.34995019],\n",
       "       [ 0.41618811],\n",
       "       [ 0.47451843],\n",
       "       [ 0.53593852],\n",
       "       [ 0.58878285],\n",
       "       [ 0.64421568],\n",
       "       [ 0.69052605],\n",
       "       [ 0.73900233],\n",
       "       [ 0.77795823],\n",
       "       [ 0.81874995],\n",
       "       [ 0.84978239],\n",
       "       [ 0.8824269 ],\n",
       "       [ 0.90522762],\n",
       "       [ 0.92952322],\n",
       "       [ 0.944027  ],\n",
       "       [ 0.96000492],\n",
       "       [ 0.96635673]])"
      ]
     },
     "execution_count": 238,
     "metadata": {},
     "output_type": "execute_result"
    }
   ],
   "source": [
    "#transform the normalized data(0 to 1) into back to real value\n",
    "true_predictions = scaler.inverse_transform(test_prediction)\n",
    "\n",
    "true_predictions"
   ]
  },
  {
   "cell_type": "code",
   "execution_count": 239,
   "metadata": {},
   "outputs": [
    {
     "data": {
      "text/html": [
       "<div>\n",
       "<style scoped>\n",
       "    .dataframe tbody tr th:only-of-type {\n",
       "        vertical-align: middle;\n",
       "    }\n",
       "\n",
       "    .dataframe tbody tr th {\n",
       "        vertical-align: top;\n",
       "    }\n",
       "\n",
       "    .dataframe thead th {\n",
       "        text-align: right;\n",
       "    }\n",
       "</style>\n",
       "<table border=\"1\" class=\"dataframe\">\n",
       "  <thead>\n",
       "    <tr style=\"text-align: right;\">\n",
       "      <th></th>\n",
       "      <th>Sine</th>\n",
       "    </tr>\n",
       "  </thead>\n",
       "  <tbody>\n",
       "    <tr>\n",
       "      <th>51.237537</th>\n",
       "      <td>0.826045</td>\n",
       "    </tr>\n",
       "    <tr>\n",
       "      <th>51.300098</th>\n",
       "      <td>0.859666</td>\n",
       "    </tr>\n",
       "    <tr>\n",
       "      <th>51.362659</th>\n",
       "      <td>0.889923</td>\n",
       "    </tr>\n",
       "    <tr>\n",
       "      <th>51.425220</th>\n",
       "      <td>0.916698</td>\n",
       "    </tr>\n",
       "    <tr>\n",
       "      <th>51.487781</th>\n",
       "      <td>0.939887</td>\n",
       "    </tr>\n",
       "    <tr>\n",
       "      <th>...</th>\n",
       "      <td>...</td>\n",
       "    </tr>\n",
       "    <tr>\n",
       "      <th>63.749756</th>\n",
       "      <td>0.794329</td>\n",
       "    </tr>\n",
       "    <tr>\n",
       "      <th>63.812317</th>\n",
       "      <td>0.830756</td>\n",
       "    </tr>\n",
       "    <tr>\n",
       "      <th>63.874878</th>\n",
       "      <td>0.863931</td>\n",
       "    </tr>\n",
       "    <tr>\n",
       "      <th>63.937439</th>\n",
       "      <td>0.893727</td>\n",
       "    </tr>\n",
       "    <tr>\n",
       "      <th>64.000000</th>\n",
       "      <td>0.920026</td>\n",
       "    </tr>\n",
       "  </tbody>\n",
       "</table>\n",
       "<p>205 rows × 1 columns</p>\n",
       "</div>"
      ],
      "text/plain": [
       "               Sine\n",
       "51.237537  0.826045\n",
       "51.300098  0.859666\n",
       "51.362659  0.889923\n",
       "51.425220  0.916698\n",
       "51.487781  0.939887\n",
       "...             ...\n",
       "63.749756  0.794329\n",
       "63.812317  0.830756\n",
       "63.874878  0.863931\n",
       "63.937439  0.893727\n",
       "64.000000  0.920026\n",
       "\n",
       "[205 rows x 1 columns]"
      ]
     },
     "execution_count": 239,
     "metadata": {},
     "output_type": "execute_result"
    }
   ],
   "source": [
    "data_test"
   ]
  },
  {
   "cell_type": "code",
   "execution_count": 240,
   "metadata": {},
   "outputs": [
    {
     "name": "stderr",
     "output_type": "stream",
     "text": [
      "C:\\Users\\admin\\Anaconda3\\lib\\site-packages\\ipykernel_launcher.py:1: SettingWithCopyWarning: \n",
      "A value is trying to be set on a copy of a slice from a DataFrame.\n",
      "Try using .loc[row_indexer,col_indexer] = value instead\n",
      "\n",
      "See the caveats in the documentation: https://pandas.pydata.org/pandas-docs/stable/user_guide/indexing.html#returning-a-view-versus-a-copy\n",
      "  \"\"\"Entry point for launching an IPython kernel.\n"
     ]
    },
    {
     "data": {
      "text/html": [
       "<div>\n",
       "<style scoped>\n",
       "    .dataframe tbody tr th:only-of-type {\n",
       "        vertical-align: middle;\n",
       "    }\n",
       "\n",
       "    .dataframe tbody tr th {\n",
       "        vertical-align: top;\n",
       "    }\n",
       "\n",
       "    .dataframe thead th {\n",
       "        text-align: right;\n",
       "    }\n",
       "</style>\n",
       "<table border=\"1\" class=\"dataframe\">\n",
       "  <thead>\n",
       "    <tr style=\"text-align: right;\">\n",
       "      <th></th>\n",
       "      <th>Sine</th>\n",
       "      <th>Predictions</th>\n",
       "    </tr>\n",
       "  </thead>\n",
       "  <tbody>\n",
       "    <tr>\n",
       "      <th>51.237537</th>\n",
       "      <td>0.826045</td>\n",
       "      <td>0.821666</td>\n",
       "    </tr>\n",
       "    <tr>\n",
       "      <th>51.300098</th>\n",
       "      <td>0.859666</td>\n",
       "      <td>0.854059</td>\n",
       "    </tr>\n",
       "    <tr>\n",
       "      <th>51.362659</th>\n",
       "      <td>0.889923</td>\n",
       "      <td>0.880641</td>\n",
       "    </tr>\n",
       "    <tr>\n",
       "      <th>51.425220</th>\n",
       "      <td>0.916698</td>\n",
       "      <td>0.903379</td>\n",
       "    </tr>\n",
       "    <tr>\n",
       "      <th>51.487781</th>\n",
       "      <td>0.939887</td>\n",
       "      <td>0.922102</td>\n",
       "    </tr>\n",
       "    <tr>\n",
       "      <th>...</th>\n",
       "      <td>...</td>\n",
       "      <td>...</td>\n",
       "    </tr>\n",
       "    <tr>\n",
       "      <th>63.749756</th>\n",
       "      <td>0.794329</td>\n",
       "      <td>0.905228</td>\n",
       "    </tr>\n",
       "    <tr>\n",
       "      <th>63.812317</th>\n",
       "      <td>0.830756</td>\n",
       "      <td>0.929523</td>\n",
       "    </tr>\n",
       "    <tr>\n",
       "      <th>63.874878</th>\n",
       "      <td>0.863931</td>\n",
       "      <td>0.944027</td>\n",
       "    </tr>\n",
       "    <tr>\n",
       "      <th>63.937439</th>\n",
       "      <td>0.893727</td>\n",
       "      <td>0.960005</td>\n",
       "    </tr>\n",
       "    <tr>\n",
       "      <th>64.000000</th>\n",
       "      <td>0.920026</td>\n",
       "      <td>0.966357</td>\n",
       "    </tr>\n",
       "  </tbody>\n",
       "</table>\n",
       "<p>205 rows × 2 columns</p>\n",
       "</div>"
      ],
      "text/plain": [
       "               Sine  Predictions\n",
       "51.237537  0.826045     0.821666\n",
       "51.300098  0.859666     0.854059\n",
       "51.362659  0.889923     0.880641\n",
       "51.425220  0.916698     0.903379\n",
       "51.487781  0.939887     0.922102\n",
       "...             ...          ...\n",
       "63.749756  0.794329     0.905228\n",
       "63.812317  0.830756     0.929523\n",
       "63.874878  0.863931     0.944027\n",
       "63.937439  0.893727     0.960005\n",
       "64.000000  0.920026     0.966357\n",
       "\n",
       "[205 rows x 2 columns]"
      ]
     },
     "execution_count": 240,
     "metadata": {},
     "output_type": "execute_result"
    }
   ],
   "source": [
    "data_test['Predictions']=true_predictions\n",
    "data_test"
   ]
  },
  {
   "cell_type": "code",
   "execution_count": 243,
   "metadata": {},
   "outputs": [
    {
     "data": {
      "text/plain": [
       "<matplotlib.axes._subplots.AxesSubplot at 0x55e0739da0>"
      ]
     },
     "execution_count": 243,
     "metadata": {},
     "output_type": "execute_result"
    },
    {
     "data": {
      "image/png": "[encoded data removed]",
      "text/plain": [
       "<matplotlib.figure.Figure at 0x55e07399e8>"
      ]
     },
     "metadata": {
      "needs_background": "light"
     },
     "output_type": "display_data"
    }
   ],
   "source": [
    "data_test.plot(figsize=(12,8))"
   ]
  },
  {
   "cell_type": "code",
   "execution_count": null,
   "metadata": {},
   "outputs": [],
   "source": []
  }
 ],
 "metadata": {
  "kernelspec": {
   "display_name": "Python 3",
   "language": "python",
   "name": "python3"
  },
  "language_info": {
   "codemirror_mode": {
    "name": "ipython",
    "version": 3
   },
   "file_extension": ".py",
   "mimetype": "text/x-python",
   "name": "python",
   "nbconvert_exporter": "python",
   "pygments_lexer": "ipython3",
   "version": "3.6.4"
  }
 },
 "nbformat": 4,
 "nbformat_minor": 2
}
