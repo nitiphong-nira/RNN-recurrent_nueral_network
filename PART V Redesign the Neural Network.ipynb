{
 "cells": [
  {
   "cell_type": "markdown",
   "metadata": {},
   "source": [
    "NOTES It can be the data set chosen to be the solution to PART I or a different one. Design the network:"
   ]
  },
  {
   "cell_type": "markdown",
   "metadata": {},
   "source": [
    "--) Using critical thinking and the experiences of working with time-series datasets, the student should propose some changes to the above network (PART III) or the network training process, with which the network performance may be improved. Redesign the network\n",
    "\n",
    "The student should decide the values of relevant parameters : \n",
    "\n",
    "1. Percentage of data for testing\n",
    "2. How many layers of LSTM?\n",
    "3. Number of neurons in each LSTM  layer?\n",
    "4. Any DropOut layer? \n",
    "5. If with DropOut layer: the percentage to drop\n",
    "6. Length of the time-series input sequence\n",
    "7. Batch size for training (NOTES : Batch size for testing and forecasting must be ONE)\n",
    "8. Number of epochs for training "
   ]
  },
  {
   "cell_type": "code",
   "execution_count": 374,
   "metadata": {},
   "outputs": [],
   "source": [
    "import pandas as pd\n",
    "from pandas import read_csv\n",
    "import numpy as np\n",
    "%matplotlib inline\n",
    "import matplotlib.pyplot as plt\n",
    "\n",
    "import warnings\n",
    "warnings.filterwarnings('ignore')"
   ]
  },
  {
   "cell_type": "code",
   "execution_count": 375,
   "metadata": {},
   "outputs": [],
   "source": [
    "from tensorflow.keras.models import Sequential\n",
    "#sequential data reader\n",
    "\n",
    "from tensorflow.keras.layers import LSTM\n",
    "#Long short term memory\n",
    "\n",
    "from tensorflow.keras.layers import Dropout\n",
    "from tensorflow.keras.layers import Dense\n",
    "#Dense is a fully connected layer or FFNN(feedforward neural network).\n"
   ]
  },
  {
   "cell_type": "code",
   "execution_count": 376,
   "metadata": {},
   "outputs": [],
   "source": [
    "from tensorflow.keras.preprocessing.sequence import TimeseriesGenerator\n",
    "from sklearn.preprocessing import MinMaxScaler"
   ]
  },
  {
   "cell_type": "markdown",
   "metadata": {},
   "source": [
    "### Data Set: Treasury interest yield (1/2/1990-12/30/2009)\n",
    "https://www.treasury.gov/resource-center/data-chart-center/interest-rates/Pages/TextView.aspx?data=yieldAll"
   ]
  },
  {
   "cell_type": "code",
   "execution_count": 377,
   "metadata": {},
   "outputs": [
    {
     "data": {
      "text/html": [
       "<div>\n",
       "<style scoped>\n",
       "    .dataframe tbody tr th:only-of-type {\n",
       "        vertical-align: middle;\n",
       "    }\n",
       "\n",
       "    .dataframe tbody tr th {\n",
       "        vertical-align: top;\n",
       "    }\n",
       "\n",
       "    .dataframe thead th {\n",
       "        text-align: right;\n",
       "    }\n",
       "</style>\n",
       "<table border=\"1\" class=\"dataframe\">\n",
       "  <thead>\n",
       "    <tr style=\"text-align: right;\">\n",
       "      <th></th>\n",
       "      <th>Date</th>\n",
       "      <th>1 Mo</th>\n",
       "      <th>2 Mo</th>\n",
       "      <th>3 Mo</th>\n",
       "      <th>6 Mo</th>\n",
       "      <th>1 Yr</th>\n",
       "      <th>2 Yr</th>\n",
       "      <th>3 Yr</th>\n",
       "      <th>5 Yr</th>\n",
       "      <th>7 Yr</th>\n",
       "      <th>10 Yr</th>\n",
       "      <th>20 Yr</th>\n",
       "      <th>30 Yr</th>\n",
       "    </tr>\n",
       "  </thead>\n",
       "  <tbody>\n",
       "    <tr>\n",
       "      <th>4999</th>\n",
       "      <td>12/24/2009</td>\n",
       "      <td>0.02</td>\n",
       "      <td>NaN</td>\n",
       "      <td>0.05</td>\n",
       "      <td>0.18</td>\n",
       "      <td>0.43</td>\n",
       "      <td>1.00</td>\n",
       "      <td>1.56</td>\n",
       "      <td>2.57</td>\n",
       "      <td>3.32</td>\n",
       "      <td>3.82</td>\n",
       "      <td>4.60</td>\n",
       "      <td>4.68</td>\n",
       "    </tr>\n",
       "    <tr>\n",
       "      <th>5000</th>\n",
       "      <td>12/28/2009</td>\n",
       "      <td>0.03</td>\n",
       "      <td>NaN</td>\n",
       "      <td>0.11</td>\n",
       "      <td>0.20</td>\n",
       "      <td>0.47</td>\n",
       "      <td>1.09</td>\n",
       "      <td>1.63</td>\n",
       "      <td>2.62</td>\n",
       "      <td>3.34</td>\n",
       "      <td>3.85</td>\n",
       "      <td>4.61</td>\n",
       "      <td>4.69</td>\n",
       "    </tr>\n",
       "    <tr>\n",
       "      <th>5001</th>\n",
       "      <td>12/29/2009</td>\n",
       "      <td>0.02</td>\n",
       "      <td>NaN</td>\n",
       "      <td>0.10</td>\n",
       "      <td>0.20</td>\n",
       "      <td>0.47</td>\n",
       "      <td>1.09</td>\n",
       "      <td>1.64</td>\n",
       "      <td>2.62</td>\n",
       "      <td>3.33</td>\n",
       "      <td>3.82</td>\n",
       "      <td>4.57</td>\n",
       "      <td>4.64</td>\n",
       "    </tr>\n",
       "    <tr>\n",
       "      <th>5002</th>\n",
       "      <td>12/30/2009</td>\n",
       "      <td>0.02</td>\n",
       "      <td>NaN</td>\n",
       "      <td>0.05</td>\n",
       "      <td>0.19</td>\n",
       "      <td>0.45</td>\n",
       "      <td>1.08</td>\n",
       "      <td>1.65</td>\n",
       "      <td>2.61</td>\n",
       "      <td>3.34</td>\n",
       "      <td>3.80</td>\n",
       "      <td>4.54</td>\n",
       "      <td>4.61</td>\n",
       "    </tr>\n",
       "    <tr>\n",
       "      <th>5003</th>\n",
       "      <td>12/31/2009</td>\n",
       "      <td>0.04</td>\n",
       "      <td>NaN</td>\n",
       "      <td>0.06</td>\n",
       "      <td>0.20</td>\n",
       "      <td>0.47</td>\n",
       "      <td>1.14</td>\n",
       "      <td>1.70</td>\n",
       "      <td>2.69</td>\n",
       "      <td>3.39</td>\n",
       "      <td>3.85</td>\n",
       "      <td>4.58</td>\n",
       "      <td>4.63</td>\n",
       "    </tr>\n",
       "  </tbody>\n",
       "</table>\n",
       "</div>"
      ],
      "text/plain": [
       "            Date  1 Mo  2 Mo  3 Mo  6 Mo  1 Yr  2 Yr  3 Yr  5 Yr  7 Yr  10 Yr  \\\n",
       "4999  12/24/2009  0.02   NaN  0.05  0.18  0.43  1.00  1.56  2.57  3.32   3.82   \n",
       "5000  12/28/2009  0.03   NaN  0.11  0.20  0.47  1.09  1.63  2.62  3.34   3.85   \n",
       "5001  12/29/2009  0.02   NaN  0.10  0.20  0.47  1.09  1.64  2.62  3.33   3.82   \n",
       "5002  12/30/2009  0.02   NaN  0.05  0.19  0.45  1.08  1.65  2.61  3.34   3.80   \n",
       "5003  12/31/2009  0.04   NaN  0.06  0.20  0.47  1.14  1.70  2.69  3.39   3.85   \n",
       "\n",
       "      20 Yr  30 Yr  \n",
       "4999   4.60   4.68  \n",
       "5000   4.61   4.69  \n",
       "5001   4.57   4.64  \n",
       "5002   4.54   4.61  \n",
       "5003   4.58   4.63  "
      ]
     },
     "execution_count": 377,
     "metadata": {},
     "output_type": "execute_result"
    }
   ],
   "source": [
    "df_all = pd.read_csv(\"1990.csv\")\n",
    "df_all.tail(5)\n",
    "#Adj close = the closing price excluded dividend and split effect"
   ]
  },
  {
   "cell_type": "code",
   "execution_count": 378,
   "metadata": {},
   "outputs": [
    {
     "data": {
      "text/plain": [
       "(5004, 13)"
      ]
     },
     "execution_count": 378,
     "metadata": {},
     "output_type": "execute_result"
    }
   ],
   "source": [
    "df_all.shape"
   ]
  },
  {
   "cell_type": "code",
   "execution_count": 379,
   "metadata": {},
   "outputs": [
    {
     "data": {
      "text/plain": [
       "Date      object\n",
       "1 Mo     float64\n",
       "2 Mo     float64\n",
       "3 Mo     float64\n",
       "6 Mo     float64\n",
       "1 Yr     float64\n",
       "2 Yr     float64\n",
       "3 Yr     float64\n",
       "5 Yr     float64\n",
       "7 Yr     float64\n",
       "10 Yr    float64\n",
       "20 Yr    float64\n",
       "30 Yr    float64\n",
       "dtype: object"
      ]
     },
     "execution_count": 379,
     "metadata": {},
     "output_type": "execute_result"
    }
   ],
   "source": [
    "df_all.dtypes"
   ]
  },
  {
   "cell_type": "code",
   "execution_count": 380,
   "metadata": {},
   "outputs": [
    {
     "data": {
      "text/html": [
       "<div>\n",
       "<style scoped>\n",
       "    .dataframe tbody tr th:only-of-type {\n",
       "        vertical-align: middle;\n",
       "    }\n",
       "\n",
       "    .dataframe tbody tr th {\n",
       "        vertical-align: top;\n",
       "    }\n",
       "\n",
       "    .dataframe thead th {\n",
       "        text-align: right;\n",
       "    }\n",
       "</style>\n",
       "<table border=\"1\" class=\"dataframe\">\n",
       "  <thead>\n",
       "    <tr style=\"text-align: right;\">\n",
       "      <th></th>\n",
       "      <th>1 Mo</th>\n",
       "      <th>2 Mo</th>\n",
       "      <th>3 Mo</th>\n",
       "      <th>6 Mo</th>\n",
       "      <th>1 Yr</th>\n",
       "      <th>2 Yr</th>\n",
       "      <th>3 Yr</th>\n",
       "      <th>5 Yr</th>\n",
       "      <th>7 Yr</th>\n",
       "      <th>10 Yr</th>\n",
       "      <th>20 Yr</th>\n",
       "      <th>30 Yr</th>\n",
       "    </tr>\n",
       "  </thead>\n",
       "  <tbody>\n",
       "    <tr>\n",
       "      <th>count</th>\n",
       "      <td>2105.000000</td>\n",
       "      <td>0.0</td>\n",
       "      <td>5001.000000</td>\n",
       "      <td>5004.000000</td>\n",
       "      <td>5004.000000</td>\n",
       "      <td>5004.000000</td>\n",
       "      <td>5004.000000</td>\n",
       "      <td>5004.000000</td>\n",
       "      <td>5004.000000</td>\n",
       "      <td>5004.000000</td>\n",
       "      <td>4065.000000</td>\n",
       "      <td>4010.000000</td>\n",
       "    </tr>\n",
       "    <tr>\n",
       "      <th>mean</th>\n",
       "      <td>2.198304</td>\n",
       "      <td>NaN</td>\n",
       "      <td>3.881428</td>\n",
       "      <td>4.040923</td>\n",
       "      <td>4.187534</td>\n",
       "      <td>4.537030</td>\n",
       "      <td>4.754820</td>\n",
       "      <td>5.120602</td>\n",
       "      <td>5.384616</td>\n",
       "      <td>5.562682</td>\n",
       "      <td>5.646809</td>\n",
       "      <td>6.224519</td>\n",
       "    </tr>\n",
       "    <tr>\n",
       "      <th>std</th>\n",
       "      <td>1.618567</td>\n",
       "      <td>NaN</td>\n",
       "      <td>1.967405</td>\n",
       "      <td>1.974862</td>\n",
       "      <td>1.936733</td>\n",
       "      <td>1.895358</td>\n",
       "      <td>1.804245</td>\n",
       "      <td>1.644626</td>\n",
       "      <td>1.549959</td>\n",
       "      <td>1.447799</td>\n",
       "      <td>1.027790</td>\n",
       "      <td>1.341930</td>\n",
       "    </tr>\n",
       "    <tr>\n",
       "      <th>min</th>\n",
       "      <td>0.000000</td>\n",
       "      <td>NaN</td>\n",
       "      <td>0.010000</td>\n",
       "      <td>0.130000</td>\n",
       "      <td>0.260000</td>\n",
       "      <td>0.650000</td>\n",
       "      <td>0.880000</td>\n",
       "      <td>1.260000</td>\n",
       "      <td>1.590000</td>\n",
       "      <td>2.080000</td>\n",
       "      <td>2.860000</td>\n",
       "      <td>2.530000</td>\n",
       "    </tr>\n",
       "    <tr>\n",
       "      <th>25%</th>\n",
       "      <td>0.950000</td>\n",
       "      <td>NaN</td>\n",
       "      <td>2.210000</td>\n",
       "      <td>2.290000</td>\n",
       "      <td>2.547500</td>\n",
       "      <td>3.120000</td>\n",
       "      <td>3.460000</td>\n",
       "      <td>3.910000</td>\n",
       "      <td>4.150000</td>\n",
       "      <td>4.410000</td>\n",
       "      <td>4.840000</td>\n",
       "      <td>5.180000</td>\n",
       "    </tr>\n",
       "    <tr>\n",
       "      <th>50%</th>\n",
       "      <td>1.730000</td>\n",
       "      <td>NaN</td>\n",
       "      <td>4.440000</td>\n",
       "      <td>4.560000</td>\n",
       "      <td>4.650000</td>\n",
       "      <td>4.750000</td>\n",
       "      <td>4.805000</td>\n",
       "      <td>5.100000</td>\n",
       "      <td>5.390000</td>\n",
       "      <td>5.440000</td>\n",
       "      <td>5.520000</td>\n",
       "      <td>6.130000</td>\n",
       "    </tr>\n",
       "    <tr>\n",
       "      <th>75%</th>\n",
       "      <td>3.520000</td>\n",
       "      <td>NaN</td>\n",
       "      <td>5.200000</td>\n",
       "      <td>5.360000</td>\n",
       "      <td>5.560000</td>\n",
       "      <td>5.910000</td>\n",
       "      <td>6.040000</td>\n",
       "      <td>6.280000</td>\n",
       "      <td>6.450000</td>\n",
       "      <td>6.560000</td>\n",
       "      <td>6.420000</td>\n",
       "      <td>7.310000</td>\n",
       "    </tr>\n",
       "    <tr>\n",
       "      <th>max</th>\n",
       "      <td>5.270000</td>\n",
       "      <td>NaN</td>\n",
       "      <td>8.260000</td>\n",
       "      <td>8.490000</td>\n",
       "      <td>8.640000</td>\n",
       "      <td>9.050000</td>\n",
       "      <td>9.110000</td>\n",
       "      <td>9.100000</td>\n",
       "      <td>9.120000</td>\n",
       "      <td>9.090000</td>\n",
       "      <td>8.300000</td>\n",
       "      <td>9.180000</td>\n",
       "    </tr>\n",
       "  </tbody>\n",
       "</table>\n",
       "</div>"
      ],
      "text/plain": [
       "              1 Mo  2 Mo         3 Mo         6 Mo         1 Yr         2 Yr  \\\n",
       "count  2105.000000   0.0  5001.000000  5004.000000  5004.000000  5004.000000   \n",
       "mean      2.198304   NaN     3.881428     4.040923     4.187534     4.537030   \n",
       "std       1.618567   NaN     1.967405     1.974862     1.936733     1.895358   \n",
       "min       0.000000   NaN     0.010000     0.130000     0.260000     0.650000   \n",
       "25%       0.950000   NaN     2.210000     2.290000     2.547500     3.120000   \n",
       "50%       1.730000   NaN     4.440000     4.560000     4.650000     4.750000   \n",
       "75%       3.520000   NaN     5.200000     5.360000     5.560000     5.910000   \n",
       "max       5.270000   NaN     8.260000     8.490000     8.640000     9.050000   \n",
       "\n",
       "              3 Yr         5 Yr         7 Yr        10 Yr        20 Yr  \\\n",
       "count  5004.000000  5004.000000  5004.000000  5004.000000  4065.000000   \n",
       "mean      4.754820     5.120602     5.384616     5.562682     5.646809   \n",
       "std       1.804245     1.644626     1.549959     1.447799     1.027790   \n",
       "min       0.880000     1.260000     1.590000     2.080000     2.860000   \n",
       "25%       3.460000     3.910000     4.150000     4.410000     4.840000   \n",
       "50%       4.805000     5.100000     5.390000     5.440000     5.520000   \n",
       "75%       6.040000     6.280000     6.450000     6.560000     6.420000   \n",
       "max       9.110000     9.100000     9.120000     9.090000     8.300000   \n",
       "\n",
       "             30 Yr  \n",
       "count  4010.000000  \n",
       "mean      6.224519  \n",
       "std       1.341930  \n",
       "min       2.530000  \n",
       "25%       5.180000  \n",
       "50%       6.130000  \n",
       "75%       7.310000  \n",
       "max       9.180000  "
      ]
     },
     "execution_count": 380,
     "metadata": {},
     "output_type": "execute_result"
    }
   ],
   "source": [
    "df_all.describe()"
   ]
  },
  {
   "cell_type": "markdown",
   "metadata": {},
   "source": [
    "### Keep Only 1 Year Treasury bond yield and Filter Our All Other Attributes\n",
    "This project focus on the 1 year treasury bond yield because this dataset has no na."
   ]
  },
  {
   "cell_type": "code",
   "execution_count": 381,
   "metadata": {},
   "outputs": [
    {
     "data": {
      "text/html": [
       "<div>\n",
       "<style scoped>\n",
       "    .dataframe tbody tr th:only-of-type {\n",
       "        vertical-align: middle;\n",
       "    }\n",
       "\n",
       "    .dataframe tbody tr th {\n",
       "        vertical-align: top;\n",
       "    }\n",
       "\n",
       "    .dataframe thead th {\n",
       "        text-align: right;\n",
       "    }\n",
       "</style>\n",
       "<table border=\"1\" class=\"dataframe\">\n",
       "  <thead>\n",
       "    <tr style=\"text-align: right;\">\n",
       "      <th></th>\n",
       "      <th>1 Yr</th>\n",
       "    </tr>\n",
       "  </thead>\n",
       "  <tbody>\n",
       "    <tr>\n",
       "      <th>0</th>\n",
       "      <td>7.81</td>\n",
       "    </tr>\n",
       "    <tr>\n",
       "      <th>1</th>\n",
       "      <td>7.85</td>\n",
       "    </tr>\n",
       "    <tr>\n",
       "      <th>2</th>\n",
       "      <td>7.82</td>\n",
       "    </tr>\n",
       "    <tr>\n",
       "      <th>3</th>\n",
       "      <td>7.79</td>\n",
       "    </tr>\n",
       "    <tr>\n",
       "      <th>4</th>\n",
       "      <td>7.81</td>\n",
       "    </tr>\n",
       "  </tbody>\n",
       "</table>\n",
       "</div>"
      ],
      "text/plain": [
       "   1 Yr\n",
       "0  7.81\n",
       "1  7.85\n",
       "2  7.82\n",
       "3  7.79\n",
       "4  7.81"
      ]
     },
     "execution_count": 381,
     "metadata": {},
     "output_type": "execute_result"
    }
   ],
   "source": [
    "df = df_all.iloc[:,5:6]\n",
    "# this will take only 1Yr to store at df\n",
    "df.head()"
   ]
  },
  {
   "cell_type": "code",
   "execution_count": 382,
   "metadata": {},
   "outputs": [
    {
     "data": {
      "text/plain": [
       "<matplotlib.axes._subplots.AxesSubplot at 0xefb20c1f60>"
      ]
     },
     "execution_count": 382,
     "metadata": {},
     "output_type": "execute_result"
    },
    {
     "data": {
      "image/png": "[encoded data removed]",
      "text/plain": [
       "<matplotlib.figure.Figure at 0xefad6c7d68>"
      ]
     },
     "metadata": {
      "needs_background": "light"
     },
     "output_type": "display_data"
    }
   ],
   "source": [
    "df.plot(figsize=(12,8))"
   ]
  },
  {
   "cell_type": "markdown",
   "metadata": {},
   "source": [
    "### Lenght of Input Time Series - Number of input Time Steps"
   ]
  },
  {
   "cell_type": "code",
   "execution_count": 383,
   "metadata": {},
   "outputs": [],
   "source": [
    "#Set the Lenght of the input sequence\n",
    "length60 = 60"
   ]
  },
  {
   "cell_type": "markdown",
   "metadata": {},
   "source": [
    "### Time series Dataset: Train/ test split"
   ]
  },
  {
   "cell_type": "code",
   "execution_count": 384,
   "metadata": {},
   "outputs": [
    {
     "data": {
      "text/plain": [
       "5004"
      ]
     },
     "execution_count": 384,
     "metadata": {},
     "output_type": "execute_result"
    }
   ],
   "source": [
    "len(df)"
   ]
  },
  {
   "cell_type": "code",
   "execution_count": 385,
   "metadata": {},
   "outputs": [],
   "source": [
    "# set percentage of data used for testing\n",
    "test_percent = 0.1\n",
    "#10% of dataset isfor testing"
   ]
  },
  {
   "cell_type": "code",
   "execution_count": 386,
   "metadata": {},
   "outputs": [
    {
     "data": {
      "text/plain": [
       "500.0"
      ]
     },
     "execution_count": 386,
     "metadata": {},
     "output_type": "execute_result"
    }
   ],
   "source": [
    "test_length = np.round(len(df)*test_percent)\n",
    "test_length\n",
    "#The test data points is "
   ]
  },
  {
   "cell_type": "code",
   "execution_count": 387,
   "metadata": {},
   "outputs": [
    {
     "data": {
      "text/plain": [
       "4504"
      ]
     },
     "execution_count": 387,
     "metadata": {},
     "output_type": "execute_result"
    }
   ],
   "source": [
    "#testing dataset starts at the index\n",
    "split_index = int(len(df)-test_length)\n",
    "split_index"
   ]
  },
  {
   "cell_type": "code",
   "execution_count": 388,
   "metadata": {},
   "outputs": [],
   "source": [
    "data_train = df.iloc[:split_index]\n",
    "data_test = df.iloc[split_index - length60 :]\n",
    "#the last 60 data of the training dataset until the end of the data to test the model"
   ]
  },
  {
   "cell_type": "code",
   "execution_count": 389,
   "metadata": {},
   "outputs": [
    {
     "data": {
      "text/html": [
       "<div>\n",
       "<style scoped>\n",
       "    .dataframe tbody tr th:only-of-type {\n",
       "        vertical-align: middle;\n",
       "    }\n",
       "\n",
       "    .dataframe tbody tr th {\n",
       "        vertical-align: top;\n",
       "    }\n",
       "\n",
       "    .dataframe thead th {\n",
       "        text-align: right;\n",
       "    }\n",
       "</style>\n",
       "<table border=\"1\" class=\"dataframe\">\n",
       "  <thead>\n",
       "    <tr style=\"text-align: right;\">\n",
       "      <th></th>\n",
       "      <th>1 Yr</th>\n",
       "    </tr>\n",
       "  </thead>\n",
       "  <tbody>\n",
       "    <tr>\n",
       "      <th>0</th>\n",
       "      <td>7.81</td>\n",
       "    </tr>\n",
       "    <tr>\n",
       "      <th>1</th>\n",
       "      <td>7.85</td>\n",
       "    </tr>\n",
       "    <tr>\n",
       "      <th>2</th>\n",
       "      <td>7.82</td>\n",
       "    </tr>\n",
       "    <tr>\n",
       "      <th>3</th>\n",
       "      <td>7.79</td>\n",
       "    </tr>\n",
       "    <tr>\n",
       "      <th>4</th>\n",
       "      <td>7.81</td>\n",
       "    </tr>\n",
       "  </tbody>\n",
       "</table>\n",
       "</div>"
      ],
      "text/plain": [
       "   1 Yr\n",
       "0  7.81\n",
       "1  7.85\n",
       "2  7.82\n",
       "3  7.79\n",
       "4  7.81"
      ]
     },
     "execution_count": 389,
     "metadata": {},
     "output_type": "execute_result"
    }
   ],
   "source": [
    "data_train.head(5)"
   ]
  },
  {
   "cell_type": "code",
   "execution_count": 390,
   "metadata": {},
   "outputs": [
    {
     "data": {
      "text/html": [
       "<div>\n",
       "<style scoped>\n",
       "    .dataframe tbody tr th:only-of-type {\n",
       "        vertical-align: middle;\n",
       "    }\n",
       "\n",
       "    .dataframe tbody tr th {\n",
       "        vertical-align: top;\n",
       "    }\n",
       "\n",
       "    .dataframe thead th {\n",
       "        text-align: right;\n",
       "    }\n",
       "</style>\n",
       "<table border=\"1\" class=\"dataframe\">\n",
       "  <thead>\n",
       "    <tr style=\"text-align: right;\">\n",
       "      <th></th>\n",
       "      <th>1 Yr</th>\n",
       "    </tr>\n",
       "  </thead>\n",
       "  <tbody>\n",
       "    <tr>\n",
       "      <th>4444</th>\n",
       "      <td>4.10</td>\n",
       "    </tr>\n",
       "    <tr>\n",
       "      <th>4445</th>\n",
       "      <td>4.16</td>\n",
       "    </tr>\n",
       "    <tr>\n",
       "      <th>4446</th>\n",
       "      <td>4.23</td>\n",
       "    </tr>\n",
       "    <tr>\n",
       "      <th>4447</th>\n",
       "      <td>4.23</td>\n",
       "    </tr>\n",
       "    <tr>\n",
       "      <th>4448</th>\n",
       "      <td>4.22</td>\n",
       "    </tr>\n",
       "  </tbody>\n",
       "</table>\n",
       "</div>"
      ],
      "text/plain": [
       "      1 Yr\n",
       "4444  4.10\n",
       "4445  4.16\n",
       "4446  4.23\n",
       "4447  4.23\n",
       "4448  4.22"
      ]
     },
     "execution_count": 390,
     "metadata": {},
     "output_type": "execute_result"
    }
   ],
   "source": [
    "data_test.head(5)\n",
    "#4504 - 60 -1 =  4443"
   ]
  },
  {
   "cell_type": "markdown",
   "metadata": {},
   "source": [
    "### Normaliza Data(Scale it into the range [0,1])"
   ]
  },
  {
   "cell_type": "code",
   "execution_count": 391,
   "metadata": {},
   "outputs": [],
   "source": [
    "scaler = MinMaxScaler()\n",
    "scaler.fit(data_train)\n",
    "normalized_train = scaler.transform(data_train)\n",
    "normalized_test = scaler.transform(data_test)\n",
    "#transform the value in normal[0,1]"
   ]
  },
  {
   "cell_type": "markdown",
   "metadata": {},
   "source": [
    "### Create TimeseriesGenerate for Training"
   ]
  },
  {
   "cell_type": "code",
   "execution_count": 392,
   "metadata": {},
   "outputs": [],
   "source": [
    "#Time series has 60 historical data point\n",
    "batch_size32 = 32\n",
    "\n",
    "\n",
    "train_tsGenerator60 = TimeseriesGenerator(normalized_train, normalized_train, length60, batch_size = batch_size32)\n",
    "#TimeseriesGenerator(input,outputs, length, batch_size)\n"
   ]
  },
  {
   "cell_type": "code",
   "execution_count": 393,
   "metadata": {},
   "outputs": [
    {
     "data": {
      "text/plain": [
       "4504"
      ]
     },
     "execution_count": 393,
     "metadata": {},
     "output_type": "execute_result"
    }
   ],
   "source": [
    "#This project generate  times 4504 - 60 -1 = 4443 \n",
    "len(normalized_train)"
   ]
  },
  {
   "cell_type": "code",
   "execution_count": 394,
   "metadata": {},
   "outputs": [
    {
     "data": {
      "text/plain": [
       "139"
      ]
     },
     "execution_count": 394,
     "metadata": {},
     "output_type": "execute_result"
    }
   ],
   "source": [
    "len(train_tsGenerator60)\n",
    "#batch generated by time series generator from 4503\n",
    "#last that left from generate sequnce processes\n",
    "#This project generate 4443 times = 4503 - 60\n",
    "# 4443/32 each batch has 139 samples"
   ]
  },
  {
   "cell_type": "code",
   "execution_count": 395,
   "metadata": {},
   "outputs": [
    {
     "name": "stdout",
     "output_type": "stream",
     "text": [
      "[[[0.89304124]\n",
      "  [0.89819588]\n",
      "  [0.8943299 ]\n",
      "  ...\n",
      "  [0.95618557]\n",
      "  [0.96262887]\n",
      "  [0.96005155]]\n",
      "\n",
      " [[0.89819588]\n",
      "  [0.8943299 ]\n",
      "  [0.89046392]\n",
      "  ...\n",
      "  [0.96262887]\n",
      "  [0.96005155]\n",
      "  [0.96391753]]\n",
      "\n",
      " [[0.8943299 ]\n",
      "  [0.89046392]\n",
      "  [0.89304124]\n",
      "  ...\n",
      "  [0.96005155]\n",
      "  [0.96391753]\n",
      "  [0.96262887]]\n",
      "\n",
      " ...\n",
      "\n",
      " [[0.91108247]\n",
      "  [0.92139175]\n",
      "  [0.93170103]\n",
      "  ...\n",
      "  [0.9742268 ]\n",
      "  [0.96907216]\n",
      "  [0.96907216]]\n",
      "\n",
      " [[0.92139175]\n",
      "  [0.93170103]\n",
      "  [0.92912371]\n",
      "  ...\n",
      "  [0.96907216]\n",
      "  [0.96907216]\n",
      "  [0.96005155]]\n",
      "\n",
      " [[0.93170103]\n",
      "  [0.92912371]\n",
      "  [0.94845361]\n",
      "  ...\n",
      "  [0.96907216]\n",
      "  [0.96005155]\n",
      "  [0.94458763]]]\n"
     ]
    }
   ],
   "source": [
    "X,y = train_tsGenerator60[0]\n",
    "print(X)"
   ]
  },
  {
   "cell_type": "markdown",
   "metadata": {},
   "source": [
    "### Build Train and Test"
   ]
  },
  {
   "cell_type": "code",
   "execution_count": 396,
   "metadata": {},
   "outputs": [],
   "source": [
    "n_features = 1\n",
    "#feature has 1 preditor"
   ]
  },
  {
   "cell_type": "code",
   "execution_count": 397,
   "metadata": {},
   "outputs": [],
   "source": [
    "#define the model\n",
    "model = Sequential()\n",
    "\n",
    "model.add(LSTM(units=60, activation='relu',return_sequences=True, input_shape=(length60,n_features)))\n",
    "#return_sequences=True will return the value to next LSTM layer\n",
    "#input_shape=(length60,n_features) = input demension is 2 demensions.\n",
    "model.add(Dropout(0.25))\n",
    "#dropout 25% of the all data\n",
    "\n",
    "model.add(LSTM(units=60, activation='relu',return_sequences=True))\n",
    "#learning funciton to fullfill the dropped data.\n",
    "#return_sequences=True will return the value to next LSTM layer\n",
    "model.add(Dropout(0.25))\n",
    "\n",
    "model.add(LSTM(units=60, activation='relu',return_sequences=True))\n",
    "#learning funciton to fullfill the dropped data.\n",
    "#return_sequences=True will return the value to next LSTM layer\n",
    "model.add(Dropout(0.25))\n",
    "\n",
    "model.add(LSTM(units=60, activation='relu'))\n",
    "#learning funciton to fullfill the dropped data.\n",
    "\n",
    "model.add(Dense(1))"
   ]
  },
  {
   "cell_type": "markdown",
   "metadata": {},
   "source": [
    "### Complie model"
   ]
  },
  {
   "cell_type": "code",
   "execution_count": 398,
   "metadata": {},
   "outputs": [
    {
     "name": "stdout",
     "output_type": "stream",
     "text": [
      "Model: \"sequential_6\"\n",
      "_________________________________________________________________\n",
      "Layer (type)                 Output Shape              Param #   \n",
      "=================================================================\n",
      "lstm_18 (LSTM)               (None, 60, 60)            14880     \n",
      "_________________________________________________________________\n",
      "dropout_12 (Dropout)         (None, 60, 60)            0         \n",
      "_________________________________________________________________\n",
      "lstm_19 (LSTM)               (None, 60, 60)            29040     \n",
      "_________________________________________________________________\n",
      "dropout_13 (Dropout)         (None, 60, 60)            0         \n",
      "_________________________________________________________________\n",
      "lstm_20 (LSTM)               (None, 60, 60)            29040     \n",
      "_________________________________________________________________\n",
      "dropout_14 (Dropout)         (None, 60, 60)            0         \n",
      "_________________________________________________________________\n",
      "lstm_21 (LSTM)               (None, 60)                29040     \n",
      "_________________________________________________________________\n",
      "dense_6 (Dense)              (None, 1)                 61        \n",
      "=================================================================\n",
      "Total params: 102,061\n",
      "Trainable params: 102,061\n",
      "Non-trainable params: 0\n",
      "_________________________________________________________________\n"
     ]
    }
   ],
   "source": [
    "model.compile(optimizer = 'adam', loss ='mse')\n",
    "#complie Adaptive Moment Estimation (adam) and loss function to monitor the model\n",
    "\n",
    "model.summary()\n",
    "#summmarize the model"
   ]
  },
  {
   "cell_type": "markdown",
   "metadata": {},
   "source": [
    "### Train(Fit) model Using fit_generator()"
   ]
  },
  {
   "cell_type": "code",
   "execution_count": 399,
   "metadata": {},
   "outputs": [
    {
     "name": "stdout",
     "output_type": "stream",
     "text": [
      "Epoch 1/50\n",
      "139/139 [==============================] - 44s 314ms/step - loss: 0.0358\n",
      "Epoch 2/50\n",
      "139/139 [==============================] - 34s 244ms/step - loss: 0.0057\n",
      "Epoch 3/50\n",
      "139/139 [==============================] - 34s 243ms/step - loss: 0.0023\n",
      "Epoch 4/50\n",
      "139/139 [==============================] - 34s 248ms/step - loss: 0.0019\n",
      "Epoch 5/50\n",
      "139/139 [==============================] - 35s 250ms/step - loss: 0.0015\n",
      "Epoch 6/50\n",
      "139/139 [==============================] - 34s 246ms/step - loss: 0.0016\n",
      "Epoch 7/50\n",
      "139/139 [==============================] - 34s 247ms/step - loss: 0.0015\n",
      "Epoch 8/50\n",
      "139/139 [==============================] - 34s 243ms/step - loss: 0.0019\n",
      "Epoch 9/50\n",
      "139/139 [==============================] - 34s 242ms/step - loss: 0.0014\n",
      "Epoch 10/50\n",
      "139/139 [==============================] - 33s 239ms/step - loss: 0.0015\n",
      "Epoch 11/50\n",
      "139/139 [==============================] - 34s 242ms/step - loss: 0.0014\n",
      "Epoch 12/50\n",
      "139/139 [==============================] - 34s 245ms/step - loss: 0.0014\n",
      "Epoch 13/50\n",
      "139/139 [==============================] - 34s 242ms/step - loss: 0.0012\n",
      "Epoch 14/50\n",
      "139/139 [==============================] - 34s 244ms/step - loss: 0.0011\n",
      "Epoch 15/50\n",
      "139/139 [==============================] - 34s 244ms/step - loss: 0.0023\n",
      "Epoch 16/50\n",
      "139/139 [==============================] - 34s 245ms/step - loss: 0.0014\n",
      "Epoch 17/50\n",
      "139/139 [==============================] - 34s 243ms/step - loss: 0.0011\n",
      "Epoch 18/50\n",
      "139/139 [==============================] - 34s 245ms/step - loss: 9.9241e-04\n",
      "Epoch 19/50\n",
      "139/139 [==============================] - 34s 245ms/step - loss: 0.0010\n",
      "Epoch 20/50\n",
      "139/139 [==============================] - 34s 245ms/step - loss: 0.0011\n",
      "Epoch 21/50\n",
      "139/139 [==============================] - 34s 242ms/step - loss: 0.0012\n",
      "Epoch 22/50\n",
      "139/139 [==============================] - 34s 246ms/step - loss: 8.6389e-04\n",
      "Epoch 23/50\n",
      "139/139 [==============================] - 34s 246ms/step - loss: 8.8052e-04\n",
      "Epoch 24/50\n",
      "139/139 [==============================] - 34s 248ms/step - loss: 9.1133e-04\n",
      "Epoch 25/50\n",
      "139/139 [==============================] - 34s 245ms/step - loss: 0.0010\n",
      "Epoch 26/50\n",
      "139/139 [==============================] - 34s 246ms/step - loss: 0.0011\n",
      "Epoch 27/50\n",
      "139/139 [==============================] - 34s 246ms/step - loss: 9.8536e-04\n",
      "Epoch 28/50\n",
      "139/139 [==============================] - 34s 246ms/step - loss: 548916797.6982\n",
      "Epoch 29/50\n",
      "139/139 [==============================] - 34s 243ms/step - loss: 4901716.2337\n",
      "Epoch 30/50\n",
      "139/139 [==============================] - 34s 248ms/step - loss: 2073960208.1738\n",
      "Epoch 31/50\n",
      "139/139 [==============================] - 35s 248ms/step - loss: 3165.7386\n",
      "Epoch 32/50\n",
      "139/139 [==============================] - 34s 248ms/step - loss: 1022.7803\n",
      "Epoch 33/50\n",
      "139/139 [==============================] - 34s 247ms/step - loss: 820.0574\n",
      "Epoch 34/50\n",
      "139/139 [==============================] - 34s 246ms/step - loss: 802.6408\n",
      "Epoch 35/50\n",
      "139/139 [==============================] - 35s 249ms/step - loss: 379.3312\n",
      "Epoch 36/50\n",
      "139/139 [==============================] - 34s 244ms/step - loss: 84.7665\n",
      "Epoch 37/50\n",
      "139/139 [==============================] - 35s 253ms/step - loss: 54.0336\n",
      "Epoch 38/50\n",
      "139/139 [==============================] - 34s 247ms/step - loss: 29.5178\n",
      "Epoch 39/50\n",
      "139/139 [==============================] - 34s 243ms/step - loss: 29.3304\n",
      "Epoch 40/50\n",
      "139/139 [==============================] - 34s 246ms/step - loss: 40.1553\n",
      "Epoch 41/50\n",
      "139/139 [==============================] - 34s 244ms/step - loss: 1012.6358\n",
      "Epoch 42/50\n",
      "139/139 [==============================] - 34s 245ms/step - loss: 195.9853\n",
      "Epoch 43/50\n",
      "139/139 [==============================] - 34s 242ms/step - loss: 152.3912\n",
      "Epoch 44/50\n",
      "139/139 [==============================] - 34s 244ms/step - loss: 58.8769\n",
      "Epoch 45/50\n",
      "139/139 [==============================] - 33s 241ms/step - loss: 44.8965\n",
      "Epoch 46/50\n",
      "139/139 [==============================] - 33s 237ms/step - loss: 54.0883\n",
      "Epoch 47/50\n",
      "139/139 [==============================] - 34s 245ms/step - loss: 53.4337\n",
      "Epoch 48/50\n",
      "139/139 [==============================] - 33s 241ms/step - loss: 59.2596\n",
      "Epoch 49/50\n",
      "139/139 [==============================] - 34s 245ms/step - loss: 62.7683\n",
      "Epoch 50/50\n",
      "139/139 [==============================] - 34s 244ms/step - loss: 28.9723\n"
     ]
    },
    {
     "data": {
      "text/plain": [
       "<tensorflow.python.keras.callbacks.History at 0xefb2056d30>"
      ]
     },
     "execution_count": 399,
     "metadata": {},
     "output_type": "execute_result"
    }
   ],
   "source": [
    "model.fit_generator(train_tsGenerator60, epochs=50)"
   ]
  },
  {
   "cell_type": "markdown",
   "metadata": {},
   "source": [
    "### Visualize the model"
   ]
  },
  {
   "cell_type": "code",
   "execution_count": 400,
   "metadata": {},
   "outputs": [
    {
     "data": {
      "text/plain": [
       "dict_keys(['loss'])"
      ]
     },
     "execution_count": 400,
     "metadata": {},
     "output_type": "execute_result"
    }
   ],
   "source": [
    "loss_history_keys = model.history.history.keys()\n",
    "\n",
    "loss_history_keys"
   ]
  },
  {
   "cell_type": "code",
   "execution_count": 401,
   "metadata": {},
   "outputs": [
    {
     "data": {
      "text/plain": [
       "<matplotlib.axes._subplots.AxesSubplot at 0xefb506b160>"
      ]
     },
     "execution_count": 401,
     "metadata": {},
     "output_type": "execute_result"
    },
    {
     "data": {
      "image/png": "[encoded data removed]",
      "text/plain": [
       "<matplotlib.figure.Figure at 0xefb500f2b0>"
      ]
     },
     "metadata": {
      "needs_background": "light"
     },
     "output_type": "display_data"
    }
   ],
   "source": [
    "df_model_loss = pd.DataFrame(model.history.history)\n",
    "\n",
    "df_model_loss.plot()"
   ]
  },
  {
   "cell_type": "markdown",
   "metadata": {},
   "source": [
    "### prediction for Testing: Using TimeseriesGenerator"
   ]
  },
  {
   "cell_type": "code",
   "execution_count": 402,
   "metadata": {},
   "outputs": [],
   "source": [
    "batch_size1 =1 \n",
    "# In a timeserise batch has 1 dataset\n",
    "\n",
    "test_tsGenerator60 = TimeseriesGenerator(normalized_test, normalized_test, length=length60, batch_size = batch_size1)\n",
    "#TimeseriesGenerator(input,outputs, length, batch_size)"
   ]
  },
  {
   "cell_type": "markdown",
   "metadata": {},
   "source": [
    "### Predict Future Data Points for Testing\n",
    "### Create TimeriesGenerator for Testing"
   ]
  },
  {
   "cell_type": "code",
   "execution_count": 403,
   "metadata": {},
   "outputs": [
    {
     "data": {
      "text/plain": [
       "array([[0.21844035],\n",
       "       [0.21777451],\n",
       "       [0.21711186],\n",
       "       [0.21643987],\n",
       "       [0.21576288],\n",
       "       [0.215078  ],\n",
       "       [0.21437727],\n",
       "       [0.21365176],\n",
       "       [0.21290562],\n",
       "       [0.21214068],\n",
       "       [0.2113466 ],\n",
       "       [0.2105206 ],\n",
       "       [0.20964257],\n",
       "       [0.2086766 ],\n",
       "       [0.20758335],\n",
       "       [0.20636027],\n",
       "       [0.20502552],\n",
       "       [0.20360197],\n",
       "       [0.20211905],\n",
       "       [0.20058984],\n",
       "       [0.1990359 ],\n",
       "       [0.19746616],\n",
       "       [0.19587168],\n",
       "       [0.19426358],\n",
       "       [0.19263825],\n",
       "       [0.19101423],\n",
       "       [0.18940127],\n",
       "       [0.18779957],\n",
       "       [0.18622756],\n",
       "       [0.18470201],\n",
       "       [0.18322419],\n",
       "       [0.18178314],\n",
       "       [0.18036565],\n",
       "       [0.17901327],\n",
       "       [0.17772815],\n",
       "       [0.17655843],\n",
       "       [0.17550796],\n",
       "       [0.17456362],\n",
       "       [0.17371133],\n",
       "       [0.17292221],\n",
       "       [0.17217165],\n",
       "       [0.17143112],\n",
       "       [0.17068106],\n",
       "       [0.16991398],\n",
       "       [0.16912247],\n",
       "       [0.16830067],\n",
       "       [0.16744734],\n",
       "       [0.16657245],\n",
       "       [0.16568968],\n",
       "       [0.16480735],\n",
       "       [0.16392201],\n",
       "       [0.16302899],\n",
       "       [0.16213213],\n",
       "       [0.16123596],\n",
       "       [0.16034296],\n",
       "       [0.15952459],\n",
       "       [0.15878612],\n",
       "       [0.15812808],\n",
       "       [0.15754473],\n",
       "       [0.15702976],\n",
       "       [0.15657869],\n",
       "       [0.15618591],\n",
       "       [0.15585259],\n",
       "       [0.15557736],\n",
       "       [0.15535598],\n",
       "       [0.15518698],\n",
       "       [0.155065  ],\n",
       "       [0.1549802 ],\n",
       "       [0.1549198 ],\n",
       "       [0.15486956],\n",
       "       [0.15481824],\n",
       "       [0.15476133],\n",
       "       [0.15470375],\n",
       "       [0.15466206],\n",
       "       [0.15465023],\n",
       "       [0.15467848],\n",
       "       [0.15475442],\n",
       "       [0.15487547],\n",
       "       [0.15504031],\n",
       "       [0.15525076],\n",
       "       [0.15550512],\n",
       "       [0.15579471],\n",
       "       [0.1561046 ],\n",
       "       [0.15642758],\n",
       "       [0.15675871],\n",
       "       [0.15709543],\n",
       "       [0.15743458],\n",
       "       [0.15777034],\n",
       "       [0.15809557],\n",
       "       [0.15840441],\n",
       "       [0.15869936],\n",
       "       [0.1589902 ],\n",
       "       [0.15928578],\n",
       "       [0.15959072],\n",
       "       [0.15991908],\n",
       "       [0.16026561],\n",
       "       [0.16061789],\n",
       "       [0.16096856],\n",
       "       [0.16131803],\n",
       "       [0.16166514],\n",
       "       [0.16201109],\n",
       "       [0.16235954],\n",
       "       [0.16271025],\n",
       "       [0.16306517],\n",
       "       [0.16342217],\n",
       "       [0.16377336],\n",
       "       [0.1641124 ],\n",
       "       [0.16443238],\n",
       "       [0.16473128],\n",
       "       [0.16501899],\n",
       "       [0.1653266 ],\n",
       "       [0.16567293],\n",
       "       [0.16607794],\n",
       "       [0.16655576],\n",
       "       [0.16711092],\n",
       "       [0.16772828],\n",
       "       [0.16839015],\n",
       "       [0.16907847],\n",
       "       [0.16976953],\n",
       "       [0.17045087],\n",
       "       [0.17111148],\n",
       "       [0.17173794],\n",
       "       [0.17231351],\n",
       "       [0.17283492],\n",
       "       [0.17329073],\n",
       "       [0.17367503],\n",
       "       [0.17398982],\n",
       "       [0.17423531],\n",
       "       [0.17440948],\n",
       "       [0.17451611],\n",
       "       [0.1745548 ],\n",
       "       [0.17452854],\n",
       "       [0.17445162],\n",
       "       [0.174334  ],\n",
       "       [0.1741775 ],\n",
       "       [0.17399254],\n",
       "       [0.17379358],\n",
       "       [0.1735898 ],\n",
       "       [0.1733906 ],\n",
       "       [0.17320773],\n",
       "       [0.17305592],\n",
       "       [0.17293328],\n",
       "       [0.17284058],\n",
       "       [0.17276852],\n",
       "       [0.17271748],\n",
       "       [0.17268491],\n",
       "       [0.17266342],\n",
       "       [0.17264387],\n",
       "       [0.17262107],\n",
       "       [0.17259115],\n",
       "       [0.17255104],\n",
       "       [0.17249434],\n",
       "       [0.17241779],\n",
       "       [0.172328  ],\n",
       "       [0.17222446],\n",
       "       [0.17210817],\n",
       "       [0.17197642],\n",
       "       [0.17182602],\n",
       "       [0.17165732],\n",
       "       [0.17147294],\n",
       "       [0.17126887],\n",
       "       [0.17104694],\n",
       "       [0.17081884],\n",
       "       [0.17058873],\n",
       "       [0.17036803],\n",
       "       [0.17016193],\n",
       "       [0.16997492],\n",
       "       [0.16980831],\n",
       "       [0.16965829],\n",
       "       [0.16951314],\n",
       "       [0.1693618 ],\n",
       "       [0.16920489],\n",
       "       [0.16904148],\n",
       "       [0.16887319],\n",
       "       [0.16869745],\n",
       "       [0.16851425],\n",
       "       [0.1683231 ],\n",
       "       [0.16809408],\n",
       "       [0.16781057],\n",
       "       [0.16744427],\n",
       "       [0.16698581],\n",
       "       [0.1664775 ],\n",
       "       [0.16596837],\n",
       "       [0.16549194],\n",
       "       [0.16505946],\n",
       "       [0.164678  ],\n",
       "       [0.16433784],\n",
       "       [0.16400945],\n",
       "       [0.16368091],\n",
       "       [0.16334417],\n",
       "       [0.16297632],\n",
       "       [0.1625565 ],\n",
       "       [0.16206118],\n",
       "       [0.16148548],\n",
       "       [0.16083461],\n",
       "       [0.16013697],\n",
       "       [0.15941548],\n",
       "       [0.15866955],\n",
       "       [0.15790108],\n",
       "       [0.157126  ],\n",
       "       [0.15636438],\n",
       "       [0.15565808],\n",
       "       [0.15503967],\n",
       "       [0.15452765],\n",
       "       [0.15412068],\n",
       "       [0.15381132],\n",
       "       [0.15358473],\n",
       "       [0.15342161],\n",
       "       [0.15329736],\n",
       "       [0.15318847],\n",
       "       [0.1530762 ],\n",
       "       [0.15294835],\n",
       "       [0.15279526],\n",
       "       [0.15261002],\n",
       "       [0.15238959],\n",
       "       [0.15213425],\n",
       "       [0.15184751],\n",
       "       [0.15152656],\n",
       "       [0.15117837],\n",
       "       [0.15081273],\n",
       "       [0.15043536],\n",
       "       [0.15004885],\n",
       "       [0.1496518 ],\n",
       "       [0.14923954],\n",
       "       [0.14880559],\n",
       "       [0.14836164],\n",
       "       [0.14792755],\n",
       "       [0.1475065 ],\n",
       "       [0.14709996],\n",
       "       [0.14670424],\n",
       "       [0.1463144 ],\n",
       "       [0.14592354],\n",
       "       [0.14552349],\n",
       "       [0.14510714],\n",
       "       [0.14467065],\n",
       "       [0.1442131 ],\n",
       "       [0.14373711],\n",
       "       [0.1432516 ],\n",
       "       [0.14276189],\n",
       "       [0.14227712],\n",
       "       [0.14180055],\n",
       "       [0.14133374],\n",
       "       [0.14088215],\n",
       "       [0.14044869],\n",
       "       [0.14003466],\n",
       "       [0.13964048],\n",
       "       [0.1392681 ],\n",
       "       [0.13891804],\n",
       "       [0.13858795],\n",
       "       [0.13827747],\n",
       "       [0.13798684],\n",
       "       [0.13771576],\n",
       "       [0.13746642],\n",
       "       [0.13723977],\n",
       "       [0.13703662],\n",
       "       [0.13685656],\n",
       "       [0.13669929],\n",
       "       [0.13656145],\n",
       "       [0.13644195],\n",
       "       [0.13633755],\n",
       "       [0.13624643],\n",
       "       [0.13616604],\n",
       "       [0.1360959 ],\n",
       "       [0.1360353 ],\n",
       "       [0.13598259],\n",
       "       [0.13593778],\n",
       "       [0.13590138],\n",
       "       [0.13587359],\n",
       "       [0.13585466],\n",
       "       [0.13584524],\n",
       "       [0.13584584],\n",
       "       [0.13585639],\n",
       "       [0.13587703],\n",
       "       [0.13590741],\n",
       "       [0.13594688],\n",
       "       [0.13599561],\n",
       "       [0.13605508],\n",
       "       [0.13612576],\n",
       "       [0.13620639],\n",
       "       [0.13629483],\n",
       "       [0.13638955],\n",
       "       [0.13648874],\n",
       "       [0.13659237],\n",
       "       [0.13670173],\n",
       "       [0.13681565],\n",
       "       [0.13693449],\n",
       "       [0.13705952],\n",
       "       [0.13719285],\n",
       "       [0.13733405],\n",
       "       [0.13748106],\n",
       "       [0.13762839],\n",
       "       [0.13777128],\n",
       "       [0.13790788],\n",
       "       [0.13803466],\n",
       "       [0.13814965],\n",
       "       [0.13825293],\n",
       "       [0.1383464 ],\n",
       "       [0.1384321 ],\n",
       "       [0.13851108],\n",
       "       [0.13858256],\n",
       "       [0.13864654],\n",
       "       [0.13870345],\n",
       "       [0.13874948],\n",
       "       [0.13878116],\n",
       "       [0.13879685],\n",
       "       [0.13879663],\n",
       "       [0.13878298],\n",
       "       [0.13875788],\n",
       "       [0.138722  ],\n",
       "       [0.13867669],\n",
       "       [0.13862374],\n",
       "       [0.13856468],\n",
       "       [0.13850155],\n",
       "       [0.13843688],\n",
       "       [0.13837337],\n",
       "       [0.13831314],\n",
       "       [0.13825756],\n",
       "       [0.13820693],\n",
       "       [0.13816148],\n",
       "       [0.13811976],\n",
       "       [0.13807876],\n",
       "       [0.1380361 ],\n",
       "       [0.13799053],\n",
       "       [0.13794312],\n",
       "       [0.13789415],\n",
       "       [0.13784334],\n",
       "       [0.13779014],\n",
       "       [0.13773307],\n",
       "       [0.13767168],\n",
       "       [0.13760598],\n",
       "       [0.13753776],\n",
       "       [0.13746814],\n",
       "       [0.1373977 ],\n",
       "       [0.13732694],\n",
       "       [0.13725781],\n",
       "       [0.13719276],\n",
       "       [0.13713276],\n",
       "       [0.13707948],\n",
       "       [0.13703457],\n",
       "       [0.13699806],\n",
       "       [0.13696958],\n",
       "       [0.1369477 ],\n",
       "       [0.13692966],\n",
       "       [0.13691312],\n",
       "       [0.1368965 ],\n",
       "       [0.13687775],\n",
       "       [0.1368542 ],\n",
       "       [0.13682455],\n",
       "       [0.13679005],\n",
       "       [0.13675295],\n",
       "       [0.13671514],\n",
       "       [0.13667753],\n",
       "       [0.13664028],\n",
       "       [0.13660394],\n",
       "       [0.13656816],\n",
       "       [0.1365323 ],\n",
       "       [0.13649663],\n",
       "       [0.13646832],\n",
       "       [0.13645424],\n",
       "       [0.13645604],\n",
       "       [0.13647208],\n",
       "       [0.13649869],\n",
       "       [0.1365316 ],\n",
       "       [0.13656633],\n",
       "       [0.13659965],\n",
       "       [0.13662891],\n",
       "       [0.13665342],\n",
       "       [0.13667305],\n",
       "       [0.13668741],\n",
       "       [0.13669646],\n",
       "       [0.13670048],\n",
       "       [0.13669866],\n",
       "       [0.13668975],\n",
       "       [0.13667554],\n",
       "       [0.1366609 ],\n",
       "       [0.13664925],\n",
       "       [0.13664033],\n",
       "       [0.13663237],\n",
       "       [0.13662285],\n",
       "       [0.13660958],\n",
       "       [0.13659199],\n",
       "       [0.13656968],\n",
       "       [0.13654342],\n",
       "       [0.13651446],\n",
       "       [0.13648507],\n",
       "       [0.13645628],\n",
       "       [0.1364288 ],\n",
       "       [0.13640285],\n",
       "       [0.13637805],\n",
       "       [0.13635431],\n",
       "       [0.13633247],\n",
       "       [0.13631254],\n",
       "       [0.13629515],\n",
       "       [0.13628067],\n",
       "       [0.13626988],\n",
       "       [0.13626236],\n",
       "       [0.1362572 ],\n",
       "       [0.13625368],\n",
       "       [0.13625088],\n",
       "       [0.13624868],\n",
       "       [0.13624693],\n",
       "       [0.13624737],\n",
       "       [0.13625003],\n",
       "       [0.13625406],\n",
       "       [0.13625813],\n",
       "       [0.1362605 ],\n",
       "       [0.13625962],\n",
       "       [0.13625482],\n",
       "       [0.13624546],\n",
       "       [0.13623141],\n",
       "       [0.13621268],\n",
       "       [0.13619041],\n",
       "       [0.1361657 ],\n",
       "       [0.1361405 ],\n",
       "       [0.13611597],\n",
       "       [0.13609317],\n",
       "       [0.13607198],\n",
       "       [0.13605191],\n",
       "       [0.13603249],\n",
       "       [0.13601272],\n",
       "       [0.13599207],\n",
       "       [0.13597047],\n",
       "       [0.13594772],\n",
       "       [0.13592356],\n",
       "       [0.13589785],\n",
       "       [0.13587037],\n",
       "       [0.13584149],\n",
       "       [0.13581148],\n",
       "       [0.13578026],\n",
       "       [0.1357485 ],\n",
       "       [0.13571735],\n",
       "       [0.13568752],\n",
       "       [0.13566008],\n",
       "       [0.13563548],\n",
       "       [0.13561349],\n",
       "       [0.13559422],\n",
       "       [0.13557741],\n",
       "       [0.13556308],\n",
       "       [0.1355508 ],\n",
       "       [0.13553931],\n",
       "       [0.13552748],\n",
       "       [0.13551427],\n",
       "       [0.13549942],\n",
       "       [0.1354821 ],\n",
       "       [0.13546222],\n",
       "       [0.13544081],\n",
       "       [0.13541827],\n",
       "       [0.13539493],\n",
       "       [0.1353713 ],\n",
       "       [0.13534796],\n",
       "       [0.135326  ],\n",
       "       [0.1353065 ],\n",
       "       [0.13529056],\n",
       "       [0.1352782 ],\n",
       "       [0.13526961],\n",
       "       [0.13526508],\n",
       "       [0.13526401],\n",
       "       [0.13526562],\n",
       "       [0.13526946],\n",
       "       [0.13527423],\n",
       "       [0.13527909],\n",
       "       [0.13528351],\n",
       "       [0.13528658],\n",
       "       [0.13528772],\n",
       "       [0.13528603],\n",
       "       [0.135281  ],\n",
       "       [0.13527226],\n",
       "       [0.13525955],\n",
       "       [0.13524292],\n",
       "       [0.13522245],\n",
       "       [0.13519883],\n",
       "       [0.13517183],\n",
       "       [0.13514063],\n",
       "       [0.13510484],\n",
       "       [0.13506542],\n",
       "       [0.13502336],\n",
       "       [0.13497886],\n",
       "       [0.13493235],\n",
       "       [0.13488466],\n",
       "       [0.1348364 ],\n",
       "       [0.13478898],\n",
       "       [0.13474435],\n",
       "       [0.13470607],\n",
       "       [0.13467553],\n",
       "       [0.1346518 ],\n",
       "       [0.13463408],\n",
       "       [0.13462189],\n",
       "       [0.1346156 ],\n",
       "       [0.13461602],\n",
       "       [0.13462456],\n",
       "       [0.13464096],\n",
       "       [0.13466343],\n",
       "       [0.13469014],\n",
       "       [0.13472049],\n",
       "       [0.13475442],\n",
       "       [0.13479166],\n",
       "       [0.13483225],\n",
       "       [0.13487719],\n",
       "       [0.13492693],\n",
       "       [0.13498065]], dtype=float32)"
      ]
     },
     "execution_count": 403,
     "metadata": {},
     "output_type": "execute_result"
    }
   ],
   "source": [
    "normalized_prediction = model.predict_generator(test_tsGenerator60)\n",
    "# predict the time series\n",
    "normalized_prediction\n",
    "#500 data point (predicted value)"
   ]
  },
  {
   "cell_type": "code",
   "execution_count": 404,
   "metadata": {},
   "outputs": [
    {
     "data": {
      "text/plain": [
       "500"
      ]
     },
     "execution_count": 404,
     "metadata": {},
     "output_type": "execute_result"
    }
   ],
   "source": [
    "len(normalized_prediction)"
   ]
  },
  {
   "cell_type": "code",
   "execution_count": 414,
   "metadata": {},
   "outputs": [
    {
     "data": {
      "text/html": [
       "<div>\n",
       "<style scoped>\n",
       "    .dataframe tbody tr th:only-of-type {\n",
       "        vertical-align: middle;\n",
       "    }\n",
       "\n",
       "    .dataframe tbody tr th {\n",
       "        vertical-align: top;\n",
       "    }\n",
       "\n",
       "    .dataframe thead th {\n",
       "        text-align: right;\n",
       "    }\n",
       "</style>\n",
       "<table border=\"1\" class=\"dataframe\">\n",
       "  <thead>\n",
       "    <tr style=\"text-align: right;\">\n",
       "      <th></th>\n",
       "      <th>Prediction</th>\n",
       "    </tr>\n",
       "  </thead>\n",
       "  <tbody>\n",
       "    <tr>\n",
       "      <th>4504</th>\n",
       "      <td>2.575097</td>\n",
       "    </tr>\n",
       "    <tr>\n",
       "      <th>4505</th>\n",
       "      <td>2.569930</td>\n",
       "    </tr>\n",
       "    <tr>\n",
       "      <th>4506</th>\n",
       "      <td>2.564788</td>\n",
       "    </tr>\n",
       "    <tr>\n",
       "      <th>4507</th>\n",
       "      <td>2.559573</td>\n",
       "    </tr>\n",
       "    <tr>\n",
       "      <th>4508</th>\n",
       "      <td>2.554320</td>\n",
       "    </tr>\n",
       "    <tr>\n",
       "      <th>...</th>\n",
       "      <td>...</td>\n",
       "    </tr>\n",
       "    <tr>\n",
       "      <th>4999</th>\n",
       "      <td>1.925983</td>\n",
       "    </tr>\n",
       "    <tr>\n",
       "      <th>5000</th>\n",
       "      <td>1.926298</td>\n",
       "    </tr>\n",
       "    <tr>\n",
       "      <th>5001</th>\n",
       "      <td>1.926647</td>\n",
       "    </tr>\n",
       "    <tr>\n",
       "      <th>5002</th>\n",
       "      <td>1.927033</td>\n",
       "    </tr>\n",
       "    <tr>\n",
       "      <th>5003</th>\n",
       "      <td>1.927450</td>\n",
       "    </tr>\n",
       "  </tbody>\n",
       "</table>\n",
       "<p>500 rows × 1 columns</p>\n",
       "</div>"
      ],
      "text/plain": [
       "      Prediction\n",
       "4504    2.575097\n",
       "4505    2.569930\n",
       "4506    2.564788\n",
       "4507    2.559573\n",
       "4508    2.554320\n",
       "...          ...\n",
       "4999    1.925983\n",
       "5000    1.926298\n",
       "5001    1.926647\n",
       "5002    1.927033\n",
       "5003    1.927450\n",
       "\n",
       "[500 rows x 1 columns]"
      ]
     },
     "execution_count": 414,
     "metadata": {},
     "output_type": "execute_result"
    }
   ],
   "source": [
    "prediction = scaler.inverse_transform(normalized_prediction)\n",
    "#convert the predicted value to be true value\n",
    "prediction_index =np.arange(4504,5004,step=1)\n",
    "#4442 data poiints + 501 data points in the testing data = 5003 data points\n",
    "\n",
    "df_prediction = pd.DataFrame(data = prediction, index=prediction_index, columns=['Prediction'])\n",
    "#index will predict from 4443 to 5003\n",
    "df_prediction"
   ]
  },
  {
   "cell_type": "markdown",
   "metadata": {},
   "source": [
    "### Visualization"
   ]
  },
  {
   "cell_type": "code",
   "execution_count": 415,
   "metadata": {},
   "outputs": [
    {
     "data": {
      "text/plain": [
       "<matplotlib.axes._subplots.AxesSubplot at 0xefb3e00a90>"
      ]
     },
     "execution_count": 415,
     "metadata": {},
     "output_type": "execute_result"
    },
    {
     "data": {
      "image/png": "[encoded data removed]",
      "text/plain": [
       "<matplotlib.figure.Figure at 0xefb3e1b518>"
      ]
     },
     "metadata": {
      "needs_background": "light"
     },
     "output_type": "display_data"
    }
   ],
   "source": [
    "ax = data_train.plot()\n",
    "\n",
    "df_prediction.plot(ax=ax, figsize=(8,12))\n",
    "# orange is predicted value\n",
    "#blue is real value that train the dataset"
   ]
  },
  {
   "cell_type": "code",
   "execution_count": 416,
   "metadata": {},
   "outputs": [
    {
     "data": {
      "text/plain": [
       "<matplotlib.axes._subplots.AxesSubplot at 0xefb415eef0>"
      ]
     },
     "execution_count": 416,
     "metadata": {},
     "output_type": "execute_result"
    },
    {
     "data": {
      "image/png": "[encoded data removed]",
      "text/plain": [
       "<matplotlib.figure.Figure at 0xefb4165128>"
      ]
     },
     "metadata": {
      "needs_background": "light"
     },
     "output_type": "display_data"
    }
   ],
   "source": [
    "ax = df.plot()\n",
    "\n",
    "df_prediction.plot(ax=ax, figsize=(8,12))\n",
    "# orange is predicted value\n",
    "#blue is real value"
   ]
  },
  {
   "cell_type": "markdown",
   "metadata": {},
   "source": [
    "## Time Series Forecasting with LSTM\n",
    "forecast the future should employ all the avaliable data Not split the data into training/testing"
   ]
  },
  {
   "cell_type": "markdown",
   "metadata": {},
   "source": [
    "### Preprocesses Full Input Dataset"
   ]
  },
  {
   "cell_type": "code",
   "execution_count": 417,
   "metadata": {},
   "outputs": [],
   "source": [
    "full_scaler = MinMaxScaler()\n",
    "normalized_full_data = full_scaler.fit_transform(df)"
   ]
  },
  {
   "cell_type": "markdown",
   "metadata": {},
   "source": [
    "### Create TimeSeriesGenerator for Forecasting"
   ]
  },
  {
   "cell_type": "code",
   "execution_count": 418,
   "metadata": {},
   "outputs": [
    {
     "data": {
      "text/plain": [
       "60"
      ]
     },
     "execution_count": 418,
     "metadata": {},
     "output_type": "execute_result"
    }
   ],
   "source": [
    "length60"
   ]
  },
  {
   "cell_type": "code",
   "execution_count": 419,
   "metadata": {},
   "outputs": [],
   "source": [
    "# the batch =32\n",
    "forecast_tsGenerator = TimeseriesGenerator(normalized_full_data, normalized_full_data, length = length60, batch_size = batch_size32)"
   ]
  },
  {
   "cell_type": "markdown",
   "metadata": {},
   "source": [
    "### Build, Complie, and Fit LSTM Model for Forecasting"
   ]
  },
  {
   "cell_type": "code",
   "execution_count": 420,
   "metadata": {},
   "outputs": [
    {
     "name": "stdout",
     "output_type": "stream",
     "text": [
      "Epoch 1/20\n",
      "155/155 [==============================] - 41s 262ms/step - loss: 25.3086\n",
      "Epoch 2/20\n",
      "155/155 [==============================] - 41s 262ms/step - loss: 25.5920\n",
      "Epoch 3/20\n",
      "155/155 [==============================] - 41s 263ms/step - loss: 50.4931\n",
      "Epoch 4/20\n",
      "155/155 [==============================] - 43s 275ms/step - loss: 18.3406\n",
      "Epoch 5/20\n",
      "155/155 [==============================] - 42s 273ms/step - loss: 20.8888\n",
      "Epoch 6/20\n",
      "155/155 [==============================] - 41s 266ms/step - loss: 38.7746\n",
      "Epoch 7/20\n",
      "155/155 [==============================] - 42s 268ms/step - loss: 34.9083\n",
      "Epoch 8/20\n",
      "155/155 [==============================] - 40s 258ms/step - loss: 31.4243\n",
      "Epoch 9/20\n",
      "155/155 [==============================] - 41s 267ms/step - loss: 32.5808\n",
      "Epoch 10/20\n",
      "155/155 [==============================] - 41s 266ms/step - loss: 21.6696\n",
      "Epoch 11/20\n",
      "155/155 [==============================] - 41s 267ms/step - loss: 21.5806\n",
      "Epoch 12/20\n",
      "155/155 [==============================] - 41s 267ms/step - loss: 15.1397\n",
      "Epoch 13/20\n",
      "155/155 [==============================] - 43s 280ms/step - loss: 69.7990\n",
      "Epoch 14/20\n",
      "155/155 [==============================] - 42s 273ms/step - loss: 3426.9256\n",
      "Epoch 15/20\n",
      "155/155 [==============================] - 43s 275ms/step - loss: 277.4955\n",
      "Epoch 16/20\n",
      "155/155 [==============================] - 43s 275ms/step - loss: 12.1899\n",
      "Epoch 17/20\n",
      "155/155 [==============================] - 41s 264ms/step - loss: 9.0770\n",
      "Epoch 18/20\n",
      "155/155 [==============================] - 42s 268ms/step - loss: 11.2651\n",
      "Epoch 19/20\n",
      "155/155 [==============================] - 41s 262ms/step - loss: 8.7063\n",
      "Epoch 20/20\n",
      "155/155 [==============================] - 39s 252ms/step - loss: 11.7599\n"
     ]
    },
    {
     "data": {
      "text/plain": [
       "<tensorflow.python.keras.callbacks.History at 0xefb439d860>"
      ]
     },
     "execution_count": 420,
     "metadata": {},
     "output_type": "execute_result"
    }
   ],
   "source": [
    "model.fit_generator(forecast_tsGenerator, epochs = 20)"
   ]
  },
  {
   "cell_type": "code",
   "execution_count": 421,
   "metadata": {},
   "outputs": [
    {
     "data": {
      "text/plain": [
       "<matplotlib.axes._subplots.AxesSubplot at 0xefb41b8940>"
      ]
     },
     "execution_count": 421,
     "metadata": {},
     "output_type": "execute_result"
    },
    {
     "data": {
      "image/png": "[encoded data removed]",
      "text/plain": [
       "<matplotlib.figure.Figure at 0xefb438a518>"
      ]
     },
     "metadata": {
      "needs_background": "light"
     },
     "output_type": "display_data"
    }
   ],
   "source": [
    "loss_history_keys = model.history.history.keys()\n",
    "\n",
    "loss_history_keys\n",
    "df_model_loss = pd.DataFrame(model.history.history)\n",
    "\n",
    "df_model_loss.plot()"
   ]
  },
  {
   "cell_type": "markdown",
   "metadata": {},
   "source": [
    "### Time Series Forecasting with LSTM Neural Network: (1/4/2010-12/31/2010)"
   ]
  },
  {
   "cell_type": "code",
   "execution_count": 422,
   "metadata": {},
   "outputs": [],
   "source": [
    "forecast = []\n",
    "periods = 252\n",
    "# days business days (1/4/2010-12/31/2010)\n",
    "\n",
    "first_eval_batch = normalized_full_data[-length60:]\n",
    "current_batch = first_eval_batch.reshape((1,length60,n_features))\n",
    "#The last 60 dataset is the first batch\n",
    "\n",
    "for i in range(periods):\n",
    "    #get prediction 1 time stamp ahead ([0] is for grabbing just the number instead of [array])\n",
    "    current_pred = model.predict(current_batch)[0]\n",
    "    \n",
    "    #store prediction\n",
    "    forecast.append(current_pred)\n",
    "    \n",
    "    current_batch = np.append(current_batch[:,1:,:],[[current_pred]], axis=1)"
   ]
  },
  {
   "cell_type": "markdown",
   "metadata": {},
   "source": [
    "### Invese to Transform Normalized Data Back into True Values"
   ]
  },
  {
   "cell_type": "code",
   "execution_count": 423,
   "metadata": {},
   "outputs": [
    {
     "data": {
      "text/plain": [
       "array([[1.29505204],\n",
       "       [1.29600937],\n",
       "       [1.29750639],\n",
       "       [1.29967754],\n",
       "       [1.3025489 ],\n",
       "       [1.30608096],\n",
       "       [1.31016077],\n",
       "       [1.3146353 ],\n",
       "       [1.31935395],\n",
       "       [1.32418311],\n",
       "       [1.32892137],\n",
       "       [1.3334446 ],\n",
       "       [1.33768886],\n",
       "       [1.34162869],\n",
       "       [1.34526321],\n",
       "       [1.34860003],\n",
       "       [1.3516474 ],\n",
       "       [1.35441681],\n",
       "       [1.35692423],\n",
       "       [1.35917504],\n",
       "       [1.36117736],\n",
       "       [1.36295579],\n",
       "       [1.36453104],\n",
       "       [1.36592548],\n",
       "       [1.36716159],\n",
       "       [1.36825946],\n",
       "       [1.36923671],\n",
       "       [1.37010844],\n",
       "       [1.37088714],\n",
       "       [1.37158392],\n",
       "       [1.37221428],\n",
       "       [1.37278694],\n",
       "       [1.37330753],\n",
       "       [1.37377942],\n",
       "       [1.37420648],\n",
       "       [1.37459208],\n",
       "       [1.37493973],\n",
       "       [1.37525265],\n",
       "       [1.37553387],\n",
       "       [1.37578648],\n",
       "       [1.376013  ],\n",
       "       [1.37621591],\n",
       "       [1.37639748],\n",
       "       [1.37656069],\n",
       "       [1.37670716],\n",
       "       [1.37683828],\n",
       "       [1.3769559 ],\n",
       "       [1.37706092],\n",
       "       [1.37715483],\n",
       "       [1.37723886],\n",
       "       [1.37731441],\n",
       "       [1.37738234],\n",
       "       [1.37744315],\n",
       "       [1.37749735],\n",
       "       [1.37754567],\n",
       "       [1.37758925],\n",
       "       [1.37762784],\n",
       "       [1.37766218],\n",
       "       [1.37769302],\n",
       "       [1.37772062],\n",
       "       [1.37774522],\n",
       "       [1.37775983],\n",
       "       [1.37777319],\n",
       "       [1.3777853 ],\n",
       "       [1.37779617],\n",
       "       [1.37780603],\n",
       "       [1.37781477],\n",
       "       [1.37782276],\n",
       "       [1.37782988],\n",
       "       [1.37783637],\n",
       "       [1.37784199],\n",
       "       [1.37784724],\n",
       "       [1.37785173],\n",
       "       [1.37785585],\n",
       "       [1.37785948],\n",
       "       [1.37786272],\n",
       "       [1.37786559],\n",
       "       [1.37786809],\n",
       "       [1.37787034],\n",
       "       [1.37787246],\n",
       "       [1.37787421],\n",
       "       [1.37787571],\n",
       "       [1.37787721],\n",
       "       [1.37787846],\n",
       "       [1.37787958],\n",
       "       [1.3778807 ],\n",
       "       [1.37788145],\n",
       "       [1.3778822 ],\n",
       "       [1.37788295],\n",
       "       [1.37788358],\n",
       "       [1.37788408],\n",
       "       [1.3778847 ],\n",
       "       [1.37788495],\n",
       "       [1.37788545],\n",
       "       [1.3778857 ],\n",
       "       [1.37788607],\n",
       "       [1.37788632],\n",
       "       [1.37788657],\n",
       "       [1.37788682],\n",
       "       [1.37788695],\n",
       "       [1.3778872 ],\n",
       "       [1.37788732],\n",
       "       [1.37788745],\n",
       "       [1.37788745],\n",
       "       [1.3778877 ],\n",
       "       [1.3778877 ],\n",
       "       [1.37788782],\n",
       "       [1.37788795],\n",
       "       [1.37788795],\n",
       "       [1.37788807],\n",
       "       [1.37788807],\n",
       "       [1.37788807],\n",
       "       [1.3778882 ],\n",
       "       [1.3778882 ],\n",
       "       [1.3778882 ],\n",
       "       [1.3778882 ],\n",
       "       [1.3778882 ],\n",
       "       [1.37788832],\n",
       "       [1.37788832],\n",
       "       [1.37788832],\n",
       "       [1.37788832],\n",
       "       [1.37788832],\n",
       "       [1.37788832],\n",
       "       [1.37788832],\n",
       "       [1.37788845],\n",
       "       [1.37788845],\n",
       "       [1.37788832],\n",
       "       [1.37788845],\n",
       "       [1.37788845],\n",
       "       [1.37788832],\n",
       "       [1.37788832],\n",
       "       [1.37788845],\n",
       "       [1.37788845],\n",
       "       [1.37788845],\n",
       "       [1.37788845],\n",
       "       [1.37788845],\n",
       "       [1.37788845],\n",
       "       [1.37788845],\n",
       "       [1.37788845],\n",
       "       [1.37788845],\n",
       "       [1.37788845],\n",
       "       [1.37788845],\n",
       "       [1.37788845],\n",
       "       [1.37788845],\n",
       "       [1.37788845],\n",
       "       [1.37788845],\n",
       "       [1.37788845],\n",
       "       [1.37788845],\n",
       "       [1.37788845],\n",
       "       [1.37788845],\n",
       "       [1.37788845],\n",
       "       [1.37788845],\n",
       "       [1.37788845],\n",
       "       [1.37788845],\n",
       "       [1.37788845],\n",
       "       [1.37788845],\n",
       "       [1.37788845],\n",
       "       [1.37788845],\n",
       "       [1.37788845],\n",
       "       [1.37788845],\n",
       "       [1.37788845],\n",
       "       [1.37788845],\n",
       "       [1.37788845],\n",
       "       [1.37788845],\n",
       "       [1.37788845],\n",
       "       [1.37788845],\n",
       "       [1.37788845],\n",
       "       [1.37788845],\n",
       "       [1.37788845],\n",
       "       [1.37788845],\n",
       "       [1.37788845],\n",
       "       [1.37788845],\n",
       "       [1.37788845],\n",
       "       [1.37788845],\n",
       "       [1.37788845],\n",
       "       [1.37788845],\n",
       "       [1.37788845],\n",
       "       [1.37788845],\n",
       "       [1.37788845],\n",
       "       [1.37788845],\n",
       "       [1.37788845],\n",
       "       [1.37788845],\n",
       "       [1.37788845],\n",
       "       [1.37788845],\n",
       "       [1.37788845],\n",
       "       [1.37788845],\n",
       "       [1.37788845],\n",
       "       [1.37788845],\n",
       "       [1.37788845],\n",
       "       [1.37788845],\n",
       "       [1.37788845],\n",
       "       [1.37788845],\n",
       "       [1.37788845],\n",
       "       [1.37788845],\n",
       "       [1.37788845],\n",
       "       [1.37788845],\n",
       "       [1.37788845],\n",
       "       [1.37788845],\n",
       "       [1.37788845],\n",
       "       [1.37788845],\n",
       "       [1.37788845],\n",
       "       [1.37788845],\n",
       "       [1.37788845],\n",
       "       [1.37788845],\n",
       "       [1.37788845],\n",
       "       [1.37788845],\n",
       "       [1.37788845],\n",
       "       [1.37788845],\n",
       "       [1.37788845],\n",
       "       [1.37788845],\n",
       "       [1.37788845],\n",
       "       [1.37788845],\n",
       "       [1.37788845],\n",
       "       [1.37788845],\n",
       "       [1.37788845],\n",
       "       [1.37788845],\n",
       "       [1.37788845],\n",
       "       [1.37788845],\n",
       "       [1.37788845],\n",
       "       [1.37788845],\n",
       "       [1.37788845],\n",
       "       [1.37788845],\n",
       "       [1.37788845],\n",
       "       [1.37788845],\n",
       "       [1.37788845],\n",
       "       [1.37788845],\n",
       "       [1.37788845],\n",
       "       [1.37788845],\n",
       "       [1.37788845],\n",
       "       [1.37788845],\n",
       "       [1.37788845],\n",
       "       [1.37788845],\n",
       "       [1.37788845],\n",
       "       [1.37788845],\n",
       "       [1.37788845],\n",
       "       [1.37788845],\n",
       "       [1.37788845],\n",
       "       [1.37788845],\n",
       "       [1.37788845],\n",
       "       [1.37788845],\n",
       "       [1.37788845],\n",
       "       [1.37788845],\n",
       "       [1.37788845],\n",
       "       [1.37788845],\n",
       "       [1.37788845],\n",
       "       [1.37788845],\n",
       "       [1.37788845],\n",
       "       [1.37788845],\n",
       "       [1.37788845],\n",
       "       [1.37788845],\n",
       "       [1.37788845],\n",
       "       [1.37788845]])"
      ]
     },
     "execution_count": 423,
     "metadata": {},
     "output_type": "execute_result"
    }
   ],
   "source": [
    "forecast = full_scaler.inverse_transform(forecast)\n",
    "forecast"
   ]
  },
  {
   "cell_type": "code",
   "execution_count": 424,
   "metadata": {},
   "outputs": [
    {
     "data": {
      "text/html": [
       "<div>\n",
       "<style scoped>\n",
       "    .dataframe tbody tr th:only-of-type {\n",
       "        vertical-align: middle;\n",
       "    }\n",
       "\n",
       "    .dataframe tbody tr th {\n",
       "        vertical-align: top;\n",
       "    }\n",
       "\n",
       "    .dataframe thead th {\n",
       "        text-align: right;\n",
       "    }\n",
       "</style>\n",
       "<table border=\"1\" class=\"dataframe\">\n",
       "  <thead>\n",
       "    <tr style=\"text-align: right;\">\n",
       "      <th></th>\n",
       "      <th>1 Yr</th>\n",
       "    </tr>\n",
       "  </thead>\n",
       "  <tbody>\n",
       "    <tr>\n",
       "      <th>0</th>\n",
       "      <td>7.81</td>\n",
       "    </tr>\n",
       "    <tr>\n",
       "      <th>1</th>\n",
       "      <td>7.85</td>\n",
       "    </tr>\n",
       "    <tr>\n",
       "      <th>2</th>\n",
       "      <td>7.82</td>\n",
       "    </tr>\n",
       "    <tr>\n",
       "      <th>3</th>\n",
       "      <td>7.79</td>\n",
       "    </tr>\n",
       "    <tr>\n",
       "      <th>4</th>\n",
       "      <td>7.81</td>\n",
       "    </tr>\n",
       "    <tr>\n",
       "      <th>...</th>\n",
       "      <td>...</td>\n",
       "    </tr>\n",
       "    <tr>\n",
       "      <th>4999</th>\n",
       "      <td>0.43</td>\n",
       "    </tr>\n",
       "    <tr>\n",
       "      <th>5000</th>\n",
       "      <td>0.47</td>\n",
       "    </tr>\n",
       "    <tr>\n",
       "      <th>5001</th>\n",
       "      <td>0.47</td>\n",
       "    </tr>\n",
       "    <tr>\n",
       "      <th>5002</th>\n",
       "      <td>0.45</td>\n",
       "    </tr>\n",
       "    <tr>\n",
       "      <th>5003</th>\n",
       "      <td>0.47</td>\n",
       "    </tr>\n",
       "  </tbody>\n",
       "</table>\n",
       "<p>5004 rows × 1 columns</p>\n",
       "</div>"
      ],
      "text/plain": [
       "      1 Yr\n",
       "0     7.81\n",
       "1     7.85\n",
       "2     7.82\n",
       "3     7.79\n",
       "4     7.81\n",
       "...    ...\n",
       "4999  0.43\n",
       "5000  0.47\n",
       "5001  0.47\n",
       "5002  0.45\n",
       "5003  0.47\n",
       "\n",
       "[5004 rows x 1 columns]"
      ]
     },
     "execution_count": 424,
     "metadata": {},
     "output_type": "execute_result"
    }
   ],
   "source": [
    "df"
   ]
  },
  {
   "cell_type": "markdown",
   "metadata": {},
   "source": [
    "### Create new timestamp index with pandas:07/01/20-12/15/2019"
   ]
  },
  {
   "cell_type": "code",
   "execution_count": 425,
   "metadata": {},
   "outputs": [],
   "source": [
    "forecast_index = np.arange(5004,5255, step=1)"
   ]
  },
  {
   "cell_type": "code",
   "execution_count": 426,
   "metadata": {},
   "outputs": [
    {
     "data": {
      "text/html": [
       "<div>\n",
       "<style scoped>\n",
       "    .dataframe tbody tr th:only-of-type {\n",
       "        vertical-align: middle;\n",
       "    }\n",
       "\n",
       "    .dataframe tbody tr th {\n",
       "        vertical-align: top;\n",
       "    }\n",
       "\n",
       "    .dataframe thead th {\n",
       "        text-align: right;\n",
       "    }\n",
       "</style>\n",
       "<table border=\"1\" class=\"dataframe\">\n",
       "  <thead>\n",
       "    <tr style=\"text-align: right;\">\n",
       "      <th></th>\n",
       "      <th>Forecast</th>\n",
       "    </tr>\n",
       "  </thead>\n",
       "  <tbody>\n",
       "    <tr>\n",
       "      <th>5004</th>\n",
       "      <td>1.295052</td>\n",
       "    </tr>\n",
       "    <tr>\n",
       "      <th>5005</th>\n",
       "      <td>1.296009</td>\n",
       "    </tr>\n",
       "    <tr>\n",
       "      <th>5006</th>\n",
       "      <td>1.297506</td>\n",
       "    </tr>\n",
       "    <tr>\n",
       "      <th>5007</th>\n",
       "      <td>1.299678</td>\n",
       "    </tr>\n",
       "    <tr>\n",
       "      <th>5008</th>\n",
       "      <td>1.302549</td>\n",
       "    </tr>\n",
       "    <tr>\n",
       "      <th>...</th>\n",
       "      <td>...</td>\n",
       "    </tr>\n",
       "    <tr>\n",
       "      <th>5251</th>\n",
       "      <td>1.377888</td>\n",
       "    </tr>\n",
       "    <tr>\n",
       "      <th>5252</th>\n",
       "      <td>1.377888</td>\n",
       "    </tr>\n",
       "    <tr>\n",
       "      <th>5253</th>\n",
       "      <td>1.377888</td>\n",
       "    </tr>\n",
       "    <tr>\n",
       "      <th>5254</th>\n",
       "      <td>1.377888</td>\n",
       "    </tr>\n",
       "    <tr>\n",
       "      <th>5255</th>\n",
       "      <td>1.377888</td>\n",
       "    </tr>\n",
       "  </tbody>\n",
       "</table>\n",
       "<p>252 rows × 1 columns</p>\n",
       "</div>"
      ],
      "text/plain": [
       "      Forecast\n",
       "5004  1.295052\n",
       "5005  1.296009\n",
       "5006  1.297506\n",
       "5007  1.299678\n",
       "5008  1.302549\n",
       "...        ...\n",
       "5251  1.377888\n",
       "5252  1.377888\n",
       "5253  1.377888\n",
       "5254  1.377888\n",
       "5255  1.377888\n",
       "\n",
       "[252 rows x 1 columns]"
      ]
     },
     "execution_count": 426,
     "metadata": {},
     "output_type": "execute_result"
    }
   ],
   "source": [
    "forecast_df = pd.DataFrame(data=forecast, index = forecast_index, columns=['Forecast'])\n",
    "forecast_df"
   ]
  },
  {
   "cell_type": "code",
   "execution_count": 427,
   "metadata": {},
   "outputs": [
    {
     "data": {
      "text/plain": [
       "<matplotlib.axes._subplots.AxesSubplot at 0xefb514a6a0>"
      ]
     },
     "execution_count": 427,
     "metadata": {},
     "output_type": "execute_result"
    },
    {
     "data": {
      "image/png": "[encoded data removed]",
      "text/plain": [
       "<matplotlib.figure.Figure at 0xefb4325748>"
      ]
     },
     "metadata": {
      "needs_background": "light"
     },
     "output_type": "display_data"
    },
    {
     "data": {
      "image/png": "[encoded data removed]",
      "text/plain": [
       "<matplotlib.figure.Figure at 0xefb43250f0>"
      ]
     },
     "metadata": {
      "needs_background": "light"
     },
     "output_type": "display_data"
    }
   ],
   "source": [
    "df.plot()\n",
    "forecast_df.plot()"
   ]
  },
  {
   "cell_type": "code",
   "execution_count": 428,
   "metadata": {},
   "outputs": [
    {
     "data": {
      "text/plain": [
       "<matplotlib.axes._subplots.AxesSubplot at 0xefb51a9860>"
      ]
     },
     "execution_count": 428,
     "metadata": {},
     "output_type": "execute_result"
    },
    {
     "data": {
      "image/png": "[encoded data removed]",
      "text/plain": [
       "<matplotlib.figure.Figure at 0xefb4351940>"
      ]
     },
     "metadata": {
      "needs_background": "light"
     },
     "output_type": "display_data"
    }
   ],
   "source": [
    "ax = df.plot()\n",
    "forecast_df.plot(ax = ax, figsize=(12,8))"
   ]
  },
  {
   "cell_type": "code",
   "execution_count": 429,
   "metadata": {},
   "outputs": [],
   "source": [
    "dir_path_dataset_2 = 'prediction.csv'"
   ]
  },
  {
   "cell_type": "code",
   "execution_count": 430,
   "metadata": {},
   "outputs": [],
   "source": [
    "df_all_predicting = pd.read_csv(dir_path_dataset_2)"
   ]
  },
  {
   "cell_type": "code",
   "execution_count": 431,
   "metadata": {},
   "outputs": [
    {
     "data": {
      "text/html": [
       "<div>\n",
       "<style scoped>\n",
       "    .dataframe tbody tr th:only-of-type {\n",
       "        vertical-align: middle;\n",
       "    }\n",
       "\n",
       "    .dataframe tbody tr th {\n",
       "        vertical-align: top;\n",
       "    }\n",
       "\n",
       "    .dataframe thead th {\n",
       "        text-align: right;\n",
       "    }\n",
       "</style>\n",
       "<table border=\"1\" class=\"dataframe\">\n",
       "  <thead>\n",
       "    <tr style=\"text-align: right;\">\n",
       "      <th></th>\n",
       "      <th>Date</th>\n",
       "      <th>1 Mo</th>\n",
       "      <th>2 Mo</th>\n",
       "      <th>3 Mo</th>\n",
       "      <th>6 Mo</th>\n",
       "      <th>1 Yr</th>\n",
       "      <th>2 Yr</th>\n",
       "      <th>3 Yr</th>\n",
       "      <th>5 Yr</th>\n",
       "      <th>7 Yr</th>\n",
       "      <th>10 Yr</th>\n",
       "      <th>20 Yr</th>\n",
       "      <th>30 Yr</th>\n",
       "    </tr>\n",
       "  </thead>\n",
       "  <tbody>\n",
       "    <tr>\n",
       "      <th>0</th>\n",
       "      <td>1/4/2010</td>\n",
       "      <td>0.05</td>\n",
       "      <td>NaN</td>\n",
       "      <td>0.08</td>\n",
       "      <td>0.18</td>\n",
       "      <td>0.45</td>\n",
       "      <td>1.09</td>\n",
       "      <td>1.66</td>\n",
       "      <td>2.65</td>\n",
       "      <td>3.36</td>\n",
       "      <td>3.85</td>\n",
       "      <td>4.60</td>\n",
       "      <td>4.65</td>\n",
       "    </tr>\n",
       "    <tr>\n",
       "      <th>1</th>\n",
       "      <td>1/5/2010</td>\n",
       "      <td>0.03</td>\n",
       "      <td>NaN</td>\n",
       "      <td>0.07</td>\n",
       "      <td>0.17</td>\n",
       "      <td>0.41</td>\n",
       "      <td>1.01</td>\n",
       "      <td>1.57</td>\n",
       "      <td>2.56</td>\n",
       "      <td>3.28</td>\n",
       "      <td>3.77</td>\n",
       "      <td>4.54</td>\n",
       "      <td>4.59</td>\n",
       "    </tr>\n",
       "    <tr>\n",
       "      <th>2</th>\n",
       "      <td>1/6/2010</td>\n",
       "      <td>0.03</td>\n",
       "      <td>NaN</td>\n",
       "      <td>0.06</td>\n",
       "      <td>0.15</td>\n",
       "      <td>0.40</td>\n",
       "      <td>1.01</td>\n",
       "      <td>1.60</td>\n",
       "      <td>2.60</td>\n",
       "      <td>3.33</td>\n",
       "      <td>3.85</td>\n",
       "      <td>4.63</td>\n",
       "      <td>4.70</td>\n",
       "    </tr>\n",
       "    <tr>\n",
       "      <th>3</th>\n",
       "      <td>1/7/2010</td>\n",
       "      <td>0.02</td>\n",
       "      <td>NaN</td>\n",
       "      <td>0.05</td>\n",
       "      <td>0.16</td>\n",
       "      <td>0.40</td>\n",
       "      <td>1.03</td>\n",
       "      <td>1.62</td>\n",
       "      <td>2.62</td>\n",
       "      <td>3.33</td>\n",
       "      <td>3.85</td>\n",
       "      <td>4.62</td>\n",
       "      <td>4.69</td>\n",
       "    </tr>\n",
       "    <tr>\n",
       "      <th>4</th>\n",
       "      <td>1/8/2010</td>\n",
       "      <td>0.02</td>\n",
       "      <td>NaN</td>\n",
       "      <td>0.05</td>\n",
       "      <td>0.15</td>\n",
       "      <td>0.37</td>\n",
       "      <td>0.96</td>\n",
       "      <td>1.56</td>\n",
       "      <td>2.57</td>\n",
       "      <td>3.31</td>\n",
       "      <td>3.83</td>\n",
       "      <td>4.61</td>\n",
       "      <td>4.70</td>\n",
       "    </tr>\n",
       "  </tbody>\n",
       "</table>\n",
       "</div>"
      ],
      "text/plain": [
       "       Date  1 Mo  2 Mo  3 Mo  6 Mo  1 Yr  2 Yr  3 Yr  5 Yr  7 Yr  10 Yr  \\\n",
       "0  1/4/2010  0.05   NaN  0.08  0.18  0.45  1.09  1.66  2.65  3.36   3.85   \n",
       "1  1/5/2010  0.03   NaN  0.07  0.17  0.41  1.01  1.57  2.56  3.28   3.77   \n",
       "2  1/6/2010  0.03   NaN  0.06  0.15  0.40  1.01  1.60  2.60  3.33   3.85   \n",
       "3  1/7/2010  0.02   NaN  0.05  0.16  0.40  1.03  1.62  2.62  3.33   3.85   \n",
       "4  1/8/2010  0.02   NaN  0.05  0.15  0.37  0.96  1.56  2.57  3.31   3.83   \n",
       "\n",
       "   20 Yr  30 Yr  \n",
       "0   4.60   4.65  \n",
       "1   4.54   4.59  \n",
       "2   4.63   4.70  \n",
       "3   4.62   4.69  \n",
       "4   4.61   4.70  "
      ]
     },
     "execution_count": 431,
     "metadata": {},
     "output_type": "execute_result"
    }
   ],
   "source": [
    "df_all_predicting.head()"
   ]
  },
  {
   "cell_type": "code",
   "execution_count": 432,
   "metadata": {},
   "outputs": [],
   "source": [
    "df_all_predicting = df_all_predicting.iloc[:,5:6]"
   ]
  },
  {
   "cell_type": "code",
   "execution_count": 433,
   "metadata": {},
   "outputs": [
    {
     "data": {
      "text/html": [
       "<div>\n",
       "<style scoped>\n",
       "    .dataframe tbody tr th:only-of-type {\n",
       "        vertical-align: middle;\n",
       "    }\n",
       "\n",
       "    .dataframe tbody tr th {\n",
       "        vertical-align: top;\n",
       "    }\n",
       "\n",
       "    .dataframe thead th {\n",
       "        text-align: right;\n",
       "    }\n",
       "</style>\n",
       "<table border=\"1\" class=\"dataframe\">\n",
       "  <thead>\n",
       "    <tr style=\"text-align: right;\">\n",
       "      <th></th>\n",
       "      <th>1 Yr</th>\n",
       "    </tr>\n",
       "  </thead>\n",
       "  <tbody>\n",
       "    <tr>\n",
       "      <th>0</th>\n",
       "      <td>0.45</td>\n",
       "    </tr>\n",
       "    <tr>\n",
       "      <th>1</th>\n",
       "      <td>0.41</td>\n",
       "    </tr>\n",
       "    <tr>\n",
       "      <th>2</th>\n",
       "      <td>0.40</td>\n",
       "    </tr>\n",
       "    <tr>\n",
       "      <th>3</th>\n",
       "      <td>0.40</td>\n",
       "    </tr>\n",
       "    <tr>\n",
       "      <th>4</th>\n",
       "      <td>0.37</td>\n",
       "    </tr>\n",
       "    <tr>\n",
       "      <th>...</th>\n",
       "      <td>...</td>\n",
       "    </tr>\n",
       "    <tr>\n",
       "      <th>247</th>\n",
       "      <td>0.32</td>\n",
       "    </tr>\n",
       "    <tr>\n",
       "      <th>248</th>\n",
       "      <td>0.31</td>\n",
       "    </tr>\n",
       "    <tr>\n",
       "      <th>249</th>\n",
       "      <td>0.30</td>\n",
       "    </tr>\n",
       "    <tr>\n",
       "      <th>250</th>\n",
       "      <td>0.29</td>\n",
       "    </tr>\n",
       "    <tr>\n",
       "      <th>251</th>\n",
       "      <td>0.29</td>\n",
       "    </tr>\n",
       "  </tbody>\n",
       "</table>\n",
       "<p>252 rows × 1 columns</p>\n",
       "</div>"
      ],
      "text/plain": [
       "     1 Yr\n",
       "0    0.45\n",
       "1    0.41\n",
       "2    0.40\n",
       "3    0.40\n",
       "4    0.37\n",
       "..    ...\n",
       "247  0.32\n",
       "248  0.31\n",
       "249  0.30\n",
       "250  0.29\n",
       "251  0.29\n",
       "\n",
       "[252 rows x 1 columns]"
      ]
     },
     "execution_count": 433,
     "metadata": {},
     "output_type": "execute_result"
    }
   ],
   "source": [
    "df_all_predicting"
   ]
  },
  {
   "cell_type": "code",
   "execution_count": 434,
   "metadata": {},
   "outputs": [
    {
     "data": {
      "text/plain": [
       "<matplotlib.axes._subplots.AxesSubplot at 0xefba27e400>"
      ]
     },
     "execution_count": 434,
     "metadata": {},
     "output_type": "execute_result"
    },
    {
     "data": {
      "image/png": "[encoded data removed]",
      "text/plain": [
       "<matplotlib.figure.Figure at 0xefba274da0>"
      ]
     },
     "metadata": {
      "needs_background": "light"
     },
     "output_type": "display_data"
    }
   ],
   "source": [
    "df_all_predicting.plot()"
   ]
  },
  {
   "cell_type": "code",
   "execution_count": 435,
   "metadata": {},
   "outputs": [
    {
     "data": {
      "text/plain": [
       "array([1.29505204, 1.29600937, 1.29750639, 1.29967754, 1.3025489 ,\n",
       "       1.30608096, 1.31016077, 1.3146353 , 1.31935395, 1.32418311,\n",
       "       1.32892137, 1.3334446 , 1.33768886, 1.34162869, 1.34526321,\n",
       "       1.34860003, 1.3516474 , 1.35441681, 1.35692423, 1.35917504,\n",
       "       1.36117736, 1.36295579, 1.36453104, 1.36592548, 1.36716159,\n",
       "       1.36825946, 1.36923671, 1.37010844, 1.37088714, 1.37158392,\n",
       "       1.37221428, 1.37278694, 1.37330753, 1.37377942, 1.37420648,\n",
       "       1.37459208, 1.37493973, 1.37525265, 1.37553387, 1.37578648,\n",
       "       1.376013  , 1.37621591, 1.37639748, 1.37656069, 1.37670716,\n",
       "       1.37683828, 1.3769559 , 1.37706092, 1.37715483, 1.37723886,\n",
       "       1.37731441, 1.37738234, 1.37744315, 1.37749735, 1.37754567,\n",
       "       1.37758925, 1.37762784, 1.37766218, 1.37769302, 1.37772062,\n",
       "       1.37774522, 1.37775983, 1.37777319, 1.3777853 , 1.37779617,\n",
       "       1.37780603, 1.37781477, 1.37782276, 1.37782988, 1.37783637,\n",
       "       1.37784199, 1.37784724, 1.37785173, 1.37785585, 1.37785948,\n",
       "       1.37786272, 1.37786559, 1.37786809, 1.37787034, 1.37787246,\n",
       "       1.37787421, 1.37787571, 1.37787721, 1.37787846, 1.37787958,\n",
       "       1.3778807 , 1.37788145, 1.3778822 , 1.37788295, 1.37788358,\n",
       "       1.37788408, 1.3778847 , 1.37788495, 1.37788545, 1.3778857 ,\n",
       "       1.37788607, 1.37788632, 1.37788657, 1.37788682, 1.37788695,\n",
       "       1.3778872 , 1.37788732, 1.37788745, 1.37788745, 1.3778877 ,\n",
       "       1.3778877 , 1.37788782, 1.37788795, 1.37788795, 1.37788807,\n",
       "       1.37788807, 1.37788807, 1.3778882 , 1.3778882 , 1.3778882 ,\n",
       "       1.3778882 , 1.3778882 , 1.37788832, 1.37788832, 1.37788832,\n",
       "       1.37788832, 1.37788832, 1.37788832, 1.37788832, 1.37788845,\n",
       "       1.37788845, 1.37788832, 1.37788845, 1.37788845, 1.37788832,\n",
       "       1.37788832, 1.37788845, 1.37788845, 1.37788845, 1.37788845,\n",
       "       1.37788845, 1.37788845, 1.37788845, 1.37788845, 1.37788845,\n",
       "       1.37788845, 1.37788845, 1.37788845, 1.37788845, 1.37788845,\n",
       "       1.37788845, 1.37788845, 1.37788845, 1.37788845, 1.37788845,\n",
       "       1.37788845, 1.37788845, 1.37788845, 1.37788845, 1.37788845,\n",
       "       1.37788845, 1.37788845, 1.37788845, 1.37788845, 1.37788845,\n",
       "       1.37788845, 1.37788845, 1.37788845, 1.37788845, 1.37788845,\n",
       "       1.37788845, 1.37788845, 1.37788845, 1.37788845, 1.37788845,\n",
       "       1.37788845, 1.37788845, 1.37788845, 1.37788845, 1.37788845,\n",
       "       1.37788845, 1.37788845, 1.37788845, 1.37788845, 1.37788845,\n",
       "       1.37788845, 1.37788845, 1.37788845, 1.37788845, 1.37788845,\n",
       "       1.37788845, 1.37788845, 1.37788845, 1.37788845, 1.37788845,\n",
       "       1.37788845, 1.37788845, 1.37788845, 1.37788845, 1.37788845,\n",
       "       1.37788845, 1.37788845, 1.37788845, 1.37788845, 1.37788845,\n",
       "       1.37788845, 1.37788845, 1.37788845, 1.37788845, 1.37788845,\n",
       "       1.37788845, 1.37788845, 1.37788845, 1.37788845, 1.37788845,\n",
       "       1.37788845, 1.37788845, 1.37788845, 1.37788845, 1.37788845,\n",
       "       1.37788845, 1.37788845, 1.37788845, 1.37788845, 1.37788845,\n",
       "       1.37788845, 1.37788845, 1.37788845, 1.37788845, 1.37788845,\n",
       "       1.37788845, 1.37788845, 1.37788845, 1.37788845, 1.37788845,\n",
       "       1.37788845, 1.37788845, 1.37788845, 1.37788845, 1.37788845,\n",
       "       1.37788845, 1.37788845, 1.37788845, 1.37788845, 1.37788845,\n",
       "       1.37788845, 1.37788845, 1.37788845, 1.37788845, 1.37788845,\n",
       "       1.37788845, 1.37788845, 1.37788845, 1.37788845, 1.37788845,\n",
       "       1.37788845, 1.37788845])"
      ]
     },
     "execution_count": 435,
     "metadata": {},
     "output_type": "execute_result"
    }
   ],
   "source": [
    "forecast_df['Forecast'].values"
   ]
  },
  {
   "cell_type": "code",
   "execution_count": 436,
   "metadata": {},
   "outputs": [
    {
     "data": {
      "text/plain": [
       "<matplotlib.axes._subplots.AxesSubplot at 0xefb41c4a58>"
      ]
     },
     "execution_count": 436,
     "metadata": {},
     "output_type": "execute_result"
    },
    {
     "data": {
      "image/png": "[encoded data removed]",
      "text/plain": [
       "<matplotlib.figure.Figure at 0xefba2cdc50>"
      ]
     },
     "metadata": {
      "needs_background": "light"
     },
     "output_type": "display_data"
    }
   ],
   "source": [
    "df_all_predicting['Forecast'] = forecast_df['Forecast'].values\n",
    "df_all_predicting.plot()"
   ]
  }
 ],
 "metadata": {
  "kernelspec": {
   "display_name": "Python 3",
   "language": "python",
   "name": "python3"
  },
  "language_info": {
   "codemirror_mode": {
    "name": "ipython",
    "version": 3
   },
   "file_extension": ".py",
   "mimetype": "text/x-python",
   "name": "python",
   "nbconvert_exporter": "python",
   "pygments_lexer": "ipython3",
   "version": "3.6.4"
  }
 },
 "nbformat": 4,
 "nbformat_minor": 2
}
