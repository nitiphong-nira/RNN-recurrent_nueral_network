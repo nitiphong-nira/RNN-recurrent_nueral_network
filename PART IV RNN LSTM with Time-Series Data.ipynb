{
 "cells": [
  {
   "cell_type": "markdown",
   "metadata": {},
   "source": [
    "NOTES It can be the data set chosen to be the solution to PART I or a different one. Design the network:"
   ]
  },
  {
   "cell_type": "markdown",
   "metadata": {},
   "source": [
    "The student should decide the values of relevant parameters : \n",
    "1. Percentage of data for testing\n",
    "2. How many layers of LSTM?\n",
    "3. Number of neurons in each LSTM  layer?\n",
    "4. Any DropOut layer? \n",
    "5. If with DropOut layer: the percentage to drop\n",
    "6. Length of the time-series input sequence\n",
    "7. Batch size for training (NOTES : Batch size for testing and forecasting must be ONE)\n",
    "8. Number of epochs for training "
   ]
  },
  {
   "cell_type": "code",
   "execution_count": 1,
   "metadata": {},
   "outputs": [],
   "source": [
    "import pandas as pd\n",
    "from pandas import read_csv\n",
    "import numpy as np\n",
    "%matplotlib inline\n",
    "import matplotlib.pyplot as plt\n",
    "\n",
    "import warnings\n",
    "warnings.filterwarnings('ignore')"
   ]
  },
  {
   "cell_type": "code",
   "execution_count": 2,
   "metadata": {},
   "outputs": [],
   "source": [
    "from tensorflow.keras.models import Sequential\n",
    "#sequential data reader\n",
    "\n",
    "from tensorflow.keras.layers import LSTM\n",
    "#Long short term memory\n",
    "\n",
    "from tensorflow.keras.layers import Dropout\n",
    "from tensorflow.keras.layers import Dense\n",
    "#Dense is a fully connected layer or FFNN(feedforward neural network).\n"
   ]
  },
  {
   "cell_type": "code",
   "execution_count": 3,
   "metadata": {},
   "outputs": [],
   "source": [
    "from tensorflow.keras.preprocessing.sequence import TimeseriesGenerator\n",
    "from sklearn.preprocessing import MinMaxScaler"
   ]
  },
  {
   "cell_type": "markdown",
   "metadata": {},
   "source": [
    "### Data Set: Treasury interest yield (1/2/1990-12/30/2009)\n",
    "https://www.treasury.gov/resource-center/data-chart-center/interest-rates/Pages/TextView.aspx?data=yieldAll"
   ]
  },
  {
   "cell_type": "code",
   "execution_count": 4,
   "metadata": {},
   "outputs": [
    {
     "data": {
      "text/html": [
       "<div>\n",
       "<style scoped>\n",
       "    .dataframe tbody tr th:only-of-type {\n",
       "        vertical-align: middle;\n",
       "    }\n",
       "\n",
       "    .dataframe tbody tr th {\n",
       "        vertical-align: top;\n",
       "    }\n",
       "\n",
       "    .dataframe thead th {\n",
       "        text-align: right;\n",
       "    }\n",
       "</style>\n",
       "<table border=\"1\" class=\"dataframe\">\n",
       "  <thead>\n",
       "    <tr style=\"text-align: right;\">\n",
       "      <th></th>\n",
       "      <th>Date</th>\n",
       "      <th>1 Mo</th>\n",
       "      <th>2 Mo</th>\n",
       "      <th>3 Mo</th>\n",
       "      <th>6 Mo</th>\n",
       "      <th>1 Yr</th>\n",
       "      <th>2 Yr</th>\n",
       "      <th>3 Yr</th>\n",
       "      <th>5 Yr</th>\n",
       "      <th>7 Yr</th>\n",
       "      <th>10 Yr</th>\n",
       "      <th>20 Yr</th>\n",
       "      <th>30 Yr</th>\n",
       "    </tr>\n",
       "  </thead>\n",
       "  <tbody>\n",
       "    <tr>\n",
       "      <th>4999</th>\n",
       "      <td>12/24/2009</td>\n",
       "      <td>0.02</td>\n",
       "      <td>NaN</td>\n",
       "      <td>0.05</td>\n",
       "      <td>0.18</td>\n",
       "      <td>0.43</td>\n",
       "      <td>1.00</td>\n",
       "      <td>1.56</td>\n",
       "      <td>2.57</td>\n",
       "      <td>3.32</td>\n",
       "      <td>3.82</td>\n",
       "      <td>4.60</td>\n",
       "      <td>4.68</td>\n",
       "    </tr>\n",
       "    <tr>\n",
       "      <th>5000</th>\n",
       "      <td>12/28/2009</td>\n",
       "      <td>0.03</td>\n",
       "      <td>NaN</td>\n",
       "      <td>0.11</td>\n",
       "      <td>0.20</td>\n",
       "      <td>0.47</td>\n",
       "      <td>1.09</td>\n",
       "      <td>1.63</td>\n",
       "      <td>2.62</td>\n",
       "      <td>3.34</td>\n",
       "      <td>3.85</td>\n",
       "      <td>4.61</td>\n",
       "      <td>4.69</td>\n",
       "    </tr>\n",
       "    <tr>\n",
       "      <th>5001</th>\n",
       "      <td>12/29/2009</td>\n",
       "      <td>0.02</td>\n",
       "      <td>NaN</td>\n",
       "      <td>0.10</td>\n",
       "      <td>0.20</td>\n",
       "      <td>0.47</td>\n",
       "      <td>1.09</td>\n",
       "      <td>1.64</td>\n",
       "      <td>2.62</td>\n",
       "      <td>3.33</td>\n",
       "      <td>3.82</td>\n",
       "      <td>4.57</td>\n",
       "      <td>4.64</td>\n",
       "    </tr>\n",
       "    <tr>\n",
       "      <th>5002</th>\n",
       "      <td>12/30/2009</td>\n",
       "      <td>0.02</td>\n",
       "      <td>NaN</td>\n",
       "      <td>0.05</td>\n",
       "      <td>0.19</td>\n",
       "      <td>0.45</td>\n",
       "      <td>1.08</td>\n",
       "      <td>1.65</td>\n",
       "      <td>2.61</td>\n",
       "      <td>3.34</td>\n",
       "      <td>3.80</td>\n",
       "      <td>4.54</td>\n",
       "      <td>4.61</td>\n",
       "    </tr>\n",
       "    <tr>\n",
       "      <th>5003</th>\n",
       "      <td>12/31/2009</td>\n",
       "      <td>0.04</td>\n",
       "      <td>NaN</td>\n",
       "      <td>0.06</td>\n",
       "      <td>0.20</td>\n",
       "      <td>0.47</td>\n",
       "      <td>1.14</td>\n",
       "      <td>1.70</td>\n",
       "      <td>2.69</td>\n",
       "      <td>3.39</td>\n",
       "      <td>3.85</td>\n",
       "      <td>4.58</td>\n",
       "      <td>4.63</td>\n",
       "    </tr>\n",
       "  </tbody>\n",
       "</table>\n",
       "</div>"
      ],
      "text/plain": [
       "            Date  1 Mo  2 Mo  3 Mo  6 Mo  1 Yr  2 Yr  3 Yr  5 Yr  7 Yr  10 Yr  \\\n",
       "4999  12/24/2009  0.02   NaN  0.05  0.18  0.43  1.00  1.56  2.57  3.32   3.82   \n",
       "5000  12/28/2009  0.03   NaN  0.11  0.20  0.47  1.09  1.63  2.62  3.34   3.85   \n",
       "5001  12/29/2009  0.02   NaN  0.10  0.20  0.47  1.09  1.64  2.62  3.33   3.82   \n",
       "5002  12/30/2009  0.02   NaN  0.05  0.19  0.45  1.08  1.65  2.61  3.34   3.80   \n",
       "5003  12/31/2009  0.04   NaN  0.06  0.20  0.47  1.14  1.70  2.69  3.39   3.85   \n",
       "\n",
       "      20 Yr  30 Yr  \n",
       "4999   4.60   4.68  \n",
       "5000   4.61   4.69  \n",
       "5001   4.57   4.64  \n",
       "5002   4.54   4.61  \n",
       "5003   4.58   4.63  "
      ]
     },
     "execution_count": 4,
     "metadata": {},
     "output_type": "execute_result"
    }
   ],
   "source": [
    "df_all = pd.read_csv(\"1990.csv\")\n",
    "df_all.tail(5)\n",
    "#Adj close = the closing price excluded dividend and split effect"
   ]
  },
  {
   "cell_type": "code",
   "execution_count": 5,
   "metadata": {},
   "outputs": [
    {
     "data": {
      "text/plain": [
       "(5004, 13)"
      ]
     },
     "execution_count": 5,
     "metadata": {},
     "output_type": "execute_result"
    }
   ],
   "source": [
    "df_all.shape"
   ]
  },
  {
   "cell_type": "code",
   "execution_count": 296,
   "metadata": {},
   "outputs": [
    {
     "data": {
      "text/plain": [
       "Date      object\n",
       "1 Mo     float64\n",
       "2 Mo     float64\n",
       "3 Mo     float64\n",
       "6 Mo     float64\n",
       "1 Yr     float64\n",
       "2 Yr     float64\n",
       "3 Yr     float64\n",
       "5 Yr     float64\n",
       "7 Yr     float64\n",
       "10 Yr    float64\n",
       "20 Yr    float64\n",
       "30 Yr    float64\n",
       "dtype: object"
      ]
     },
     "execution_count": 296,
     "metadata": {},
     "output_type": "execute_result"
    }
   ],
   "source": [
    "df_all.dtypes"
   ]
  },
  {
   "cell_type": "code",
   "execution_count": 297,
   "metadata": {},
   "outputs": [
    {
     "data": {
      "text/html": [
       "<div>\n",
       "<style scoped>\n",
       "    .dataframe tbody tr th:only-of-type {\n",
       "        vertical-align: middle;\n",
       "    }\n",
       "\n",
       "    .dataframe tbody tr th {\n",
       "        vertical-align: top;\n",
       "    }\n",
       "\n",
       "    .dataframe thead th {\n",
       "        text-align: right;\n",
       "    }\n",
       "</style>\n",
       "<table border=\"1\" class=\"dataframe\">\n",
       "  <thead>\n",
       "    <tr style=\"text-align: right;\">\n",
       "      <th></th>\n",
       "      <th>1 Mo</th>\n",
       "      <th>2 Mo</th>\n",
       "      <th>3 Mo</th>\n",
       "      <th>6 Mo</th>\n",
       "      <th>1 Yr</th>\n",
       "      <th>2 Yr</th>\n",
       "      <th>3 Yr</th>\n",
       "      <th>5 Yr</th>\n",
       "      <th>7 Yr</th>\n",
       "      <th>10 Yr</th>\n",
       "      <th>20 Yr</th>\n",
       "      <th>30 Yr</th>\n",
       "    </tr>\n",
       "  </thead>\n",
       "  <tbody>\n",
       "    <tr>\n",
       "      <th>count</th>\n",
       "      <td>2105.000000</td>\n",
       "      <td>0.0</td>\n",
       "      <td>5001.000000</td>\n",
       "      <td>5004.000000</td>\n",
       "      <td>5004.000000</td>\n",
       "      <td>5004.000000</td>\n",
       "      <td>5004.000000</td>\n",
       "      <td>5004.000000</td>\n",
       "      <td>5004.000000</td>\n",
       "      <td>5004.000000</td>\n",
       "      <td>4065.000000</td>\n",
       "      <td>4010.000000</td>\n",
       "    </tr>\n",
       "    <tr>\n",
       "      <th>mean</th>\n",
       "      <td>2.198304</td>\n",
       "      <td>NaN</td>\n",
       "      <td>3.881428</td>\n",
       "      <td>4.040923</td>\n",
       "      <td>4.187534</td>\n",
       "      <td>4.537030</td>\n",
       "      <td>4.754820</td>\n",
       "      <td>5.120602</td>\n",
       "      <td>5.384616</td>\n",
       "      <td>5.562682</td>\n",
       "      <td>5.646809</td>\n",
       "      <td>6.224519</td>\n",
       "    </tr>\n",
       "    <tr>\n",
       "      <th>std</th>\n",
       "      <td>1.618567</td>\n",
       "      <td>NaN</td>\n",
       "      <td>1.967405</td>\n",
       "      <td>1.974862</td>\n",
       "      <td>1.936733</td>\n",
       "      <td>1.895358</td>\n",
       "      <td>1.804245</td>\n",
       "      <td>1.644626</td>\n",
       "      <td>1.549959</td>\n",
       "      <td>1.447799</td>\n",
       "      <td>1.027790</td>\n",
       "      <td>1.341930</td>\n",
       "    </tr>\n",
       "    <tr>\n",
       "      <th>min</th>\n",
       "      <td>0.000000</td>\n",
       "      <td>NaN</td>\n",
       "      <td>0.010000</td>\n",
       "      <td>0.130000</td>\n",
       "      <td>0.260000</td>\n",
       "      <td>0.650000</td>\n",
       "      <td>0.880000</td>\n",
       "      <td>1.260000</td>\n",
       "      <td>1.590000</td>\n",
       "      <td>2.080000</td>\n",
       "      <td>2.860000</td>\n",
       "      <td>2.530000</td>\n",
       "    </tr>\n",
       "    <tr>\n",
       "      <th>25%</th>\n",
       "      <td>0.950000</td>\n",
       "      <td>NaN</td>\n",
       "      <td>2.210000</td>\n",
       "      <td>2.290000</td>\n",
       "      <td>2.547500</td>\n",
       "      <td>3.120000</td>\n",
       "      <td>3.460000</td>\n",
       "      <td>3.910000</td>\n",
       "      <td>4.150000</td>\n",
       "      <td>4.410000</td>\n",
       "      <td>4.840000</td>\n",
       "      <td>5.180000</td>\n",
       "    </tr>\n",
       "    <tr>\n",
       "      <th>50%</th>\n",
       "      <td>1.730000</td>\n",
       "      <td>NaN</td>\n",
       "      <td>4.440000</td>\n",
       "      <td>4.560000</td>\n",
       "      <td>4.650000</td>\n",
       "      <td>4.750000</td>\n",
       "      <td>4.805000</td>\n",
       "      <td>5.100000</td>\n",
       "      <td>5.390000</td>\n",
       "      <td>5.440000</td>\n",
       "      <td>5.520000</td>\n",
       "      <td>6.130000</td>\n",
       "    </tr>\n",
       "    <tr>\n",
       "      <th>75%</th>\n",
       "      <td>3.520000</td>\n",
       "      <td>NaN</td>\n",
       "      <td>5.200000</td>\n",
       "      <td>5.360000</td>\n",
       "      <td>5.560000</td>\n",
       "      <td>5.910000</td>\n",
       "      <td>6.040000</td>\n",
       "      <td>6.280000</td>\n",
       "      <td>6.450000</td>\n",
       "      <td>6.560000</td>\n",
       "      <td>6.420000</td>\n",
       "      <td>7.310000</td>\n",
       "    </tr>\n",
       "    <tr>\n",
       "      <th>max</th>\n",
       "      <td>5.270000</td>\n",
       "      <td>NaN</td>\n",
       "      <td>8.260000</td>\n",
       "      <td>8.490000</td>\n",
       "      <td>8.640000</td>\n",
       "      <td>9.050000</td>\n",
       "      <td>9.110000</td>\n",
       "      <td>9.100000</td>\n",
       "      <td>9.120000</td>\n",
       "      <td>9.090000</td>\n",
       "      <td>8.300000</td>\n",
       "      <td>9.180000</td>\n",
       "    </tr>\n",
       "  </tbody>\n",
       "</table>\n",
       "</div>"
      ],
      "text/plain": [
       "              1 Mo  2 Mo         3 Mo         6 Mo         1 Yr         2 Yr  \\\n",
       "count  2105.000000   0.0  5001.000000  5004.000000  5004.000000  5004.000000   \n",
       "mean      2.198304   NaN     3.881428     4.040923     4.187534     4.537030   \n",
       "std       1.618567   NaN     1.967405     1.974862     1.936733     1.895358   \n",
       "min       0.000000   NaN     0.010000     0.130000     0.260000     0.650000   \n",
       "25%       0.950000   NaN     2.210000     2.290000     2.547500     3.120000   \n",
       "50%       1.730000   NaN     4.440000     4.560000     4.650000     4.750000   \n",
       "75%       3.520000   NaN     5.200000     5.360000     5.560000     5.910000   \n",
       "max       5.270000   NaN     8.260000     8.490000     8.640000     9.050000   \n",
       "\n",
       "              3 Yr         5 Yr         7 Yr        10 Yr        20 Yr  \\\n",
       "count  5004.000000  5004.000000  5004.000000  5004.000000  4065.000000   \n",
       "mean      4.754820     5.120602     5.384616     5.562682     5.646809   \n",
       "std       1.804245     1.644626     1.549959     1.447799     1.027790   \n",
       "min       0.880000     1.260000     1.590000     2.080000     2.860000   \n",
       "25%       3.460000     3.910000     4.150000     4.410000     4.840000   \n",
       "50%       4.805000     5.100000     5.390000     5.440000     5.520000   \n",
       "75%       6.040000     6.280000     6.450000     6.560000     6.420000   \n",
       "max       9.110000     9.100000     9.120000     9.090000     8.300000   \n",
       "\n",
       "             30 Yr  \n",
       "count  4010.000000  \n",
       "mean      6.224519  \n",
       "std       1.341930  \n",
       "min       2.530000  \n",
       "25%       5.180000  \n",
       "50%       6.130000  \n",
       "75%       7.310000  \n",
       "max       9.180000  "
      ]
     },
     "execution_count": 297,
     "metadata": {},
     "output_type": "execute_result"
    }
   ],
   "source": [
    "df_all.describe()"
   ]
  },
  {
   "cell_type": "markdown",
   "metadata": {},
   "source": [
    "### Keep Only 1 Year Treasury bond yield and Filter Our All Other Attributes\n",
    "This project focus on the 1 year treasury bond yield because this dataset has no na."
   ]
  },
  {
   "cell_type": "code",
   "execution_count": 298,
   "metadata": {},
   "outputs": [
    {
     "data": {
      "text/html": [
       "<div>\n",
       "<style scoped>\n",
       "    .dataframe tbody tr th:only-of-type {\n",
       "        vertical-align: middle;\n",
       "    }\n",
       "\n",
       "    .dataframe tbody tr th {\n",
       "        vertical-align: top;\n",
       "    }\n",
       "\n",
       "    .dataframe thead th {\n",
       "        text-align: right;\n",
       "    }\n",
       "</style>\n",
       "<table border=\"1\" class=\"dataframe\">\n",
       "  <thead>\n",
       "    <tr style=\"text-align: right;\">\n",
       "      <th></th>\n",
       "      <th>1 Yr</th>\n",
       "    </tr>\n",
       "  </thead>\n",
       "  <tbody>\n",
       "    <tr>\n",
       "      <th>0</th>\n",
       "      <td>7.81</td>\n",
       "    </tr>\n",
       "    <tr>\n",
       "      <th>1</th>\n",
       "      <td>7.85</td>\n",
       "    </tr>\n",
       "    <tr>\n",
       "      <th>2</th>\n",
       "      <td>7.82</td>\n",
       "    </tr>\n",
       "    <tr>\n",
       "      <th>3</th>\n",
       "      <td>7.79</td>\n",
       "    </tr>\n",
       "    <tr>\n",
       "      <th>4</th>\n",
       "      <td>7.81</td>\n",
       "    </tr>\n",
       "  </tbody>\n",
       "</table>\n",
       "</div>"
      ],
      "text/plain": [
       "   1 Yr\n",
       "0  7.81\n",
       "1  7.85\n",
       "2  7.82\n",
       "3  7.79\n",
       "4  7.81"
      ]
     },
     "execution_count": 298,
     "metadata": {},
     "output_type": "execute_result"
    }
   ],
   "source": [
    "df = df_all.iloc[:,5:6]\n",
    "# this will take only 1Yr to store at df\n",
    "df.head()"
   ]
  },
  {
   "cell_type": "code",
   "execution_count": 299,
   "metadata": {},
   "outputs": [
    {
     "data": {
      "text/plain": [
       "<matplotlib.axes._subplots.AxesSubplot at 0xefadd203c8>"
      ]
     },
     "execution_count": 299,
     "metadata": {},
     "output_type": "execute_result"
    },
    {
     "data": {
      "image/png": "[encoded data removed]",
      "text/plain": [
       "<matplotlib.figure.Figure at 0xefa6612dd8>"
      ]
     },
     "metadata": {
      "needs_background": "light"
     },
     "output_type": "display_data"
    }
   ],
   "source": [
    "df.plot(figsize=(12,8))"
   ]
  },
  {
   "cell_type": "markdown",
   "metadata": {},
   "source": [
    "### Lenght of Input Time Series - Number of input Time Steps"
   ]
  },
  {
   "cell_type": "code",
   "execution_count": 300,
   "metadata": {},
   "outputs": [],
   "source": [
    "#Set the Lenght of the input sequence\n",
    "length60 = 60"
   ]
  },
  {
   "cell_type": "markdown",
   "metadata": {},
   "source": [
    "### Time series Dataset: Train/ test split"
   ]
  },
  {
   "cell_type": "code",
   "execution_count": 301,
   "metadata": {},
   "outputs": [
    {
     "data": {
      "text/plain": [
       "5004"
      ]
     },
     "execution_count": 301,
     "metadata": {},
     "output_type": "execute_result"
    }
   ],
   "source": [
    "len(df)"
   ]
  },
  {
   "cell_type": "code",
   "execution_count": 302,
   "metadata": {},
   "outputs": [],
   "source": [
    "# set percentage of data used for testing\n",
    "test_percent = 0.3\n",
    "#30% of dataset is for testing"
   ]
  },
  {
   "cell_type": "code",
   "execution_count": 271,
   "metadata": {},
   "outputs": [
    {
     "data": {
      "text/plain": [
       "1501.0"
      ]
     },
     "execution_count": 271,
     "metadata": {},
     "output_type": "execute_result"
    }
   ],
   "source": [
    "test_length = np.round(len(df)*test_percent)\n",
    "test_length\n",
    "#The test data points is "
   ]
  },
  {
   "cell_type": "code",
   "execution_count": 272,
   "metadata": {},
   "outputs": [
    {
     "data": {
      "text/plain": [
       "3503"
      ]
     },
     "execution_count": 272,
     "metadata": {},
     "output_type": "execute_result"
    }
   ],
   "source": [
    "#testing dataset starts at the index\n",
    "split_index = int(len(df)-test_length)\n",
    "split_index"
   ]
  },
  {
   "cell_type": "code",
   "execution_count": 273,
   "metadata": {},
   "outputs": [],
   "source": [
    "data_train = df.iloc[:split_index]\n",
    "data_test = df.iloc[split_index - length60 :]\n",
    "#the last 60 data of the training dataset until the end of the data to test the model"
   ]
  },
  {
   "cell_type": "code",
   "execution_count": 274,
   "metadata": {},
   "outputs": [
    {
     "data": {
      "text/html": [
       "<div>\n",
       "<style scoped>\n",
       "    .dataframe tbody tr th:only-of-type {\n",
       "        vertical-align: middle;\n",
       "    }\n",
       "\n",
       "    .dataframe tbody tr th {\n",
       "        vertical-align: top;\n",
       "    }\n",
       "\n",
       "    .dataframe thead th {\n",
       "        text-align: right;\n",
       "    }\n",
       "</style>\n",
       "<table border=\"1\" class=\"dataframe\">\n",
       "  <thead>\n",
       "    <tr style=\"text-align: right;\">\n",
       "      <th></th>\n",
       "      <th>1 Yr</th>\n",
       "    </tr>\n",
       "  </thead>\n",
       "  <tbody>\n",
       "    <tr>\n",
       "      <th>0</th>\n",
       "      <td>7.81</td>\n",
       "    </tr>\n",
       "    <tr>\n",
       "      <th>1</th>\n",
       "      <td>7.85</td>\n",
       "    </tr>\n",
       "    <tr>\n",
       "      <th>2</th>\n",
       "      <td>7.82</td>\n",
       "    </tr>\n",
       "    <tr>\n",
       "      <th>3</th>\n",
       "      <td>7.79</td>\n",
       "    </tr>\n",
       "    <tr>\n",
       "      <th>4</th>\n",
       "      <td>7.81</td>\n",
       "    </tr>\n",
       "  </tbody>\n",
       "</table>\n",
       "</div>"
      ],
      "text/plain": [
       "   1 Yr\n",
       "0  7.81\n",
       "1  7.85\n",
       "2  7.82\n",
       "3  7.79\n",
       "4  7.81"
      ]
     },
     "execution_count": 274,
     "metadata": {},
     "output_type": "execute_result"
    }
   ],
   "source": [
    "data_train.head(5)"
   ]
  },
  {
   "cell_type": "code",
   "execution_count": 275,
   "metadata": {},
   "outputs": [
    {
     "data": {
      "text/html": [
       "<div>\n",
       "<style scoped>\n",
       "    .dataframe tbody tr th:only-of-type {\n",
       "        vertical-align: middle;\n",
       "    }\n",
       "\n",
       "    .dataframe tbody tr th {\n",
       "        vertical-align: top;\n",
       "    }\n",
       "\n",
       "    .dataframe thead th {\n",
       "        text-align: right;\n",
       "    }\n",
       "</style>\n",
       "<table border=\"1\" class=\"dataframe\">\n",
       "  <thead>\n",
       "    <tr style=\"text-align: right;\">\n",
       "      <th></th>\n",
       "      <th>1 Yr</th>\n",
       "    </tr>\n",
       "  </thead>\n",
       "  <tbody>\n",
       "    <tr>\n",
       "      <th>3443</th>\n",
       "      <td>1.15</td>\n",
       "    </tr>\n",
       "    <tr>\n",
       "      <th>3444</th>\n",
       "      <td>1.21</td>\n",
       "    </tr>\n",
       "    <tr>\n",
       "      <th>3445</th>\n",
       "      <td>1.21</td>\n",
       "    </tr>\n",
       "    <tr>\n",
       "      <th>3446</th>\n",
       "      <td>1.22</td>\n",
       "    </tr>\n",
       "    <tr>\n",
       "      <th>3447</th>\n",
       "      <td>1.21</td>\n",
       "    </tr>\n",
       "  </tbody>\n",
       "</table>\n",
       "</div>"
      ],
      "text/plain": [
       "      1 Yr\n",
       "3443  1.15\n",
       "3444  1.21\n",
       "3445  1.21\n",
       "3446  1.22\n",
       "3447  1.21"
      ]
     },
     "execution_count": 275,
     "metadata": {},
     "output_type": "execute_result"
    }
   ],
   "source": [
    "data_test.head(5)\n",
    "#3506 - 60 =  3446"
   ]
  },
  {
   "cell_type": "markdown",
   "metadata": {},
   "source": [
    "### Normaliza Data(Scale it into the range [0,1])"
   ]
  },
  {
   "cell_type": "code",
   "execution_count": 276,
   "metadata": {},
   "outputs": [],
   "source": [
    "scaler = MinMaxScaler()\n",
    "scaler.fit(data_train)\n",
    "normalized_train = scaler.transform(data_train)\n",
    "normalized_test = scaler.transform(data_test)\n",
    "#transform the value in normal[0,1]"
   ]
  },
  {
   "cell_type": "markdown",
   "metadata": {},
   "source": [
    "### Create TimeseriesGenerate for Training"
   ]
  },
  {
   "cell_type": "code",
   "execution_count": 277,
   "metadata": {},
   "outputs": [],
   "source": [
    "#Time series has 60 historical data point\n",
    "batch_size32 = 32\n",
    "\n",
    "\n",
    "train_tsGenerator60 = TimeseriesGenerator(normalized_train, normalized_train, length60, batch_size = batch_size32)\n",
    "#TimeseriesGenerator(input,outputs, length, batch_size)\n"
   ]
  },
  {
   "cell_type": "code",
   "execution_count": 278,
   "metadata": {},
   "outputs": [
    {
     "data": {
      "text/plain": [
       "3503"
      ]
     },
     "execution_count": 278,
     "metadata": {},
     "output_type": "execute_result"
    }
   ],
   "source": [
    "#This project generate times 3506 - 60 = 3406 \n",
    "len(normalized_train)"
   ]
  },
  {
   "cell_type": "code",
   "execution_count": 279,
   "metadata": {},
   "outputs": [
    {
     "data": {
      "text/plain": [
       "108"
      ]
     },
     "execution_count": 279,
     "metadata": {},
     "output_type": "execute_result"
    }
   ],
   "source": [
    "len(train_tsGenerator60)\n",
    "#batch generated by time series generator from 4204\n",
    "#last that left from generate sequnce processes\n",
    "#This project generate 3446 times = 3506 - 60 \n",
    "# 3446/32 each batch has 108 samples"
   ]
  },
  {
   "cell_type": "code",
   "execution_count": 280,
   "metadata": {},
   "outputs": [
    {
     "name": "stdout",
     "output_type": "stream",
     "text": [
      "[[[0.89304124]\n",
      "  [0.89819588]\n",
      "  [0.8943299 ]\n",
      "  ...\n",
      "  [0.95618557]\n",
      "  [0.96262887]\n",
      "  [0.96005155]]\n",
      "\n",
      " [[0.89819588]\n",
      "  [0.8943299 ]\n",
      "  [0.89046392]\n",
      "  ...\n",
      "  [0.96262887]\n",
      "  [0.96005155]\n",
      "  [0.96391753]]\n",
      "\n",
      " [[0.8943299 ]\n",
      "  [0.89046392]\n",
      "  [0.89304124]\n",
      "  ...\n",
      "  [0.96005155]\n",
      "  [0.96391753]\n",
      "  [0.96262887]]\n",
      "\n",
      " ...\n",
      "\n",
      " [[0.91108247]\n",
      "  [0.92139175]\n",
      "  [0.93170103]\n",
      "  ...\n",
      "  [0.9742268 ]\n",
      "  [0.96907216]\n",
      "  [0.96907216]]\n",
      "\n",
      " [[0.92139175]\n",
      "  [0.93170103]\n",
      "  [0.92912371]\n",
      "  ...\n",
      "  [0.96907216]\n",
      "  [0.96907216]\n",
      "  [0.96005155]]\n",
      "\n",
      " [[0.93170103]\n",
      "  [0.92912371]\n",
      "  [0.94845361]\n",
      "  ...\n",
      "  [0.96907216]\n",
      "  [0.96005155]\n",
      "  [0.94458763]]]\n"
     ]
    }
   ],
   "source": [
    "X,y = train_tsGenerator60[0]\n",
    "print(X)"
   ]
  },
  {
   "cell_type": "markdown",
   "metadata": {},
   "source": [
    "### Build Train and Test"
   ]
  },
  {
   "cell_type": "code",
   "execution_count": 281,
   "metadata": {},
   "outputs": [],
   "source": [
    "n_features = 1\n",
    "#feature has 1 preditor"
   ]
  },
  {
   "cell_type": "code",
   "execution_count": 282,
   "metadata": {},
   "outputs": [],
   "source": [
    "#define the model\n",
    "model = Sequential()\n",
    "\n",
    "model.add(LSTM(units=50, activation='relu',return_sequences=True, input_shape=(length60,n_features)))\n",
    "#return_sequences=True will return the value to next LSTM layer\n",
    "#input_shape=(length60,n_features) = input demension is 2 demensions.\n",
    "model.add(Dropout(0.2))\n",
    "#dropout 20% of the all data\n",
    "\n",
    "model.add(LSTM(units=50, activation='relu',return_sequences=True))\n",
    "#learning funciton to fullfill the dropped data.\n",
    "#return_sequences=True will return the value to next LSTM layer\n",
    "model.add(Dropout(0.2))\n",
    "\n",
    "model.add(LSTM(units=50, activation='relu'))\n",
    "#learning funciton to fullfill the dropped data.\n",
    "\n",
    "model.add(Dense(1))"
   ]
  },
  {
   "cell_type": "markdown",
   "metadata": {},
   "source": [
    "### Complie model"
   ]
  },
  {
   "cell_type": "code",
   "execution_count": 283,
   "metadata": {},
   "outputs": [
    {
     "name": "stdout",
     "output_type": "stream",
     "text": [
      "Model: \"sequential_5\"\n",
      "_________________________________________________________________\n",
      "Layer (type)                 Output Shape              Param #   \n",
      "=================================================================\n",
      "lstm_15 (LSTM)               (None, 60, 50)            10400     \n",
      "_________________________________________________________________\n",
      "dropout_10 (Dropout)         (None, 60, 50)            0         \n",
      "_________________________________________________________________\n",
      "lstm_16 (LSTM)               (None, 60, 50)            20200     \n",
      "_________________________________________________________________\n",
      "dropout_11 (Dropout)         (None, 60, 50)            0         \n",
      "_________________________________________________________________\n",
      "lstm_17 (LSTM)               (None, 50)                20200     \n",
      "_________________________________________________________________\n",
      "dense_5 (Dense)              (None, 1)                 51        \n",
      "=================================================================\n",
      "Total params: 50,851\n",
      "Trainable params: 50,851\n",
      "Non-trainable params: 0\n",
      "_________________________________________________________________\n"
     ]
    }
   ],
   "source": [
    "model.compile(optimizer = 'adam', loss ='mse')\n",
    "#complie Adaptive Moment Estimation (adam) and loss function to monitor the model\n",
    "\n",
    "model.summary()\n",
    "#summmarize the model"
   ]
  },
  {
   "cell_type": "markdown",
   "metadata": {},
   "source": [
    "### Train(Fit) model Using fit_generator()"
   ]
  },
  {
   "cell_type": "code",
   "execution_count": 284,
   "metadata": {},
   "outputs": [
    {
     "name": "stdout",
     "output_type": "stream",
     "text": [
      "Epoch 1/20\n",
      "108/108 [==============================] - 24s 223ms/step - loss: 0.0337\n",
      "Epoch 2/20\n",
      "108/108 [==============================] - 17s 160ms/step - loss: 0.0017\n",
      "Epoch 3/20\n",
      "108/108 [==============================] - 18s 163ms/step - loss: 0.0016\n",
      "Epoch 4/20\n",
      "108/108 [==============================] - 18s 163ms/step - loss: 0.0014\n",
      "Epoch 5/20\n",
      "108/108 [==============================] - 17s 162ms/step - loss: 0.0020\n",
      "Epoch 6/20\n",
      "108/108 [==============================] - 17s 160ms/step - loss: 0.0021\n",
      "Epoch 7/20\n",
      "108/108 [==============================] - 17s 160ms/step - loss: 0.0013\n",
      "Epoch 8/20\n",
      "108/108 [==============================] - 17s 160ms/step - loss: 0.0013\n",
      "Epoch 9/20\n",
      "108/108 [==============================] - 17s 161ms/step - loss: 9.3086e-04\n",
      "Epoch 10/20\n",
      "108/108 [==============================] - 18s 162ms/step - loss: 0.0012\n",
      "Epoch 11/20\n",
      "108/108 [==============================] - 17s 160ms/step - loss: 0.0014\n",
      "Epoch 12/20\n",
      "108/108 [==============================] - 17s 160ms/step - loss: 0.0019\n",
      "Epoch 13/20\n",
      "108/108 [==============================] - 17s 161ms/step - loss: 0.0014\n",
      "Epoch 14/20\n",
      "108/108 [==============================] - 18s 163ms/step - loss: 9.1741e-04\n",
      "Epoch 15/20\n",
      "108/108 [==============================] - 18s 162ms/step - loss: 9.8538e-04\n",
      "Epoch 16/20\n",
      "108/108 [==============================] - 18s 162ms/step - loss: 0.0013\n",
      "Epoch 17/20\n",
      "108/108 [==============================] - 18s 164ms/step - loss: 0.0013\n",
      "Epoch 18/20\n",
      "108/108 [==============================] - 18s 163ms/step - loss: 0.0017\n",
      "Epoch 19/20\n",
      "108/108 [==============================] - 18s 163ms/step - loss: 7.8120e-04\n",
      "Epoch 20/20\n",
      "108/108 [==============================] - 18s 164ms/step - loss: 9.1029e-04\n"
     ]
    },
    {
     "data": {
      "text/plain": [
       "<tensorflow.python.keras.callbacks.History at 0xefa761f860>"
      ]
     },
     "execution_count": 284,
     "metadata": {},
     "output_type": "execute_result"
    }
   ],
   "source": [
    "model.fit_generator(train_tsGenerator60, epochs=20)"
   ]
  },
  {
   "cell_type": "markdown",
   "metadata": {},
   "source": [
    "### Visualize the model"
   ]
  },
  {
   "cell_type": "code",
   "execution_count": 285,
   "metadata": {},
   "outputs": [
    {
     "data": {
      "text/plain": [
       "dict_keys(['loss'])"
      ]
     },
     "execution_count": 285,
     "metadata": {},
     "output_type": "execute_result"
    }
   ],
   "source": [
    "loss_history_keys = model.history.history.keys()\n",
    "\n",
    "loss_history_keys"
   ]
  },
  {
   "cell_type": "code",
   "execution_count": 286,
   "metadata": {},
   "outputs": [
    {
     "data": {
      "text/plain": [
       "<matplotlib.axes._subplots.AxesSubplot at 0xefa6f6eef0>"
      ]
     },
     "execution_count": 286,
     "metadata": {},
     "output_type": "execute_result"
    },
    {
     "data": {
      "image/png": "[encoded data removed]",
      "text/plain": [
       "<matplotlib.figure.Figure at 0xefadcd9208>"
      ]
     },
     "metadata": {
      "needs_background": "light"
     },
     "output_type": "display_data"
    }
   ],
   "source": [
    "df_model_loss = pd.DataFrame(model.history.history)\n",
    "\n",
    "df_model_loss.plot()"
   ]
  },
  {
   "cell_type": "markdown",
   "metadata": {},
   "source": [
    "### prediction for Testing: Using TimeseriesGenerator"
   ]
  },
  {
   "cell_type": "code",
   "execution_count": 287,
   "metadata": {},
   "outputs": [],
   "source": [
    "batch_size1 =1 \n",
    "# In a timeserise batch has 1 dataset\n",
    "\n",
    "test_tsGenerator60 = TimeseriesGenerator(normalized_test, normalized_test, length=length60, batch_size = batch_size1)\n",
    "#TimeseriesGenerator(input,outputs, length, batch_size)"
   ]
  },
  {
   "cell_type": "markdown",
   "metadata": {},
   "source": [
    "### Predict Future Data Points for Testing\n",
    "### Create TimeriesGenerator for Testing"
   ]
  },
  {
   "cell_type": "code",
   "execution_count": 288,
   "metadata": {},
   "outputs": [
    {
     "data": {
      "text/plain": [
       "array([[0.04337811],\n",
       "       [0.0433842 ],\n",
       "       [0.04340179],\n",
       "       ...,\n",
       "       [0.03833567],\n",
       "       [0.0383748 ],\n",
       "       [0.03841387]], dtype=float32)"
      ]
     },
     "execution_count": 288,
     "metadata": {},
     "output_type": "execute_result"
    }
   ],
   "source": [
    "normalized_prediction = model.predict_generator(test_tsGenerator60)\n",
    "# predict the time series\n",
    "normalized_prediction\n",
    "#1802 data point (predicted value)"
   ]
  },
  {
   "cell_type": "code",
   "execution_count": 303,
   "metadata": {},
   "outputs": [
    {
     "data": {
      "text/plain": [
       "1501"
      ]
     },
     "execution_count": 303,
     "metadata": {},
     "output_type": "execute_result"
    }
   ],
   "source": [
    "len(normalized_prediction)"
   ]
  },
  {
   "cell_type": "code",
   "execution_count": 304,
   "metadata": {},
   "outputs": [
    {
     "data": {
      "text/html": [
       "<div>\n",
       "<style scoped>\n",
       "    .dataframe tbody tr th:only-of-type {\n",
       "        vertical-align: middle;\n",
       "    }\n",
       "\n",
       "    .dataframe tbody tr th {\n",
       "        vertical-align: top;\n",
       "    }\n",
       "\n",
       "    .dataframe thead th {\n",
       "        text-align: right;\n",
       "    }\n",
       "</style>\n",
       "<table border=\"1\" class=\"dataframe\">\n",
       "  <thead>\n",
       "    <tr style=\"text-align: right;\">\n",
       "      <th></th>\n",
       "      <th>Prediction</th>\n",
       "    </tr>\n",
       "  </thead>\n",
       "  <tbody>\n",
       "    <tr>\n",
       "      <th>3503</th>\n",
       "      <td>1.216614</td>\n",
       "    </tr>\n",
       "    <tr>\n",
       "      <th>3504</th>\n",
       "      <td>1.216661</td>\n",
       "    </tr>\n",
       "    <tr>\n",
       "      <th>3505</th>\n",
       "      <td>1.216798</td>\n",
       "    </tr>\n",
       "    <tr>\n",
       "      <th>3506</th>\n",
       "      <td>1.216949</td>\n",
       "    </tr>\n",
       "    <tr>\n",
       "      <th>3507</th>\n",
       "      <td>1.217079</td>\n",
       "    </tr>\n",
       "    <tr>\n",
       "      <th>...</th>\n",
       "      <td>...</td>\n",
       "    </tr>\n",
       "    <tr>\n",
       "      <th>4999</th>\n",
       "      <td>1.176979</td>\n",
       "    </tr>\n",
       "    <tr>\n",
       "      <th>5000</th>\n",
       "      <td>1.177213</td>\n",
       "    </tr>\n",
       "    <tr>\n",
       "      <th>5001</th>\n",
       "      <td>1.177485</td>\n",
       "    </tr>\n",
       "    <tr>\n",
       "      <th>5002</th>\n",
       "      <td>1.177788</td>\n",
       "    </tr>\n",
       "    <tr>\n",
       "      <th>5003</th>\n",
       "      <td>1.178092</td>\n",
       "    </tr>\n",
       "  </tbody>\n",
       "</table>\n",
       "<p>1501 rows × 1 columns</p>\n",
       "</div>"
      ],
      "text/plain": [
       "      Prediction\n",
       "3503    1.216614\n",
       "3504    1.216661\n",
       "3505    1.216798\n",
       "3506    1.216949\n",
       "3507    1.217079\n",
       "...          ...\n",
       "4999    1.176979\n",
       "5000    1.177213\n",
       "5001    1.177485\n",
       "5002    1.177788\n",
       "5003    1.178092\n",
       "\n",
       "[1501 rows x 1 columns]"
      ]
     },
     "execution_count": 304,
     "metadata": {},
     "output_type": "execute_result"
    }
   ],
   "source": [
    "prediction = scaler.inverse_transform(normalized_prediction)\n",
    "#convert the predicted value to be true value\n",
    "prediction_index =np.arange(3506,5006,step=1)\n",
    "#3505 data poiints + 1501 data points in the testing data = 5006 data points\n",
    "\n",
    "df_prediction = pd.DataFrame(data = prediction, index=prediction_index, columns=['Prediction'])\n",
    "#index will predict from 4204 to 6006\n",
    "df_prediction"
   ]
  },
  {
   "cell_type": "markdown",
   "metadata": {},
   "source": [
    "### Visualization"
   ]
  },
  {
   "cell_type": "code",
   "execution_count": 305,
   "metadata": {},
   "outputs": [
    {
     "data": {
      "text/plain": [
       "<matplotlib.axes._subplots.AxesSubplot at 0xefadd29b38>"
      ]
     },
     "execution_count": 305,
     "metadata": {},
     "output_type": "execute_result"
    },
    {
     "data": {
      "image/png": "[encoded data removed]",
      "text/plain": [
       "<matplotlib.figure.Figure at 0xefadd049b0>"
      ]
     },
     "metadata": {
      "needs_background": "light"
     },
     "output_type": "display_data"
    }
   ],
   "source": [
    "ax = data_train.plot()\n",
    "\n",
    "df_prediction.plot(ax=ax, figsize=(8,12))\n",
    "# orange is predicted value\n",
    "#blue is real value that train the dataset"
   ]
  },
  {
   "cell_type": "code",
   "execution_count": 306,
   "metadata": {},
   "outputs": [
    {
     "data": {
      "text/plain": [
       "<matplotlib.axes._subplots.AxesSubplot at 0xefac9d3c88>"
      ]
     },
     "execution_count": 306,
     "metadata": {},
     "output_type": "execute_result"
    },
    {
     "data": {
      "image/png": "[encoded data removed]",
      "text/plain": [
       "<matplotlib.figure.Figure at 0xefaca0b048>"
      ]
     },
     "metadata": {
      "needs_background": "light"
     },
     "output_type": "display_data"
    }
   ],
   "source": [
    "ax = df.plot()\n",
    "\n",
    "df_prediction.plot(ax=ax, figsize=(8,12))\n",
    "# orange is predicted value\n",
    "#blue is real value"
   ]
  },
  {
   "cell_type": "markdown",
   "metadata": {},
   "source": [
    "## Time Series Forecasting with LSTM\n",
    "forecast the future should employ all the avaliable data Not split the data into training/testing"
   ]
  },
  {
   "cell_type": "markdown",
   "metadata": {},
   "source": [
    "### Preprocesses Full Input Dataset"
   ]
  },
  {
   "cell_type": "code",
   "execution_count": 307,
   "metadata": {},
   "outputs": [],
   "source": [
    "full_scaler = MinMaxScaler()\n",
    "normalized_full_data = full_scaler.fit_transform(df)"
   ]
  },
  {
   "cell_type": "markdown",
   "metadata": {},
   "source": [
    "### Create TimeSeriesGenerator for Forecasting"
   ]
  },
  {
   "cell_type": "code",
   "execution_count": 308,
   "metadata": {},
   "outputs": [
    {
     "data": {
      "text/plain": [
       "60"
      ]
     },
     "execution_count": 308,
     "metadata": {},
     "output_type": "execute_result"
    }
   ],
   "source": [
    "length60"
   ]
  },
  {
   "cell_type": "code",
   "execution_count": 309,
   "metadata": {},
   "outputs": [],
   "source": [
    "# the batch =32\n",
    "forecast_tsGenerator = TimeseriesGenerator(normalized_full_data, normalized_full_data, length = length60, batch_size = batch_size32)"
   ]
  },
  {
   "cell_type": "markdown",
   "metadata": {},
   "source": [
    "### Build, Complie, and Fit LSTM Model for Forecasting"
   ]
  },
  {
   "cell_type": "code",
   "execution_count": 310,
   "metadata": {},
   "outputs": [
    {
     "name": "stdout",
     "output_type": "stream",
     "text": [
      "Epoch 1/10\n",
      "155/155 [==============================] - 25s 158ms/step - loss: 8.6627e-04\n",
      "Epoch 2/10\n",
      "155/155 [==============================] - 25s 159ms/step - loss: 8.2629e-04\n",
      "Epoch 3/10\n",
      "155/155 [==============================] - 25s 160ms/step - loss: 0.0010\n",
      "Epoch 4/10\n",
      "155/155 [==============================] - 25s 162ms/step - loss: 8.3798e-04\n",
      "Epoch 5/10\n",
      "155/155 [==============================] - 25s 163ms/step - loss: 7.1469e-04\n",
      "Epoch 6/10\n",
      "155/155 [==============================] - 25s 160ms/step - loss: 0.0013\n",
      "Epoch 7/10\n",
      "155/155 [==============================] - 25s 158ms/step - loss: 7.8405e-04\n",
      "Epoch 8/10\n",
      "155/155 [==============================] - 25s 159ms/step - loss: 9.0454e-04\n",
      "Epoch 9/10\n",
      "155/155 [==============================] - 25s 159ms/step - loss: 7.3982e-04\n",
      "Epoch 10/10\n",
      "155/155 [==============================] - 25s 159ms/step - loss: 8.0596e-04\n"
     ]
    },
    {
     "data": {
      "text/plain": [
       "<tensorflow.python.keras.callbacks.History at 0xefac9b84e0>"
      ]
     },
     "execution_count": 310,
     "metadata": {},
     "output_type": "execute_result"
    }
   ],
   "source": [
    "model.fit_generator(forecast_tsGenerator, epochs = 10)"
   ]
  },
  {
   "cell_type": "code",
   "execution_count": 311,
   "metadata": {},
   "outputs": [
    {
     "data": {
      "text/plain": [
       "<matplotlib.axes._subplots.AxesSubplot at 0xefaca5ca58>"
      ]
     },
     "execution_count": 311,
     "metadata": {},
     "output_type": "execute_result"
    },
    {
     "data": {
      "image/png": "[encoded data removed]",
      "text/plain": [
       "<matplotlib.figure.Figure at 0xefadd47e10>"
      ]
     },
     "metadata": {
      "needs_background": "light"
     },
     "output_type": "display_data"
    }
   ],
   "source": [
    "loss_history_keys = model.history.history.keys()\n",
    "\n",
    "loss_history_keys\n",
    "df_model_loss = pd.DataFrame(model.history.history)\n",
    "\n",
    "df_model_loss.plot()"
   ]
  },
  {
   "cell_type": "markdown",
   "metadata": {},
   "source": [
    "### Time Series Forecasting with LSTM Neural Network: (1/4/2010-12/31/2010)"
   ]
  },
  {
   "cell_type": "code",
   "execution_count": 335,
   "metadata": {},
   "outputs": [],
   "source": [
    "forecast = []\n",
    "periods = 252\n",
    "# days business days (1/4/2010-12/31/2010)\n",
    "\n",
    "first_eval_batch = normalized_full_data[-length60:]\n",
    "current_batch = first_eval_batch.reshape((1,length60,n_features))\n",
    "#The last 60 dataset is the first batch\n",
    "\n",
    "for i in range(periods):\n",
    "    #get prediction 1 time stamp ahead ([0] is for grabbing just the number instead of [array])\n",
    "    current_pred = model.predict(current_batch)[0]\n",
    "    \n",
    "    #store prediction\n",
    "    forecast.append(current_pred)\n",
    "    \n",
    "    current_batch = np.append(current_batch[:,1:,:],[[current_pred]], axis=1)"
   ]
  },
  {
   "cell_type": "markdown",
   "metadata": {},
   "source": [
    "### Invese to Transform Normalized Data Back into True Values"
   ]
  },
  {
   "cell_type": "code",
   "execution_count": 336,
   "metadata": {},
   "outputs": [
    {
     "data": {
      "text/plain": [
       "array([[0.39465696],\n",
       "       [0.39550604],\n",
       "       [0.39613647],\n",
       "       [0.39654377],\n",
       "       [0.39675292],\n",
       "       [0.3968016 ],\n",
       "       [0.39672982],\n",
       "       [0.39657454],\n",
       "       [0.39636705],\n",
       "       [0.3961322 ],\n",
       "       [0.3958886 ],\n",
       "       [0.39564949],\n",
       "       [0.39542358],\n",
       "       [0.39521614],\n",
       "       [0.39502981],\n",
       "       [0.3948654 ],\n",
       "       [0.39472241],\n",
       "       [0.39459947],\n",
       "       [0.39449494],\n",
       "       [0.39440683],\n",
       "       [0.39433309],\n",
       "       [0.39427179],\n",
       "       [0.39422119],\n",
       "       [0.39417958],\n",
       "       [0.3941456 ],\n",
       "       [0.3941179 ],\n",
       "       [0.39409554],\n",
       "       [0.39407745],\n",
       "       [0.39406293],\n",
       "       [0.39405129],\n",
       "       [0.39404206],\n",
       "       [0.39403471],\n",
       "       [0.39402892],\n",
       "       [0.39402436],\n",
       "       [0.39402082],\n",
       "       [0.39401804],\n",
       "       [0.3940159 ],\n",
       "       [0.39401425],\n",
       "       [0.39401301],\n",
       "       [0.39401211],\n",
       "       [0.39401144],\n",
       "       [0.39401091],\n",
       "       [0.39401055],\n",
       "       [0.39401031],\n",
       "       [0.39401017],\n",
       "       [0.39401011],\n",
       "       [0.39401006],\n",
       "       [0.39401003],\n",
       "       [0.39401009],\n",
       "       [0.39401006],\n",
       "       [0.39401008],\n",
       "       [0.39401003],\n",
       "       [0.39401006],\n",
       "       [0.39401003],\n",
       "       [0.39401006],\n",
       "       [0.39401006],\n",
       "       [0.39401006],\n",
       "       [0.39401008],\n",
       "       [0.39401009],\n",
       "       [0.39401013],\n",
       "       [0.39401013],\n",
       "       [0.39401013],\n",
       "       [0.39401013],\n",
       "       [0.39401016],\n",
       "       [0.39401014],\n",
       "       [0.39401016],\n",
       "       [0.39401016],\n",
       "       [0.39401016],\n",
       "       [0.39401016],\n",
       "       [0.39401016],\n",
       "       [0.39401016],\n",
       "       [0.39401016],\n",
       "       [0.39401016],\n",
       "       [0.39401016],\n",
       "       [0.39401019],\n",
       "       [0.39401016],\n",
       "       [0.39401019],\n",
       "       [0.39401019],\n",
       "       [0.39401019],\n",
       "       [0.39401019],\n",
       "       [0.39401019],\n",
       "       [0.39401019],\n",
       "       [0.39401019],\n",
       "       [0.39401019],\n",
       "       [0.39401019],\n",
       "       [0.39401019],\n",
       "       [0.39401019],\n",
       "       [0.39401019],\n",
       "       [0.39401019],\n",
       "       [0.39401019],\n",
       "       [0.39401019],\n",
       "       [0.39401019],\n",
       "       [0.39401019],\n",
       "       [0.39401019],\n",
       "       [0.39401019],\n",
       "       [0.39401019],\n",
       "       [0.39401019],\n",
       "       [0.39401019],\n",
       "       [0.39401019],\n",
       "       [0.39401019],\n",
       "       [0.39401019],\n",
       "       [0.39401019],\n",
       "       [0.39401019],\n",
       "       [0.39401019],\n",
       "       [0.39401019],\n",
       "       [0.39401019],\n",
       "       [0.39401019],\n",
       "       [0.39401019],\n",
       "       [0.39401019],\n",
       "       [0.39401019],\n",
       "       [0.39401019],\n",
       "       [0.39401019],\n",
       "       [0.39401019],\n",
       "       [0.39401019],\n",
       "       [0.39401019],\n",
       "       [0.39401019],\n",
       "       [0.39401019],\n",
       "       [0.39401019],\n",
       "       [0.39401019],\n",
       "       [0.39401019],\n",
       "       [0.39401019],\n",
       "       [0.39401019],\n",
       "       [0.39401019],\n",
       "       [0.39401019],\n",
       "       [0.39401019],\n",
       "       [0.39401019],\n",
       "       [0.39401019],\n",
       "       [0.39401019],\n",
       "       [0.39401019],\n",
       "       [0.39401019],\n",
       "       [0.39401019],\n",
       "       [0.39401019],\n",
       "       [0.39401019],\n",
       "       [0.39401019],\n",
       "       [0.39401019],\n",
       "       [0.39401019],\n",
       "       [0.39401019],\n",
       "       [0.39401019],\n",
       "       [0.39401019],\n",
       "       [0.39401019],\n",
       "       [0.39401019],\n",
       "       [0.39401019],\n",
       "       [0.39401019],\n",
       "       [0.39401019],\n",
       "       [0.39401019],\n",
       "       [0.39401019],\n",
       "       [0.39401019],\n",
       "       [0.39401019],\n",
       "       [0.39401019],\n",
       "       [0.39401019],\n",
       "       [0.39401019],\n",
       "       [0.39401019],\n",
       "       [0.39401019],\n",
       "       [0.39401019],\n",
       "       [0.39401019],\n",
       "       [0.39401019],\n",
       "       [0.39401019],\n",
       "       [0.39401019],\n",
       "       [0.39401019],\n",
       "       [0.39401019],\n",
       "       [0.39401019],\n",
       "       [0.39401019],\n",
       "       [0.39401019],\n",
       "       [0.39401019],\n",
       "       [0.39401019],\n",
       "       [0.39401019],\n",
       "       [0.39401019],\n",
       "       [0.39401019],\n",
       "       [0.39401019],\n",
       "       [0.39401019],\n",
       "       [0.39401019],\n",
       "       [0.39401019],\n",
       "       [0.39401019],\n",
       "       [0.39401019],\n",
       "       [0.39401019],\n",
       "       [0.39401019],\n",
       "       [0.39401019],\n",
       "       [0.39401019],\n",
       "       [0.39401019],\n",
       "       [0.39401019],\n",
       "       [0.39401019],\n",
       "       [0.39401019],\n",
       "       [0.39401019],\n",
       "       [0.39401019],\n",
       "       [0.39401019],\n",
       "       [0.39401019],\n",
       "       [0.39401019],\n",
       "       [0.39401019],\n",
       "       [0.39401019],\n",
       "       [0.39401019],\n",
       "       [0.39401019],\n",
       "       [0.39401019],\n",
       "       [0.39401019],\n",
       "       [0.39401019],\n",
       "       [0.39401019],\n",
       "       [0.39401019],\n",
       "       [0.39401019],\n",
       "       [0.39401019],\n",
       "       [0.39401019],\n",
       "       [0.39401019],\n",
       "       [0.39401019],\n",
       "       [0.39401019],\n",
       "       [0.39401019],\n",
       "       [0.39401019],\n",
       "       [0.39401019],\n",
       "       [0.39401019],\n",
       "       [0.39401019],\n",
       "       [0.39401019],\n",
       "       [0.39401019],\n",
       "       [0.39401019],\n",
       "       [0.39401019],\n",
       "       [0.39401019],\n",
       "       [0.39401019],\n",
       "       [0.39401019],\n",
       "       [0.39401019],\n",
       "       [0.39401019],\n",
       "       [0.39401019],\n",
       "       [0.39401019],\n",
       "       [0.39401019],\n",
       "       [0.39401019],\n",
       "       [0.39401019],\n",
       "       [0.39401019],\n",
       "       [0.39401019],\n",
       "       [0.39401019],\n",
       "       [0.39401019],\n",
       "       [0.39401019],\n",
       "       [0.39401019],\n",
       "       [0.39401019],\n",
       "       [0.39401019],\n",
       "       [0.39401019],\n",
       "       [0.39401019],\n",
       "       [0.39401019],\n",
       "       [0.39401019],\n",
       "       [0.39401019],\n",
       "       [0.39401019],\n",
       "       [0.39401019],\n",
       "       [0.39401019],\n",
       "       [0.39401019],\n",
       "       [0.39401019],\n",
       "       [0.39401019],\n",
       "       [0.39401019],\n",
       "       [0.39401019],\n",
       "       [0.39401019],\n",
       "       [0.39401019],\n",
       "       [0.39401019],\n",
       "       [0.39401019],\n",
       "       [0.39401019],\n",
       "       [0.39401019],\n",
       "       [0.39401019],\n",
       "       [0.39401019],\n",
       "       [0.39401019],\n",
       "       [0.39401019]])"
      ]
     },
     "execution_count": 336,
     "metadata": {},
     "output_type": "execute_result"
    }
   ],
   "source": [
    "forecast = full_scaler.inverse_transform(forecast)\n",
    "forecast"
   ]
  },
  {
   "cell_type": "code",
   "execution_count": 337,
   "metadata": {},
   "outputs": [
    {
     "data": {
      "text/html": [
       "<div>\n",
       "<style scoped>\n",
       "    .dataframe tbody tr th:only-of-type {\n",
       "        vertical-align: middle;\n",
       "    }\n",
       "\n",
       "    .dataframe tbody tr th {\n",
       "        vertical-align: top;\n",
       "    }\n",
       "\n",
       "    .dataframe thead th {\n",
       "        text-align: right;\n",
       "    }\n",
       "</style>\n",
       "<table border=\"1\" class=\"dataframe\">\n",
       "  <thead>\n",
       "    <tr style=\"text-align: right;\">\n",
       "      <th></th>\n",
       "      <th>1 Yr</th>\n",
       "    </tr>\n",
       "  </thead>\n",
       "  <tbody>\n",
       "    <tr>\n",
       "      <th>0</th>\n",
       "      <td>7.81</td>\n",
       "    </tr>\n",
       "    <tr>\n",
       "      <th>1</th>\n",
       "      <td>7.85</td>\n",
       "    </tr>\n",
       "    <tr>\n",
       "      <th>2</th>\n",
       "      <td>7.82</td>\n",
       "    </tr>\n",
       "    <tr>\n",
       "      <th>3</th>\n",
       "      <td>7.79</td>\n",
       "    </tr>\n",
       "    <tr>\n",
       "      <th>4</th>\n",
       "      <td>7.81</td>\n",
       "    </tr>\n",
       "    <tr>\n",
       "      <th>...</th>\n",
       "      <td>...</td>\n",
       "    </tr>\n",
       "    <tr>\n",
       "      <th>4999</th>\n",
       "      <td>0.43</td>\n",
       "    </tr>\n",
       "    <tr>\n",
       "      <th>5000</th>\n",
       "      <td>0.47</td>\n",
       "    </tr>\n",
       "    <tr>\n",
       "      <th>5001</th>\n",
       "      <td>0.47</td>\n",
       "    </tr>\n",
       "    <tr>\n",
       "      <th>5002</th>\n",
       "      <td>0.45</td>\n",
       "    </tr>\n",
       "    <tr>\n",
       "      <th>5003</th>\n",
       "      <td>0.47</td>\n",
       "    </tr>\n",
       "  </tbody>\n",
       "</table>\n",
       "<p>5004 rows × 1 columns</p>\n",
       "</div>"
      ],
      "text/plain": [
       "      1 Yr\n",
       "0     7.81\n",
       "1     7.85\n",
       "2     7.82\n",
       "3     7.79\n",
       "4     7.81\n",
       "...    ...\n",
       "4999  0.43\n",
       "5000  0.47\n",
       "5001  0.47\n",
       "5002  0.45\n",
       "5003  0.47\n",
       "\n",
       "[5004 rows x 1 columns]"
      ]
     },
     "execution_count": 337,
     "metadata": {},
     "output_type": "execute_result"
    }
   ],
   "source": [
    "df"
   ]
  },
  {
   "cell_type": "markdown",
   "metadata": {},
   "source": [
    "### Create new timestamp index with pandas:07/01/20-12/15/2019"
   ]
  },
  {
   "cell_type": "code",
   "execution_count": 362,
   "metadata": {},
   "outputs": [],
   "source": [
    "forecast_index = np.arange(5004,5255, step=1)"
   ]
  },
  {
   "cell_type": "code",
   "execution_count": 363,
   "metadata": {},
   "outputs": [
    {
     "data": {
      "text/html": [
       "<div>\n",
       "<style scoped>\n",
       "    .dataframe tbody tr th:only-of-type {\n",
       "        vertical-align: middle;\n",
       "    }\n",
       "\n",
       "    .dataframe tbody tr th {\n",
       "        vertical-align: top;\n",
       "    }\n",
       "\n",
       "    .dataframe thead th {\n",
       "        text-align: right;\n",
       "    }\n",
       "</style>\n",
       "<table border=\"1\" class=\"dataframe\">\n",
       "  <thead>\n",
       "    <tr style=\"text-align: right;\">\n",
       "      <th></th>\n",
       "      <th>Forecast</th>\n",
       "    </tr>\n",
       "  </thead>\n",
       "  <tbody>\n",
       "    <tr>\n",
       "      <th>5004</th>\n",
       "      <td>0.394657</td>\n",
       "    </tr>\n",
       "    <tr>\n",
       "      <th>5005</th>\n",
       "      <td>0.395506</td>\n",
       "    </tr>\n",
       "    <tr>\n",
       "      <th>5006</th>\n",
       "      <td>0.396136</td>\n",
       "    </tr>\n",
       "    <tr>\n",
       "      <th>5007</th>\n",
       "      <td>0.396544</td>\n",
       "    </tr>\n",
       "    <tr>\n",
       "      <th>5008</th>\n",
       "      <td>0.396753</td>\n",
       "    </tr>\n",
       "    <tr>\n",
       "      <th>...</th>\n",
       "      <td>...</td>\n",
       "    </tr>\n",
       "    <tr>\n",
       "      <th>5251</th>\n",
       "      <td>0.394010</td>\n",
       "    </tr>\n",
       "    <tr>\n",
       "      <th>5252</th>\n",
       "      <td>0.394010</td>\n",
       "    </tr>\n",
       "    <tr>\n",
       "      <th>5253</th>\n",
       "      <td>0.394010</td>\n",
       "    </tr>\n",
       "    <tr>\n",
       "      <th>5254</th>\n",
       "      <td>0.394010</td>\n",
       "    </tr>\n",
       "    <tr>\n",
       "      <th>5255</th>\n",
       "      <td>0.394010</td>\n",
       "    </tr>\n",
       "  </tbody>\n",
       "</table>\n",
       "<p>252 rows × 1 columns</p>\n",
       "</div>"
      ],
      "text/plain": [
       "      Forecast\n",
       "5004  0.394657\n",
       "5005  0.395506\n",
       "5006  0.396136\n",
       "5007  0.396544\n",
       "5008  0.396753\n",
       "...        ...\n",
       "5251  0.394010\n",
       "5252  0.394010\n",
       "5253  0.394010\n",
       "5254  0.394010\n",
       "5255  0.394010\n",
       "\n",
       "[252 rows x 1 columns]"
      ]
     },
     "execution_count": 363,
     "metadata": {},
     "output_type": "execute_result"
    }
   ],
   "source": [
    "forecast_df = pd.DataFrame(data=forecast, index = forecast_index, columns=['Forecast'])\n",
    "forecast_df"
   ]
  },
  {
   "cell_type": "code",
   "execution_count": 364,
   "metadata": {},
   "outputs": [
    {
     "data": {
      "text/plain": [
       "<matplotlib.axes._subplots.AxesSubplot at 0xefade832b0>"
      ]
     },
     "execution_count": 364,
     "metadata": {},
     "output_type": "execute_result"
    },
    {
     "data": {
      "image/png": "[encoded data removed]",
      "text/plain": [
       "<matplotlib.figure.Figure at 0xefade623c8>"
      ]
     },
     "metadata": {
      "needs_background": "light"
     },
     "output_type": "display_data"
    },
    {
     "data": {
      "image/png": "[encoded data removed]",
      "text/plain": [
       "<matplotlib.figure.Figure at 0xefade62358>"
      ]
     },
     "metadata": {
      "needs_background": "light"
     },
     "output_type": "display_data"
    }
   ],
   "source": [
    "df.plot()\n",
    "forecast_df.plot()"
   ]
  },
  {
   "cell_type": "code",
   "execution_count": 365,
   "metadata": {},
   "outputs": [
    {
     "data": {
      "text/plain": [
       "<matplotlib.axes._subplots.AxesSubplot at 0xefb1f6be10>"
      ]
     },
     "execution_count": 365,
     "metadata": {},
     "output_type": "execute_result"
    },
    {
     "data": {
      "image/png": "[encoded data removed]",
      "text/plain": [
       "<matplotlib.figure.Figure at 0xefb1f7ea20>"
      ]
     },
     "metadata": {
      "needs_background": "light"
     },
     "output_type": "display_data"
    }
   ],
   "source": [
    "ax = df.plot()\n",
    "forecast_df.plot(ax = ax, figsize=(12,8))"
   ]
  },
  {
   "cell_type": "code",
   "execution_count": 366,
   "metadata": {},
   "outputs": [],
   "source": [
    "dir_path_dataset_2 = 'prediction.csv'"
   ]
  },
  {
   "cell_type": "code",
   "execution_count": 367,
   "metadata": {},
   "outputs": [],
   "source": [
    "df_all_predicting = pd.read_csv(dir_path_dataset_2)"
   ]
  },
  {
   "cell_type": "code",
   "execution_count": 368,
   "metadata": {},
   "outputs": [
    {
     "data": {
      "text/html": [
       "<div>\n",
       "<style scoped>\n",
       "    .dataframe tbody tr th:only-of-type {\n",
       "        vertical-align: middle;\n",
       "    }\n",
       "\n",
       "    .dataframe tbody tr th {\n",
       "        vertical-align: top;\n",
       "    }\n",
       "\n",
       "    .dataframe thead th {\n",
       "        text-align: right;\n",
       "    }\n",
       "</style>\n",
       "<table border=\"1\" class=\"dataframe\">\n",
       "  <thead>\n",
       "    <tr style=\"text-align: right;\">\n",
       "      <th></th>\n",
       "      <th>Date</th>\n",
       "      <th>1 Mo</th>\n",
       "      <th>2 Mo</th>\n",
       "      <th>3 Mo</th>\n",
       "      <th>6 Mo</th>\n",
       "      <th>1 Yr</th>\n",
       "      <th>2 Yr</th>\n",
       "      <th>3 Yr</th>\n",
       "      <th>5 Yr</th>\n",
       "      <th>7 Yr</th>\n",
       "      <th>10 Yr</th>\n",
       "      <th>20 Yr</th>\n",
       "      <th>30 Yr</th>\n",
       "    </tr>\n",
       "  </thead>\n",
       "  <tbody>\n",
       "    <tr>\n",
       "      <th>0</th>\n",
       "      <td>1/4/2010</td>\n",
       "      <td>0.05</td>\n",
       "      <td>NaN</td>\n",
       "      <td>0.08</td>\n",
       "      <td>0.18</td>\n",
       "      <td>0.45</td>\n",
       "      <td>1.09</td>\n",
       "      <td>1.66</td>\n",
       "      <td>2.65</td>\n",
       "      <td>3.36</td>\n",
       "      <td>3.85</td>\n",
       "      <td>4.60</td>\n",
       "      <td>4.65</td>\n",
       "    </tr>\n",
       "    <tr>\n",
       "      <th>1</th>\n",
       "      <td>1/5/2010</td>\n",
       "      <td>0.03</td>\n",
       "      <td>NaN</td>\n",
       "      <td>0.07</td>\n",
       "      <td>0.17</td>\n",
       "      <td>0.41</td>\n",
       "      <td>1.01</td>\n",
       "      <td>1.57</td>\n",
       "      <td>2.56</td>\n",
       "      <td>3.28</td>\n",
       "      <td>3.77</td>\n",
       "      <td>4.54</td>\n",
       "      <td>4.59</td>\n",
       "    </tr>\n",
       "    <tr>\n",
       "      <th>2</th>\n",
       "      <td>1/6/2010</td>\n",
       "      <td>0.03</td>\n",
       "      <td>NaN</td>\n",
       "      <td>0.06</td>\n",
       "      <td>0.15</td>\n",
       "      <td>0.40</td>\n",
       "      <td>1.01</td>\n",
       "      <td>1.60</td>\n",
       "      <td>2.60</td>\n",
       "      <td>3.33</td>\n",
       "      <td>3.85</td>\n",
       "      <td>4.63</td>\n",
       "      <td>4.70</td>\n",
       "    </tr>\n",
       "    <tr>\n",
       "      <th>3</th>\n",
       "      <td>1/7/2010</td>\n",
       "      <td>0.02</td>\n",
       "      <td>NaN</td>\n",
       "      <td>0.05</td>\n",
       "      <td>0.16</td>\n",
       "      <td>0.40</td>\n",
       "      <td>1.03</td>\n",
       "      <td>1.62</td>\n",
       "      <td>2.62</td>\n",
       "      <td>3.33</td>\n",
       "      <td>3.85</td>\n",
       "      <td>4.62</td>\n",
       "      <td>4.69</td>\n",
       "    </tr>\n",
       "    <tr>\n",
       "      <th>4</th>\n",
       "      <td>1/8/2010</td>\n",
       "      <td>0.02</td>\n",
       "      <td>NaN</td>\n",
       "      <td>0.05</td>\n",
       "      <td>0.15</td>\n",
       "      <td>0.37</td>\n",
       "      <td>0.96</td>\n",
       "      <td>1.56</td>\n",
       "      <td>2.57</td>\n",
       "      <td>3.31</td>\n",
       "      <td>3.83</td>\n",
       "      <td>4.61</td>\n",
       "      <td>4.70</td>\n",
       "    </tr>\n",
       "  </tbody>\n",
       "</table>\n",
       "</div>"
      ],
      "text/plain": [
       "       Date  1 Mo  2 Mo  3 Mo  6 Mo  1 Yr  2 Yr  3 Yr  5 Yr  7 Yr  10 Yr  \\\n",
       "0  1/4/2010  0.05   NaN  0.08  0.18  0.45  1.09  1.66  2.65  3.36   3.85   \n",
       "1  1/5/2010  0.03   NaN  0.07  0.17  0.41  1.01  1.57  2.56  3.28   3.77   \n",
       "2  1/6/2010  0.03   NaN  0.06  0.15  0.40  1.01  1.60  2.60  3.33   3.85   \n",
       "3  1/7/2010  0.02   NaN  0.05  0.16  0.40  1.03  1.62  2.62  3.33   3.85   \n",
       "4  1/8/2010  0.02   NaN  0.05  0.15  0.37  0.96  1.56  2.57  3.31   3.83   \n",
       "\n",
       "   20 Yr  30 Yr  \n",
       "0   4.60   4.65  \n",
       "1   4.54   4.59  \n",
       "2   4.63   4.70  \n",
       "3   4.62   4.69  \n",
       "4   4.61   4.70  "
      ]
     },
     "execution_count": 368,
     "metadata": {},
     "output_type": "execute_result"
    }
   ],
   "source": [
    "df_all_predicting.head()"
   ]
  },
  {
   "cell_type": "code",
   "execution_count": 369,
   "metadata": {},
   "outputs": [],
   "source": [
    "df_all_predicting = df_all_predicting.iloc[:,5:6]"
   ]
  },
  {
   "cell_type": "code",
   "execution_count": 370,
   "metadata": {},
   "outputs": [
    {
     "data": {
      "text/html": [
       "<div>\n",
       "<style scoped>\n",
       "    .dataframe tbody tr th:only-of-type {\n",
       "        vertical-align: middle;\n",
       "    }\n",
       "\n",
       "    .dataframe tbody tr th {\n",
       "        vertical-align: top;\n",
       "    }\n",
       "\n",
       "    .dataframe thead th {\n",
       "        text-align: right;\n",
       "    }\n",
       "</style>\n",
       "<table border=\"1\" class=\"dataframe\">\n",
       "  <thead>\n",
       "    <tr style=\"text-align: right;\">\n",
       "      <th></th>\n",
       "      <th>1 Yr</th>\n",
       "    </tr>\n",
       "  </thead>\n",
       "  <tbody>\n",
       "    <tr>\n",
       "      <th>0</th>\n",
       "      <td>0.45</td>\n",
       "    </tr>\n",
       "    <tr>\n",
       "      <th>1</th>\n",
       "      <td>0.41</td>\n",
       "    </tr>\n",
       "    <tr>\n",
       "      <th>2</th>\n",
       "      <td>0.40</td>\n",
       "    </tr>\n",
       "    <tr>\n",
       "      <th>3</th>\n",
       "      <td>0.40</td>\n",
       "    </tr>\n",
       "    <tr>\n",
       "      <th>4</th>\n",
       "      <td>0.37</td>\n",
       "    </tr>\n",
       "    <tr>\n",
       "      <th>...</th>\n",
       "      <td>...</td>\n",
       "    </tr>\n",
       "    <tr>\n",
       "      <th>247</th>\n",
       "      <td>0.32</td>\n",
       "    </tr>\n",
       "    <tr>\n",
       "      <th>248</th>\n",
       "      <td>0.31</td>\n",
       "    </tr>\n",
       "    <tr>\n",
       "      <th>249</th>\n",
       "      <td>0.30</td>\n",
       "    </tr>\n",
       "    <tr>\n",
       "      <th>250</th>\n",
       "      <td>0.29</td>\n",
       "    </tr>\n",
       "    <tr>\n",
       "      <th>251</th>\n",
       "      <td>0.29</td>\n",
       "    </tr>\n",
       "  </tbody>\n",
       "</table>\n",
       "<p>252 rows × 1 columns</p>\n",
       "</div>"
      ],
      "text/plain": [
       "     1 Yr\n",
       "0    0.45\n",
       "1    0.41\n",
       "2    0.40\n",
       "3    0.40\n",
       "4    0.37\n",
       "..    ...\n",
       "247  0.32\n",
       "248  0.31\n",
       "249  0.30\n",
       "250  0.29\n",
       "251  0.29\n",
       "\n",
       "[252 rows x 1 columns]"
      ]
     },
     "execution_count": 370,
     "metadata": {},
     "output_type": "execute_result"
    }
   ],
   "source": [
    "df_all_predicting"
   ]
  },
  {
   "cell_type": "code",
   "execution_count": 371,
   "metadata": {},
   "outputs": [
    {
     "data": {
      "text/plain": [
       "<matplotlib.axes._subplots.AxesSubplot at 0xefade77240>"
      ]
     },
     "execution_count": 371,
     "metadata": {},
     "output_type": "execute_result"
    },
    {
     "data": {
      "image/png": "[encoded data removed]",
      "text/plain": [
       "<matplotlib.figure.Figure at 0xefb1f52ba8>"
      ]
     },
     "metadata": {
      "needs_background": "light"
     },
     "output_type": "display_data"
    }
   ],
   "source": [
    "df_all_predicting.plot()"
   ]
  },
  {
   "cell_type": "code",
   "execution_count": 372,
   "metadata": {},
   "outputs": [
    {
     "data": {
      "text/plain": [
       "array([0.39465696, 0.39550604, 0.39613647, 0.39654377, 0.39675292,\n",
       "       0.3968016 , 0.39672982, 0.39657454, 0.39636705, 0.3961322 ,\n",
       "       0.3958886 , 0.39564949, 0.39542358, 0.39521614, 0.39502981,\n",
       "       0.3948654 , 0.39472241, 0.39459947, 0.39449494, 0.39440683,\n",
       "       0.39433309, 0.39427179, 0.39422119, 0.39417958, 0.3941456 ,\n",
       "       0.3941179 , 0.39409554, 0.39407745, 0.39406293, 0.39405129,\n",
       "       0.39404206, 0.39403471, 0.39402892, 0.39402436, 0.39402082,\n",
       "       0.39401804, 0.3940159 , 0.39401425, 0.39401301, 0.39401211,\n",
       "       0.39401144, 0.39401091, 0.39401055, 0.39401031, 0.39401017,\n",
       "       0.39401011, 0.39401006, 0.39401003, 0.39401009, 0.39401006,\n",
       "       0.39401008, 0.39401003, 0.39401006, 0.39401003, 0.39401006,\n",
       "       0.39401006, 0.39401006, 0.39401008, 0.39401009, 0.39401013,\n",
       "       0.39401013, 0.39401013, 0.39401013, 0.39401016, 0.39401014,\n",
       "       0.39401016, 0.39401016, 0.39401016, 0.39401016, 0.39401016,\n",
       "       0.39401016, 0.39401016, 0.39401016, 0.39401016, 0.39401019,\n",
       "       0.39401016, 0.39401019, 0.39401019, 0.39401019, 0.39401019,\n",
       "       0.39401019, 0.39401019, 0.39401019, 0.39401019, 0.39401019,\n",
       "       0.39401019, 0.39401019, 0.39401019, 0.39401019, 0.39401019,\n",
       "       0.39401019, 0.39401019, 0.39401019, 0.39401019, 0.39401019,\n",
       "       0.39401019, 0.39401019, 0.39401019, 0.39401019, 0.39401019,\n",
       "       0.39401019, 0.39401019, 0.39401019, 0.39401019, 0.39401019,\n",
       "       0.39401019, 0.39401019, 0.39401019, 0.39401019, 0.39401019,\n",
       "       0.39401019, 0.39401019, 0.39401019, 0.39401019, 0.39401019,\n",
       "       0.39401019, 0.39401019, 0.39401019, 0.39401019, 0.39401019,\n",
       "       0.39401019, 0.39401019, 0.39401019, 0.39401019, 0.39401019,\n",
       "       0.39401019, 0.39401019, 0.39401019, 0.39401019, 0.39401019,\n",
       "       0.39401019, 0.39401019, 0.39401019, 0.39401019, 0.39401019,\n",
       "       0.39401019, 0.39401019, 0.39401019, 0.39401019, 0.39401019,\n",
       "       0.39401019, 0.39401019, 0.39401019, 0.39401019, 0.39401019,\n",
       "       0.39401019, 0.39401019, 0.39401019, 0.39401019, 0.39401019,\n",
       "       0.39401019, 0.39401019, 0.39401019, 0.39401019, 0.39401019,\n",
       "       0.39401019, 0.39401019, 0.39401019, 0.39401019, 0.39401019,\n",
       "       0.39401019, 0.39401019, 0.39401019, 0.39401019, 0.39401019,\n",
       "       0.39401019, 0.39401019, 0.39401019, 0.39401019, 0.39401019,\n",
       "       0.39401019, 0.39401019, 0.39401019, 0.39401019, 0.39401019,\n",
       "       0.39401019, 0.39401019, 0.39401019, 0.39401019, 0.39401019,\n",
       "       0.39401019, 0.39401019, 0.39401019, 0.39401019, 0.39401019,\n",
       "       0.39401019, 0.39401019, 0.39401019, 0.39401019, 0.39401019,\n",
       "       0.39401019, 0.39401019, 0.39401019, 0.39401019, 0.39401019,\n",
       "       0.39401019, 0.39401019, 0.39401019, 0.39401019, 0.39401019,\n",
       "       0.39401019, 0.39401019, 0.39401019, 0.39401019, 0.39401019,\n",
       "       0.39401019, 0.39401019, 0.39401019, 0.39401019, 0.39401019,\n",
       "       0.39401019, 0.39401019, 0.39401019, 0.39401019, 0.39401019,\n",
       "       0.39401019, 0.39401019, 0.39401019, 0.39401019, 0.39401019,\n",
       "       0.39401019, 0.39401019, 0.39401019, 0.39401019, 0.39401019,\n",
       "       0.39401019, 0.39401019, 0.39401019, 0.39401019, 0.39401019,\n",
       "       0.39401019, 0.39401019, 0.39401019, 0.39401019, 0.39401019,\n",
       "       0.39401019, 0.39401019, 0.39401019, 0.39401019, 0.39401019,\n",
       "       0.39401019, 0.39401019, 0.39401019, 0.39401019, 0.39401019,\n",
       "       0.39401019, 0.39401019, 0.39401019, 0.39401019, 0.39401019,\n",
       "       0.39401019, 0.39401019])"
      ]
     },
     "execution_count": 372,
     "metadata": {},
     "output_type": "execute_result"
    }
   ],
   "source": [
    "forecast_df['Forecast'].values"
   ]
  },
  {
   "cell_type": "code",
   "execution_count": 373,
   "metadata": {},
   "outputs": [
    {
     "data": {
      "text/plain": [
       "<matplotlib.axes._subplots.AxesSubplot at 0xefb1fc3c50>"
      ]
     },
     "execution_count": 373,
     "metadata": {},
     "output_type": "execute_result"
    },
    {
     "data": {
      "image/png": "[encoded data removed]",
      "text/plain": [
       "<matplotlib.figure.Figure at 0xefb20145f8>"
      ]
     },
     "metadata": {
      "needs_background": "light"
     },
     "output_type": "display_data"
    }
   ],
   "source": [
    "df_all_predicting['Forecast'] = forecast_df['Forecast'].values\n",
    "df_all_predicting.plot()"
   ]
  }
 ],
 "metadata": {
  "kernelspec": {
   "display_name": "Python 3",
   "language": "python",
   "name": "python3"
  },
  "language_info": {
   "codemirror_mode": {
    "name": "ipython",
    "version": 3
   },
   "file_extension": ".py",
   "mimetype": "text/x-python",
   "name": "python",
   "nbconvert_exporter": "python",
   "pygments_lexer": "ipython3",
   "version": "3.6.4"
  }
 },
 "nbformat": 4,
 "nbformat_minor": 2
}
